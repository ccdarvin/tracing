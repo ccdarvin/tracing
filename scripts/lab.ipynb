{
 "cells": [
  {
   "cell_type": "code",
   "execution_count": 3,
   "metadata": {},
   "outputs": [],
   "source": [
    "from core.models import r, Game, RelatedGame\n",
    "from core.config import get_settings\n",
    "from redis.commands.search.query import Query, NumericFilter\n",
    "from redis.commands.search import aggregation\n",
    "from redis.commands.search import reducers\n",
    "from datetime import datetime, timezone\n",
    "from scrapings.base import ScrapingBase\n",
    "from scrapings import tonybet\n",
    "from scrapings import dafabet\n",
    "import websocket"
   ]
  },
  {
   "cell_type": "code",
   "execution_count": 11,
   "metadata": {},
   "outputs": [],
   "source": [
    "settings = get_settings()\n",
    "url = 'https://www.dafabet.com/es/dfgoal/sports/240-football/23234-international/212108-world-cup/37234773-daily-odds-booster/event-36195030-croatia-vs-morocco'\n",
    "uri = f'{settings.WS}/games/dafabet.com?game_id={url}'"
   ]
  },
  {
   "cell_type": "code",
   "execution_count": 16,
   "metadata": {},
   "outputs": [],
   "source": [
    "ws_bet = websocket.WebSocket()\n",
    "ws_bet.connect(uri)"
   ]
  },
  {
   "cell_type": "code",
   "execution_count": 8,
   "metadata": {},
   "outputs": [
    {
     "name": "stdout",
     "output_type": "stream",
     "text": [
      "2022-12-17t12:43:50.222772+00:00\n",
      "2022-12-17t12:43:55.444220+00:00\n",
      "2022-12-18t16:01:04.507669+00:00\n",
      "2022-12-18t16:01:04.699281+00:00\n",
      "2022-12-19t03:56:05.224887+00:00\n",
      "2022-12-19t03:56:05.269861+00:00\n",
      "2022-12-19t03:57:04.441101+00:00\n",
      "2022-12-19t03:57:04.473300+00:00\n",
      "2022-12-19t04:05:53.269129+00:00\n",
      "2022-12-19t04:05:53.269140+00:00\n"
     ]
    }
   ],
   "source": [
    "for doc in r.ft('idxGames').search(Query('@related:{true}').sort_by('lastScraping').paging(0, 10)).docs:\n",
    "    print(doc.lastScraping)"
   ]
  }
 ],
 "metadata": {
  "kernelspec": {
   "display_name": "Python 3.10.7 ('.env': venv)",
   "language": "python",
   "name": "python3"
  },
  "language_info": {
   "codemirror_mode": {
    "name": "ipython",
    "version": 3
   },
   "file_extension": ".py",
   "mimetype": "text/x-python",
   "name": "python",
   "nbconvert_exporter": "python",
   "pygments_lexer": "ipython3",
   "version": "3.10.7"
  },
  "orig_nbformat": 4,
  "vscode": {
   "interpreter": {
    "hash": "d93b7cf8377a7b4b70e5aacb35380c6fb24fe780e3e5e5dda0f77aaf50ba8a4e"
   }
  }
 },
 "nbformat": 4,
 "nbformat_minor": 2
}
