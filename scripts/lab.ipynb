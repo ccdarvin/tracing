{
 "cells": [
  {
   "cell_type": "code",
   "execution_count": null,
   "metadata": {},
   "outputs": [],
   "source": [
    "import websocket\n",
    "import json\n",
    "from urllib.parse import quote"
   ]
  },
  {
   "cell_type": "code",
   "execution_count": null,
   "metadata": {},
   "outputs": [],
   "source": [
    "ws = websocket.WebSocket()\n",
    "website_id='google.com'\n",
    "ws.connect(f'wss://plankton-app-5rfza.ondigitalocean.app/websites?scraping={website_id}')\n",
    "ws.recv()"
   ]
  },
  {
   "cell_type": "code",
   "execution_count": null,
   "metadata": {},
   "outputs": [],
   "source": [
    "ws.close()"
   ]
  },
  {
   "cell_type": "code",
   "execution_count": null,
   "metadata": {},
   "outputs": [],
   "source": [
    "ws = websocket.WebSocket()\n",
    "page_id = 'https://betway.com/es/sports/evt/10647401'\n",
    "website_id='betway.com'\n",
    "# uri = 'wss://plankton-app-5rfza.ondigitalocean.app'\n",
    "uri='ws://localhost:8000'\n",
    "ws.connect(f'{uri}/games/{website_id}?game_id={page_id}')\n",
    "ws.recv()"
   ]
  },
  {
   "cell_type": "code",
   "execution_count": null,
   "metadata": {},
   "outputs": [],
   "source": []
  },
  {
   "cell_type": "code",
   "execution_count": null,
   "metadata": {},
   "outputs": [],
   "source": [
    "from core.models import r\n",
    "from redis.commands.search.query import Query, NumericFilter"
   ]
  },
  {
   "cell_type": "code",
   "execution_count": null,
   "metadata": {},
   "outputs": [],
   "source": [
    "r.ft('idxGames').search(Query('@scraping:{true}').paging(0, 5))"
   ]
  },
  {
   "cell_type": "code",
   "execution_count": 10,
   "metadata": {},
   "outputs": [],
   "source": [
    "from core.webdriver import init_driver\n",
    "from selenium.webdriver.common.by import By\n",
    "from core.models import Bet\n",
    "driver = init_driver()\n",
    "url='https://betway.com/es/sports/evt/10682257'\n",
    "driver.get(url)"
   ]
  },
  {
   "cell_type": "code",
   "execution_count": 20,
   "metadata": {},
   "outputs": [
    {
     "ename": "SyntaxError",
     "evalue": "invalid syntax. Perhaps you forgot a comma? (2879862164.py, line 25)",
     "output_type": "error",
     "traceback": [
      "\u001b[1;36m  Cell \u001b[1;32mIn[20], line 25\u001b[1;36m\u001b[0m\n\u001b[1;33m    id=f'{group}_{name}'.replace(' ', '-').lower()\u001b[0m\n\u001b[1;37m       ^\u001b[0m\n\u001b[1;31mSyntaxError\u001b[0m\u001b[1;31m:\u001b[0m invalid syntax. Perhaps you forgot a comma?\n"
     ]
    }
   ],
   "source": [
    "def get_bids(page_url):\n",
    "    for elm in driver.find_elements(By.CSS_SELECTOR, '.collapsablePanel'):\n",
    "        collapsed_elm = elm.find_element(By.CSS_SELECTOR, '.collapsableContent')\n",
    "        if 'empty' in collapsed_elm.get_attribute('class'):\n",
    "            try:\n",
    "                elm.click()\n",
    "            except:\n",
    "                pass\n",
    "        try:\n",
    "            header_elm = elm.find_element(By.CSS_SELECTOR, '.titleText>.title')\n",
    "            cashout_elm = elm.find_element(By.CSS_SELECTOR, '.cashOutMarketIndicatorContainer')\n",
    "        except:\n",
    "            continue    \n",
    "        try:\n",
    "            labels_elms = elm.find_elements(By.CSS_SELECTOR, '.outcomeHeader, .outcomeItemHeader')\n",
    "            odds_elms = elm.find_elements(By.CSS_SELECTOR, '.oddsDisplay')\n",
    "        except:\n",
    "            continue\n",
    "        \n",
    "        for labels_elm, odds_elm in zip(labels_elms, odds_elms):\n",
    "            try:\n",
    "                group = header_elm.text.strip()\n",
    "                name = labels_elm.text.strip()\n",
    "                bet = Bet(\n",
    "                    id=f'{group}-{name}'.replace(' ', '-').lower(),\n",
    "                    websiteId='betway.com',\n",
    "                    gameId=page_url,\n",
    "                    group=group, \n",
    "                    name=name, \n",
    "                    bet=float(odds_elm.text.replace(',', '.'))\n",
    "                )\n",
    "            except Exception as e:\n",
    "                print('Error', e)\n",
    "            else:\n",
    "                print(bet.id)"
   ]
  },
  {
   "cell_type": "code",
   "execution_count": 19,
   "metadata": {},
   "outputs": [
    {
     "name": "stdout",
     "output_type": "stream",
     "text": [
      "usc-paloma\n",
      "empate\n",
      "harksheide\n",
      "sí\n",
      "no\n",
      "usc-paloma-gana-y-ambos-equipos-marcan\n",
      "empate-y-ambos-equipos-marcan\n",
      "Error could not convert string to float: ''\n",
      "usc-paloma-gana-y-sí\n",
      "empate-y-sí\n",
      "harksheide-gana-y-sí\n",
      "usc-paloma-gana-y-no\n",
      "empate-y-no\n",
      "harksheide-gana-y-no\n",
      "usc-paloma-o-empate\n",
      "usc-paloma-o-harksheide\n",
      "empate-o-harksheide\n",
      "usc-paloma-o-empate\n",
      "usc-paloma-o-harksheide\n",
      "empate-o-harksheide\n",
      "usc-paloma-o-empate-y-sí\n",
      "usc-paloma-o-harksheide-y-sí\n",
      "empate-o-harksheide-y-sí\n",
      "usc-paloma-o-empate-y-no\n",
      "usc-paloma-o-harksheide-y-no\n",
      "empate-o-harksheide-y-no\n",
      "1\n",
      "x\n",
      "2\n",
      "1-0\n",
      "0-0\n",
      "0-1\n",
      "2-0\n",
      "1-1\n",
      "0-2\n",
      "2-1\n",
      "2-2\n",
      "1-2\n",
      "3-0\n",
      "3-3\n",
      "0-3\n",
      "3-1\n",
      "Error could not convert string to float: '-'\n",
      "1-3\n",
      "3-2\n",
      "Error could not convert string to float: '-'\n",
      "2-3\n",
      "4-0\n",
      "\n",
      "0-4\n",
      "4-1\n",
      "\n",
      "1-4\n",
      "Error could not convert string to float: '-'\n",
      "\n",
      "Error could not convert string to float: '-'\n",
      "4-3\n",
      "Error could not convert string to float: '-'\n",
      "3-4\n",
      "Error could not convert string to float: '-'\n",
      "Error could not convert string to float: ''\n",
      "Error could not convert string to float: ''\n",
      "5-1\n",
      "Error could not convert string to float: '-'\n",
      "1-5\n",
      "Error could not convert string to float: '-'\n",
      "\n",
      "Error could not convert string to float: '-'\n",
      "Error could not convert string to float: ''\n",
      "Error could not convert string to float: ''\n",
      "Error could not convert string to float: ''\n",
      "Error could not convert string to float: ''\n",
      "Error could not convert string to float: ''\n",
      "Error could not convert string to float: ''\n",
      "Error could not convert string to float: ''\n",
      "Error could not convert string to float: ''\n",
      "Error could not convert string to float: ''\n",
      "Error could not convert string to float: ''\n",
      "Error could not convert string to float: ''\n",
      "Error could not convert string to float: ''\n",
      "Error could not convert string to float: ''\n",
      "Error could not convert string to float: ''\n",
      "Error could not convert string to float: ''\n",
      "Error could not convert string to float: ''\n",
      "Error could not convert string to float: ''\n",
      "Error could not convert string to float: ''\n",
      "1-0\n",
      "2-0\n",
      "2-1\n",
      "3-0\n",
      "3-1\n",
      "3-2\n",
      "4-0\n",
      "4-1\n",
      "4-2\n",
      "4-3\n",
      "0-1\n",
      "0-2\n",
      "1-2\n",
      "0-3\n",
      "1-3\n",
      "2-3\n",
      "0-4\n",
      "1-4\n",
      "2-4\n",
      "3-4\n",
      "0-0\n",
      "1-1\n",
      "2-2\n",
      "3-3\n",
      "4-4\n",
      "otro-resultado\n",
      "usc-paloma\n",
      "harksheide\n",
      "usc-paloma\n",
      "empate\n",
      "harksheide\n",
      "usc-paloma\n",
      "empate\n",
      "harksheide\n"
     ]
    }
   ],
   "source": [
    "get_bids(url)"
   ]
  }
 ],
 "metadata": {
  "kernelspec": {
   "display_name": "Python 3.10.7 ('.env': venv)",
   "language": "python",
   "name": "python3"
  },
  "language_info": {
   "codemirror_mode": {
    "name": "ipython",
    "version": 3
   },
   "file_extension": ".py",
   "mimetype": "text/x-python",
   "name": "python",
   "nbconvert_exporter": "python",
   "pygments_lexer": "ipython3",
   "version": "3.10.7"
  },
  "orig_nbformat": 4,
  "vscode": {
   "interpreter": {
    "hash": "d93b7cf8377a7b4b70e5aacb35380c6fb24fe780e3e5e5dda0f77aaf50ba8a4e"
   }
  }
 },
 "nbformat": 4,
 "nbformat_minor": 2
}
