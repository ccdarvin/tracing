{
 "cells": [
  {
   "cell_type": "code",
   "execution_count": 3,
   "metadata": {},
   "outputs": [],
   "source": [
    "import websocket\n",
    "import json\n",
    "from urllib.parse import quote"
   ]
  },
  {
   "cell_type": "code",
   "execution_count": 2,
   "metadata": {},
   "outputs": [
    {
     "ename": "NameError",
     "evalue": "name 'websocket' is not defined",
     "output_type": "error",
     "traceback": [
      "\u001b[1;31m---------------------------------------------------------------------------\u001b[0m",
      "\u001b[1;31mNameError\u001b[0m                                 Traceback (most recent call last)",
      "Cell \u001b[1;32mIn[2], line 1\u001b[0m\n\u001b[1;32m----> 1\u001b[0m ws \u001b[39m=\u001b[39m websocket\u001b[39m.\u001b[39mWebSocket()\n\u001b[0;32m      2\u001b[0m website_id\u001b[39m=\u001b[39m\u001b[39m'\u001b[39m\u001b[39mgoogle.com\u001b[39m\u001b[39m'\u001b[39m\n\u001b[0;32m      3\u001b[0m ws\u001b[39m.\u001b[39mconnect(\u001b[39mf\u001b[39m\u001b[39m'\u001b[39m\u001b[39mwss://plankton-app-5rfza.ondigitalocean.app/websites?scraping=\u001b[39m\u001b[39m{\u001b[39;00mwebsite_id\u001b[39m}\u001b[39;00m\u001b[39m'\u001b[39m)\n",
      "\u001b[1;31mNameError\u001b[0m: name 'websocket' is not defined"
     ]
    }
   ],
   "source": [
    "ws = websocket.WebSocket()\n",
    "website_id='google.com'\n",
    "ws.connect(f'wss://plankton-app-5rfza.ondigitalocean.app/websites?scraping={website_id}')\n",
    "ws.recv()"
   ]
  },
  {
   "cell_type": "code",
   "execution_count": null,
   "metadata": {},
   "outputs": [],
   "source": [
    "ws.close()"
   ]
  },
  {
   "cell_type": "code",
   "execution_count": 5,
   "metadata": {},
   "outputs": [
    {
     "data": {
      "text/plain": [
       "'{\"status\": \"error\", \"message\": \"Game does not exist\"}'"
      ]
     },
     "execution_count": 5,
     "metadata": {},
     "output_type": "execute_result"
    }
   ],
   "source": [
    "ws = websocket.WebSocket()\n",
    "page_id = 'https://betway.com/es/sports/evt/10682299\",\"websiteId'\n",
    "website_id='betway.com'\n",
    "# uri = 'wss://plankton-app-5rfza.ondigitalocean.app'\n",
    "uri='ws://localhost:8000'\n",
    "ws.connect(f'{uri}/games/{website_id}?game_id={page_id}')\n",
    "ws.recv()"
   ]
  },
  {
   "cell_type": "code",
   "execution_count": 36,
   "metadata": {},
   "outputs": [],
   "source": [
    "from core.models import Website, Game, Bet, delete, save, exists\n",
    "g = Game(**{\"id\": \"https://betway.com/es/sports/evt/10682300\", \"websiteId\": \"betway.com\", \"scraping\": True})\n",
    "g.key()\n",
    "\n",
    "r.json().get('games:betway.com:/es/sports/evt/10682300')"
   ]
  },
  {
   "cell_type": "code",
   "execution_count": 7,
   "metadata": {},
   "outputs": [],
   "source": [
    "from core.models import r\n",
    "from redis.commands.search.query import Query, NumericFilter\n",
    "from  redis.commands.search import aggregation\n",
    "from redis.commands.search import reducers"
   ]
  },
  {
   "cell_type": "code",
   "execution_count": 123,
   "metadata": {},
   "outputs": [
    {
     "data": {
      "text/plain": [
       "Result{163 total, docs: [Document {'id': 'games:betway.com:/es/sports/evt/10683641', 'payload': None, 'json': '{\"id\":\"https://betway.com/es/sports/evt/10683641\",\"websiteId\":\"betway.com\",\"urlSource\":\"https://betway.com/es/sports/cpn/soccer/90\",\"sport\":\"futbol\",\"fullName\":\"Atherton Collieries vs FC United of Manchester\",\"firstTeam\":\"Atherton Collieries\",\"secoundTeam\":\"FC United of Manchester\",\"scraping\":false}'}, Document {'id': 'games:betway.com:/es/sports/evt/10652376', 'payload': None, 'json': '{\"id\":\"https://betway.com/es/sports/evt/10652376\",\"websiteId\":\"betway.com\",\"urlSource\":\"https://betway.com/es/sports/cpn/soccer/90\",\"sport\":\"futbol\",\"fullName\":\"Famalicão vs Tondela\",\"firstTeam\":\"Famalicão\",\"secoundTeam\":\"Tondela\",\"scraping\":false}'}, Document {'id': 'games:betway.com:/es/sports/evt/10683207', 'payload': None, 'json': '{\"id\":\"https://betway.com/es/sports/evt/10683207\",\"websiteId\":\"betway.com\",\"urlSource\":\"https://betway.com/es/sports/cpn/soccer/90\",\"sport\":\"futbol\",\"fullName\":\"Stalybridge vs South Shields\",\"firstTeam\":\"Stalybridge\",\"secoundTeam\":\"South Shields\",\"scraping\":false}'}, Document {'id': 'games:betway.com:/es/sports/evt/10667842', 'payload': None, 'json': '{\"id\":\"https://betway.com/es/sports/evt/10667842\",\"websiteId\":\"betway.com\",\"urlSource\":\"https://betway.com/es/sports/cpn/soccer/291\",\"sport\":\"futbol\",\"fullName\":\"Chorley vs Telford United\",\"firstTeam\":\"Chorley\",\"secoundTeam\":\"Telford United\",\"scraping\":false}'}, Document {'id': 'games:betway.com:/es/sports/evt/10667846', 'payload': None, 'json': '{\"id\":\"https://betway.com/es/sports/evt/10667846\",\"websiteId\":\"betway.com\",\"urlSource\":\"https://betway.com/es/sports/cpn/soccer/291\",\"sport\":\"futbol\",\"fullName\":\"Kidderminster vs Blyth Spartans\",\"firstTeam\":\"Kidderminster\",\"secoundTeam\":\"Blyth Spartans\",\"scraping\":false}'}]}"
      ]
     },
     "execution_count": 123,
     "metadata": {},
     "output_type": "execute_result"
    }
   ],
   "source": [
    "r.ft('idxGames').search(Query('@scraping:{false}').paging(0, 5))"
   ]
  },
  {
   "cell_type": "code",
   "execution_count": 130,
   "metadata": {},
   "outputs": [
    {
     "ename": "ResponseError",
     "evalue": "Syntax error at offset 1 near Marrue",
     "output_type": "error",
     "traceback": [
      "\u001b[1;31m---------------------------------------------------------------------------\u001b[0m",
      "\u001b[1;31mResponseError\u001b[0m                             Traceback (most recent call last)",
      "Cell \u001b[1;32mIn[130], line 4\u001b[0m\n\u001b[0;32m      2\u001b[0m query \u001b[39m=\u001b[39m Query(\u001b[39mf\u001b[39m\u001b[39m\"\u001b[39m\u001b[39m{\u001b[39;00mq\u001b[39m}\u001b[39;00m\u001b[39m\"\u001b[39m)\u001b[39m.\u001b[39mwith_scores()\u001b[39m.\u001b[39mpaging(\u001b[39m0\u001b[39m, \u001b[39m30\u001b[39m)\u001b[39m.\u001b[39mlanguage(\u001b[39m'\u001b[39m\u001b[39mspanish\u001b[39m\u001b[39m'\u001b[39m)\n\u001b[0;32m      3\u001b[0m query2 \u001b[39m=\u001b[39m Query(q\u001b[39m.\u001b[39mreplace(\u001b[39m'\u001b[39m\u001b[39m \u001b[39m\u001b[39m'\u001b[39m, \u001b[39m'\u001b[39m\u001b[39m%\u001b[39m\u001b[39m'\u001b[39m))\u001b[39m.\u001b[39mwith_scores()\u001b[39m.\u001b[39mpaging(\u001b[39m0\u001b[39m, \u001b[39m30\u001b[39m)\u001b[39m.\u001b[39mlanguage(\u001b[39m'\u001b[39m\u001b[39mspanish\u001b[39m\u001b[39m'\u001b[39m)\n\u001b[1;32m----> 4\u001b[0m r\u001b[39m.\u001b[39;49mft(\u001b[39m'\u001b[39;49m\u001b[39midxGames\u001b[39;49m\u001b[39m'\u001b[39;49m)\u001b[39m.\u001b[39;49msearch(query)\n",
      "File \u001b[1;32mc:\\Projects\\betting-tracker\\scripts\\.env\\lib\\site-packages\\redis\\commands\\search\\commands.py:420\u001b[0m, in \u001b[0;36mSearchCommands.search\u001b[1;34m(self, query, query_params)\u001b[0m\n\u001b[0;32m    418\u001b[0m args, query \u001b[39m=\u001b[39m \u001b[39mself\u001b[39m\u001b[39m.\u001b[39m_mk_query_args(query, query_params\u001b[39m=\u001b[39mquery_params)\n\u001b[0;32m    419\u001b[0m st \u001b[39m=\u001b[39m time\u001b[39m.\u001b[39mtime()\n\u001b[1;32m--> 420\u001b[0m res \u001b[39m=\u001b[39m \u001b[39mself\u001b[39;49m\u001b[39m.\u001b[39;49mexecute_command(SEARCH_CMD, \u001b[39m*\u001b[39;49margs)\n\u001b[0;32m    422\u001b[0m \u001b[39mif\u001b[39;00m \u001b[39misinstance\u001b[39m(res, Pipeline):\n\u001b[0;32m    423\u001b[0m     \u001b[39mreturn\u001b[39;00m res\n",
      "File \u001b[1;32mc:\\Projects\\betting-tracker\\scripts\\.env\\lib\\site-packages\\redis\\client.py:1258\u001b[0m, in \u001b[0;36mRedis.execute_command\u001b[1;34m(self, *args, **options)\u001b[0m\n\u001b[0;32m   1255\u001b[0m conn \u001b[39m=\u001b[39m \u001b[39mself\u001b[39m\u001b[39m.\u001b[39mconnection \u001b[39mor\u001b[39;00m pool\u001b[39m.\u001b[39mget_connection(command_name, \u001b[39m*\u001b[39m\u001b[39m*\u001b[39moptions)\n\u001b[0;32m   1257\u001b[0m \u001b[39mtry\u001b[39;00m:\n\u001b[1;32m-> 1258\u001b[0m     \u001b[39mreturn\u001b[39;00m conn\u001b[39m.\u001b[39;49mretry\u001b[39m.\u001b[39;49mcall_with_retry(\n\u001b[0;32m   1259\u001b[0m         \u001b[39mlambda\u001b[39;49;00m: \u001b[39mself\u001b[39;49m\u001b[39m.\u001b[39;49m_send_command_parse_response(\n\u001b[0;32m   1260\u001b[0m             conn, command_name, \u001b[39m*\u001b[39;49margs, \u001b[39m*\u001b[39;49m\u001b[39m*\u001b[39;49moptions\n\u001b[0;32m   1261\u001b[0m         ),\n\u001b[0;32m   1262\u001b[0m         \u001b[39mlambda\u001b[39;49;00m error: \u001b[39mself\u001b[39;49m\u001b[39m.\u001b[39;49m_disconnect_raise(conn, error),\n\u001b[0;32m   1263\u001b[0m     )\n\u001b[0;32m   1264\u001b[0m \u001b[39mfinally\u001b[39;00m:\n\u001b[0;32m   1265\u001b[0m     \u001b[39mif\u001b[39;00m \u001b[39mnot\u001b[39;00m \u001b[39mself\u001b[39m\u001b[39m.\u001b[39mconnection:\n",
      "File \u001b[1;32mc:\\Projects\\betting-tracker\\scripts\\.env\\lib\\site-packages\\redis\\retry.py:46\u001b[0m, in \u001b[0;36mRetry.call_with_retry\u001b[1;34m(self, do, fail)\u001b[0m\n\u001b[0;32m     44\u001b[0m \u001b[39mwhile\u001b[39;00m \u001b[39mTrue\u001b[39;00m:\n\u001b[0;32m     45\u001b[0m     \u001b[39mtry\u001b[39;00m:\n\u001b[1;32m---> 46\u001b[0m         \u001b[39mreturn\u001b[39;00m do()\n\u001b[0;32m     47\u001b[0m     \u001b[39mexcept\u001b[39;00m \u001b[39mself\u001b[39m\u001b[39m.\u001b[39m_supported_errors \u001b[39mas\u001b[39;00m error:\n\u001b[0;32m     48\u001b[0m         failures \u001b[39m+\u001b[39m\u001b[39m=\u001b[39m \u001b[39m1\u001b[39m\n",
      "File \u001b[1;32mc:\\Projects\\betting-tracker\\scripts\\.env\\lib\\site-packages\\redis\\client.py:1259\u001b[0m, in \u001b[0;36mRedis.execute_command.<locals>.<lambda>\u001b[1;34m()\u001b[0m\n\u001b[0;32m   1255\u001b[0m conn \u001b[39m=\u001b[39m \u001b[39mself\u001b[39m\u001b[39m.\u001b[39mconnection \u001b[39mor\u001b[39;00m pool\u001b[39m.\u001b[39mget_connection(command_name, \u001b[39m*\u001b[39m\u001b[39m*\u001b[39moptions)\n\u001b[0;32m   1257\u001b[0m \u001b[39mtry\u001b[39;00m:\n\u001b[0;32m   1258\u001b[0m     \u001b[39mreturn\u001b[39;00m conn\u001b[39m.\u001b[39mretry\u001b[39m.\u001b[39mcall_with_retry(\n\u001b[1;32m-> 1259\u001b[0m         \u001b[39mlambda\u001b[39;00m: \u001b[39mself\u001b[39m\u001b[39m.\u001b[39m_send_command_parse_response(\n\u001b[0;32m   1260\u001b[0m             conn, command_name, \u001b[39m*\u001b[39margs, \u001b[39m*\u001b[39m\u001b[39m*\u001b[39moptions\n\u001b[0;32m   1261\u001b[0m         ),\n\u001b[0;32m   1262\u001b[0m         \u001b[39mlambda\u001b[39;00m error: \u001b[39mself\u001b[39m\u001b[39m.\u001b[39m_disconnect_raise(conn, error),\n\u001b[0;32m   1263\u001b[0m     )\n\u001b[0;32m   1264\u001b[0m \u001b[39mfinally\u001b[39;00m:\n\u001b[0;32m   1265\u001b[0m     \u001b[39mif\u001b[39;00m \u001b[39mnot\u001b[39;00m \u001b[39mself\u001b[39m\u001b[39m.\u001b[39mconnection:\n",
      "File \u001b[1;32mc:\\Projects\\betting-tracker\\scripts\\.env\\lib\\site-packages\\redis\\client.py:1235\u001b[0m, in \u001b[0;36mRedis._send_command_parse_response\u001b[1;34m(self, conn, command_name, *args, **options)\u001b[0m\n\u001b[0;32m   1231\u001b[0m \u001b[39m\"\"\"\u001b[39;00m\n\u001b[0;32m   1232\u001b[0m \u001b[39mSend a command and parse the response\u001b[39;00m\n\u001b[0;32m   1233\u001b[0m \u001b[39m\"\"\"\u001b[39;00m\n\u001b[0;32m   1234\u001b[0m conn\u001b[39m.\u001b[39msend_command(\u001b[39m*\u001b[39margs)\n\u001b[1;32m-> 1235\u001b[0m \u001b[39mreturn\u001b[39;00m \u001b[39mself\u001b[39m\u001b[39m.\u001b[39mparse_response(conn, command_name, \u001b[39m*\u001b[39m\u001b[39m*\u001b[39moptions)\n",
      "File \u001b[1;32mc:\\Projects\\betting-tracker\\scripts\\.env\\lib\\site-packages\\redis\\client.py:1275\u001b[0m, in \u001b[0;36mRedis.parse_response\u001b[1;34m(self, connection, command_name, **options)\u001b[0m\n\u001b[0;32m   1273\u001b[0m         options\u001b[39m.\u001b[39mpop(NEVER_DECODE)\n\u001b[0;32m   1274\u001b[0m     \u001b[39melse\u001b[39;00m:\n\u001b[1;32m-> 1275\u001b[0m         response \u001b[39m=\u001b[39m connection\u001b[39m.\u001b[39;49mread_response()\n\u001b[0;32m   1276\u001b[0m \u001b[39mexcept\u001b[39;00m ResponseError:\n\u001b[0;32m   1277\u001b[0m     \u001b[39mif\u001b[39;00m EMPTY_RESPONSE \u001b[39min\u001b[39;00m options:\n",
      "File \u001b[1;32mc:\\Projects\\betting-tracker\\scripts\\.env\\lib\\site-packages\\redis\\connection.py:827\u001b[0m, in \u001b[0;36mConnection.read_response\u001b[1;34m(self, disable_decoding)\u001b[0m\n\u001b[0;32m    824\u001b[0m     \u001b[39mself\u001b[39m\u001b[39m.\u001b[39mnext_health_check \u001b[39m=\u001b[39m time() \u001b[39m+\u001b[39m \u001b[39mself\u001b[39m\u001b[39m.\u001b[39mhealth_check_interval\n\u001b[0;32m    826\u001b[0m \u001b[39mif\u001b[39;00m \u001b[39misinstance\u001b[39m(response, ResponseError):\n\u001b[1;32m--> 827\u001b[0m     \u001b[39mraise\u001b[39;00m response\n\u001b[0;32m    828\u001b[0m \u001b[39mreturn\u001b[39;00m response\n",
      "\u001b[1;31mResponseError\u001b[0m: Syntax error at offset 1 near Marrue"
     ]
    }
   ],
   "source": [
    "q = '*Marrue*'\n",
    "query = Query(f\"{q}\").with_scores().paging(0, 30).language('spanish')\n",
    "query2 = Query(q.replace(' ', '%')).with_scores().paging(0, 30).language('spanish')\n",
    "r.ft('idxGames').search(query)"
   ]
  },
  {
   "cell_type": "code",
   "execution_count": 95,
   "metadata": {},
   "outputs": [
    {
     "data": {
      "text/plain": [
       "[]"
      ]
     },
     "execution_count": 95,
     "metadata": {},
     "output_type": "execute_result"
    }
   ],
   "source": [
    "r.ft('idxGames').sugget('games:', 'US')"
   ]
  },
  {
   "cell_type": "code",
   "execution_count": 45,
   "metadata": {},
   "outputs": [],
   "source": [
    "from core.webdriver import init_driver\n",
    "from selenium.webdriver.common.by import By\n",
    "from core.models import Bet\n",
    "from time import sleep\n",
    "driver = init_driver()\n",
    "url='https://betway.com/es/sports/evt/10682245'\n",
    "driver.get(url)"
   ]
  },
  {
   "cell_type": "code",
   "execution_count": 48,
   "metadata": {},
   "outputs": [
    {
     "name": "stdout",
     "output_type": "stream",
     "text": [
      "True\n"
     ]
    }
   ],
   "source": [
    "sleep(10)\n",
    "status_code = driver.find_element(By.CSS_SELECTOR, 'meta[http-equiv=\"status\"]').get_attribute('content')\n",
    "print(status_code == '404')"
   ]
  },
  {
   "cell_type": "code",
   "execution_count": 21,
   "metadata": {},
   "outputs": [],
   "source": [
    "def get_bids(page_url):\n",
    "    for elm in driver.find_elements(By.CSS_SELECTOR, '.collapsablePanel'):\n",
    "        collapsed_elm = elm.find_element(By.CSS_SELECTOR, '.collapsableContent')\n",
    "        if 'empty' in collapsed_elm.get_attribute('class'):\n",
    "            try:\n",
    "                elm.click()\n",
    "            except:\n",
    "                pass\n",
    "        try:\n",
    "            header_elm = elm.find_element(By.CSS_SELECTOR, '.titleText>.title')\n",
    "            cashout_elm = elm.find_element(By.CSS_SELECTOR, '.cashOutMarketIndicatorContainer')\n",
    "        except:\n",
    "            continue    \n",
    "        try:\n",
    "            labels_elms = elm.find_elements(By.CSS_SELECTOR, '.outcomeHeader, .outcomeItemHeader')\n",
    "            odds_elms = elm.find_elements(By.CSS_SELECTOR, '.oddsDisplay')\n",
    "        except:\n",
    "            continue\n",
    "        \n",
    "        for labels_elm, odds_elm in zip(labels_elms, odds_elms):\n",
    "            try:\n",
    "                group = header_elm.text.strip()\n",
    "                name = labels_elm.text.strip()\n",
    "                bet = Bet(\n",
    "                    id=f'{group}-{name}'.replace(' ', '-').lower(),\n",
    "                    websiteId='betway.com',\n",
    "                    gameId=page_url,\n",
    "                    group=group, \n",
    "                    name=name, \n",
    "                    bet=float(odds_elm.text.replace(',', '.'))\n",
    "                )\n",
    "            except Exception as e:\n",
    "                print('Error', e)"
   ]
  },
  {
   "cell_type": "code",
   "execution_count": 22,
   "metadata": {},
   "outputs": [
    {
     "name": "stdout",
     "output_type": "stream",
     "text": [
      "1-x-2-usc-paloma\n",
      "1-x-2-empate\n",
      "1-x-2-harksheide\n",
      "ambos-equipos-marcan-sí\n",
      "ambos-equipos-marcan-no\n",
      "combinación-ganador-del-partido-y-los-dos-equipos-marcan-usc-paloma-gana-y-ambos-equipos-marcan\n",
      "combinación-ganador-del-partido-y-los-dos-equipos-marcan-empate-y-ambos-equipos-marcan\n",
      "Error could not convert string to float: ''\n",
      "ganador-del-partido-y-ambos-equipos-marcan-sí/no-usc-paloma-gana-y-sí\n",
      "ganador-del-partido-y-ambos-equipos-marcan-sí/no-empate-y-sí\n",
      "ganador-del-partido-y-ambos-equipos-marcan-sí/no-harksheide-gana-y-sí\n",
      "ganador-del-partido-y-ambos-equipos-marcan-sí/no-usc-paloma-gana-y-no\n",
      "ganador-del-partido-y-ambos-equipos-marcan-sí/no-empate-y-no\n",
      "ganador-del-partido-y-ambos-equipos-marcan-sí/no-harksheide-gana-y-no\n",
      "doble-oportunidad-usc-paloma-o-empate\n",
      "doble-oportunidad-usc-paloma-o-harksheide\n",
      "doble-oportunidad-empate-o-harksheide\n",
      "doble-oportunidad-y-ambos-equipos-marcan-usc-paloma-o-empate\n",
      "doble-oportunidad-y-ambos-equipos-marcan-usc-paloma-o-harksheide\n",
      "doble-oportunidad-y-ambos-equipos-marcan-empate-o-harksheide\n",
      "doble-oportunidad-y-ambos-equipos-marcan-sí/no-usc-paloma-o-empate-y-sí\n",
      "doble-oportunidad-y-ambos-equipos-marcan-sí/no-usc-paloma-o-harksheide-y-sí\n",
      "doble-oportunidad-y-ambos-equipos-marcan-sí/no-empate-o-harksheide-y-sí\n",
      "doble-oportunidad-y-ambos-equipos-marcan-sí/no-usc-paloma-o-empate-y-no\n",
      "doble-oportunidad-y-ambos-equipos-marcan-sí/no-usc-paloma-o-harksheide-y-no\n",
      "doble-oportunidad-y-ambos-equipos-marcan-sí/no-empate-o-harksheide-y-no\n",
      "resultado-exacto-1\n",
      "resultado-exacto-x\n",
      "resultado-exacto-2\n",
      "resultado-exacto-1-0\n",
      "resultado-exacto-0-0\n",
      "resultado-exacto-0-1\n",
      "resultado-exacto-2-0\n",
      "resultado-exacto-1-1\n",
      "resultado-exacto-0-2\n",
      "resultado-exacto-2-1\n",
      "resultado-exacto-2-2\n",
      "resultado-exacto-1-2\n",
      "resultado-exacto-3-0\n",
      "resultado-exacto-3-3\n",
      "resultado-exacto-0-3\n",
      "resultado-exacto-3-1\n",
      "Error could not convert string to float: '-'\n",
      "resultado-exacto-1-3\n",
      "resultado-exacto-3-2\n",
      "Error could not convert string to float: '-'\n",
      "resultado-exacto-2-3\n",
      "resultado-exacto-4-0\n",
      "resultado-exacto-\n",
      "resultado-exacto-0-4\n",
      "resultado-exacto-4-1\n",
      "resultado-exacto-\n",
      "resultado-exacto-1-4\n",
      "Error could not convert string to float: '-'\n",
      "resultado-exacto-\n",
      "Error could not convert string to float: '-'\n",
      "resultado-exacto-4-3\n",
      "Error could not convert string to float: '-'\n",
      "resultado-exacto-3-4\n",
      "Error could not convert string to float: '-'\n",
      "Error could not convert string to float: ''\n",
      "Error could not convert string to float: ''\n",
      "resultado-exacto-5-1\n",
      "Error could not convert string to float: '-'\n",
      "resultado-exacto-1-5\n",
      "Error could not convert string to float: '-'\n",
      "resultado-exacto-\n",
      "Error could not convert string to float: '-'\n",
      "Error could not convert string to float: ''\n",
      "Error could not convert string to float: ''\n",
      "Error could not convert string to float: ''\n",
      "Error could not convert string to float: ''\n",
      "Error could not convert string to float: ''\n",
      "Error could not convert string to float: ''\n",
      "Error could not convert string to float: ''\n",
      "Error could not convert string to float: ''\n",
      "Error could not convert string to float: ''\n",
      "Error could not convert string to float: ''\n",
      "Error could not convert string to float: ''\n",
      "Error could not convert string to float: ''\n",
      "Error could not convert string to float: ''\n",
      "Error could not convert string to float: ''\n",
      "Error could not convert string to float: ''\n",
      "Error could not convert string to float: ''\n",
      "Error could not convert string to float: ''\n",
      "Error could not convert string to float: ''\n",
      "resultado-exacto---otros-1-0\n",
      "resultado-exacto---otros-2-0\n",
      "resultado-exacto---otros-2-1\n",
      "resultado-exacto---otros-3-0\n",
      "resultado-exacto---otros-3-1\n",
      "resultado-exacto---otros-3-2\n",
      "resultado-exacto---otros-4-0\n",
      "resultado-exacto---otros-4-1\n",
      "resultado-exacto---otros-4-2\n",
      "resultado-exacto---otros-4-3\n",
      "resultado-exacto---otros-0-1\n",
      "resultado-exacto---otros-0-2\n",
      "resultado-exacto---otros-1-2\n",
      "resultado-exacto---otros-0-3\n",
      "resultado-exacto---otros-1-3\n",
      "resultado-exacto---otros-2-3\n",
      "resultado-exacto---otros-0-4\n",
      "resultado-exacto---otros-1-4\n",
      "resultado-exacto---otros-2-4\n",
      "resultado-exacto---otros-3-4\n",
      "resultado-exacto---otros-0-0\n",
      "resultado-exacto---otros-1-1\n",
      "resultado-exacto---otros-2-2\n",
      "resultado-exacto---otros-3-3\n",
      "resultado-exacto---otros-4-4\n",
      "resultado-exacto---otros-otro-resultado\n",
      "apuesta-sin-posibilidad-de-empate-usc-paloma\n",
      "apuesta-sin-posibilidad-de-empate-harksheide\n",
      "hándicap-3-formas-usc-paloma\n",
      "hándicap-3-formas-empate\n",
      "hándicap-3-formas-harksheide\n",
      "hándicap-3-formas-usc-paloma\n",
      "hándicap-3-formas-empate\n",
      "hándicap-3-formas-harksheide\n"
     ]
    }
   ],
   "source": [
    "get_bids(url)"
   ]
  }
 ],
 "metadata": {
  "kernelspec": {
   "display_name": "Python 3.10.7 ('.env': venv)",
   "language": "python",
   "name": "python3"
  },
  "language_info": {
   "codemirror_mode": {
    "name": "ipython",
    "version": 3
   },
   "file_extension": ".py",
   "mimetype": "text/x-python",
   "name": "python",
   "nbconvert_exporter": "python",
   "pygments_lexer": "ipython3",
   "version": "3.10.7"
  },
  "orig_nbformat": 4,
  "vscode": {
   "interpreter": {
    "hash": "d93b7cf8377a7b4b70e5aacb35380c6fb24fe780e3e5e5dda0f77aaf50ba8a4e"
   }
  }
 },
 "nbformat": 4,
 "nbformat_minor": 2
}
