{
 "cells": [
  {
   "cell_type": "code",
   "execution_count": 1,
   "metadata": {},
   "outputs": [],
   "source": [
    "from selenium.webdriver.chrome.service import Service as ChromeService\n",
    "from webdriver_manager.chrome import ChromeDriverManager\n",
    "from selenium.webdriver.chrome.options import Options\n",
    "from selenium.webdriver.common.by import By\n",
    "from selenium_stealth import stealth\n",
    "from pydantic import BaseModel\n",
    "from selenium import webdriver\n",
    "from typing import Optional\n",
    "\n",
    "from redis_om import (\n",
    "    Field,\n",
    "    HashModel,\n",
    "    Migrator,\n",
    "    JsonModel\n",
    ")"
   ]
  },
  {
   "cell_type": "code",
   "execution_count": null,
   "metadata": {},
   "outputs": [],
   "source": [
    "def init_driver():\n",
    "    options = Options()\n",
    "    options.add_argument('--headless')\n",
    "    options.add_argument('start-maximized')\n",
    "    options.add_argument('--window-size=1920,1080')\n",
    "    options.add_experimental_option('excludeSwitches', ['enable-automation'])\n",
    "    options.add_experimental_option('useAutomationExtension', False)\n",
    "    driver = webdriver.Chrome(service=ChromeService(ChromeDriverManager().install()), options=options)\n",
    "    stealth(driver,\n",
    "        languages=[\"es-PE\", \"es\"],\n",
    "        vendor=\"Google Inc.\",\n",
    "        platform=\"Win32\",\n",
    "        webgl_vendor=\"Intel Inc.\",\n",
    "        renderer=\"Intel Iris OpenGL Engine\",\n",
    "        fix_hairline=True,\n",
    "    )\n",
    "    return driver"
   ]
  },
  {
   "cell_type": "code",
   "execution_count": 15,
   "metadata": {},
   "outputs": [],
   "source": [
    "import redis\n",
    "\n",
    "r = redis.Redis(\n",
    "  host='redis-12622.c277.us-east-1-3.ec2.cloud.redislabs.com',\n",
    "  port=12622,\n",
    "  password='TxVYpEfg4DwZSjDxerOiWxNEhgIZouKa')\n",
    "\n",
    "class Game(JsonModel):\n",
    "    url: Optional[str] = Field(index=True, primary_key=True)\n",
    "    site: Optional[str] = Field(index=True)\n",
    "    sport: Optional[str] = Field(index=True)\n",
    "    game: Optional[str] = Field(index=True, full_text_search=True, default='')\n",
    "    firstTeam: Optional[str] = Field(index=True, full_text_search=True, default='')\n",
    "    secoundTeam: Optional[str] = Field(index=True, full_text_search=True, default='')\n",
    "    \n",
    "    class Meta:\n",
    "        database = r\n",
    "        global_key_prefix = 'tracker'\n",
    "        model_key_prefix = 'games'\n",
    "\n",
    "Migrator().run()"
   ]
  },
  {
   "cell_type": "code",
   "execution_count": null,
   "metadata": {},
   "outputs": [],
   "source": [
    "driver = init_driver()\n",
    "driver.get('https://betway.com/es/sports/cat/soccer')"
   ]
  },
  {
   "cell_type": "code",
   "execution_count": null,
   "metadata": {},
   "outputs": [],
   "source": [
    "for elm in driver.find_elements(By.CSS_SELECTOR, '.scoreboardInfoNames'):\n",
    "    game = Game(\n",
    "        url = elm.get_attribute('href'),\n",
    "        site ='betway.com',\n",
    "        sport = 'futbol',\n",
    "        game = elm.text,\n",
    "        firstTeam = elm.text.split('-')[0].strip(),\n",
    "        secoundTeam = elm.text.split('-')[1].strip()\n",
    "    )\n",
    "    game.save()\n",
    "    print(game.__dict__)"
   ]
  },
  {
   "cell_type": "code",
   "execution_count": 16,
   "metadata": {},
   "outputs": [
    {
     "data": {
      "text/plain": [
       "[]"
      ]
     },
     "execution_count": 16,
     "metadata": {},
     "output_type": "execute_result"
    }
   ],
   "source": [
    "\n",
    "Migrator().run()\n",
    "games = Game.find(Game.sport == 'futbol').all()\n",
    "\n",
    "#for game in games:\n",
    "#    Game.delete(game.url)\n",
    "list(Game.all_pks())"
   ]
  },
  {
   "cell_type": "code",
   "execution_count": null,
   "metadata": {},
   "outputs": [],
   "source": []
  },
  {
   "cell_type": "code",
   "execution_count": 14,
   "metadata": {},
   "outputs": [
    {
     "ename": "NameError",
     "evalue": "name 'url' is not defined",
     "output_type": "error",
     "traceback": [
      "\u001b[1;31m---------------------------------------------------------------------------\u001b[0m",
      "\u001b[1;31mNameError\u001b[0m                                 Traceback (most recent call last)",
      "Cell \u001b[1;32mIn[14], line 1\u001b[0m\n\u001b[1;32m----> 1\u001b[0m \u001b[39mclass\u001b[39;00m \u001b[39mBid\u001b[39;00m(BaseModel):\n\u001b[0;32m      2\u001b[0m     channel: \u001b[39mstr\u001b[39m \u001b[39m=\u001b[39m \u001b[39m'\u001b[39m\u001b[39mprueba\u001b[39m\u001b[39m'\u001b[39m\n\u001b[0;32m      3\u001b[0m     url: \u001b[39mstr\u001b[39m \u001b[39m=\u001b[39m url\n",
      "Cell \u001b[1;32mIn[14], line 3\u001b[0m, in \u001b[0;36mBid\u001b[1;34m()\u001b[0m\n\u001b[0;32m      1\u001b[0m \u001b[39mclass\u001b[39;00m \u001b[39mBid\u001b[39;00m(BaseModel):\n\u001b[0;32m      2\u001b[0m     channel: \u001b[39mstr\u001b[39m \u001b[39m=\u001b[39m \u001b[39m'\u001b[39m\u001b[39mprueba\u001b[39m\u001b[39m'\u001b[39m\n\u001b[1;32m----> 3\u001b[0m     url: \u001b[39mstr\u001b[39m \u001b[39m=\u001b[39m url\n\u001b[0;32m      4\u001b[0m     group: \u001b[39mstr\u001b[39m\n\u001b[0;32m      5\u001b[0m     name: \u001b[39mstr\u001b[39m\n",
      "\u001b[1;31mNameError\u001b[0m: name 'url' is not defined"
     ]
    }
   ],
   "source": [
    "\n",
    "class Bid(BaseModel):\n",
    "    channel: str = 'prueba'\n",
    "    url: str = url\n",
    "    group: str\n",
    "    name: str\n",
    "    bid: float"
   ]
  },
  {
   "cell_type": "code",
   "execution_count": null,
   "metadata": {},
   "outputs": [],
   "source": [
    "import redis\n",
    "\n",
    "r = redis.Redis(\n",
    "    host='redis-12622.c277.us-east-1-3.ec2.cloud.redislabs.com',\n",
    "    port=12622,\n",
    "    password='TxVYpEfg4DwZSjDxerOiWxNEhgIZouKa'\n",
    ")\n"
   ]
  },
  {
   "cell_type": "code",
   "execution_count": null,
   "metadata": {},
   "outputs": [],
   "source": [
    "def get_bids():\n",
    "    for elm in driver.find_elements(By.CSS_SELECTOR, '.collapsablePanel'):\n",
    "        collapsed_elm = elm.find_element(By.CSS_SELECTOR, '.collapsableContent')\n",
    "        if 'empty' in collapsed_elm.get_attribute('class'):\n",
    "            try:\n",
    "                elm.click()\n",
    "            except:\n",
    "                pass\n",
    "        try:\n",
    "            header_elm = elm.find_element(By.CSS_SELECTOR, '.titleText>.title')\n",
    "            cashout_elm = elm.find_element(By.CSS_SELECTOR, '.cashOutMarketIndicatorContainer')\n",
    "        except:\n",
    "            continue    \n",
    "        try:\n",
    "            labels_elms = elm.find_elements(By.CSS_SELECTOR, '.outcomeHeader, .outcomeItemHeader')\n",
    "            odds_elms = elm.find_elements(By.CSS_SELECTOR, '.oddsDisplay')\n",
    "        except:\n",
    "            continue\n",
    "        \n",
    "        for labels_elm, odds_elm in zip(labels_elms, odds_elms):\n",
    "            try:\n",
    "                bit = Bid(\n",
    "                    group=header_elm.text, \n",
    "                    name=labels_elm.text, \n",
    "                    bid=float(odds_elm.text.replace(',', '.'))\n",
    "                )\n",
    "            except Exception as e:\n",
    "                print('Error', e)\n",
    "            else:\n",
    "                print(bit)"
   ]
  },
  {
   "cell_type": "code",
   "execution_count": null,
   "metadata": {},
   "outputs": [],
   "source": [
    "#get_bids()\n",
    "driver.find_elements(By.CSS_SELECTOR, '.collapsablePanel')\n",
    "driver.save_screenshot(\"image.png\")"
   ]
  },
  {
   "cell_type": "code",
   "execution_count": null,
   "metadata": {},
   "outputs": [],
   "source": [
    "import redis\n",
    "\n",
    "r = redis.Redis(\n",
    "  host='redis-12622.c277.us-east-1-3.ec2.cloud.redislabs.com',\n",
    "  port=12622,\n",
    "  password='TxVYpEfg4DwZSjDxerOiWxNEhgIZouKa')"
   ]
  },
  {
   "cell_type": "code",
   "execution_count": null,
   "metadata": {},
   "outputs": [],
   "source": [
    "r.publish('betson', 'hello')"
   ]
  }
 ],
 "metadata": {
  "kernelspec": {
   "display_name": "Python 3.10.7 ('.env': venv)",
   "language": "python",
   "name": "python3"
  },
  "language_info": {
   "codemirror_mode": {
    "name": "ipython",
    "version": 3
   },
   "file_extension": ".py",
   "mimetype": "text/x-python",
   "name": "python",
   "nbconvert_exporter": "python",
   "pygments_lexer": "ipython3",
   "version": "3.10.7"
  },
  "orig_nbformat": 4,
  "vscode": {
   "interpreter": {
    "hash": "05a590c28a1fdbef745f055d3bf2851561cb20bb564b6897ba1a686f373828e9"
   }
  }
 },
 "nbformat": 4,
 "nbformat_minor": 2
}
