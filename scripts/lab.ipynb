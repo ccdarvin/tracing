{
 "cells": [
  {
   "cell_type": "code",
   "execution_count": 112,
   "metadata": {},
   "outputs": [],
   "source": [
    "import websocket\n",
    "import json\n",
    "from urllib.parse import quote"
   ]
  },
  {
   "cell_type": "code",
   "execution_count": 113,
   "metadata": {},
   "outputs": [
    {
     "data": {
      "text/plain": [
       "'{\"id\": \"google.com\", \"scraping\": true}'"
      ]
     },
     "execution_count": 113,
     "metadata": {},
     "output_type": "execute_result"
    }
   ],
   "source": [
    "ws = websocket.WebSocket()\n",
    "website_id='google.com'\n",
    "ws.connect(f'wss://plankton-app-5rfza.ondigitalocean.app/websites?scraping={website_id}')\n",
    "ws.recv()"
   ]
  },
  {
   "cell_type": "code",
   "execution_count": 114,
   "metadata": {},
   "outputs": [],
   "source": [
    "ws.close()"
   ]
  },
  {
   "cell_type": "code",
   "execution_count": 151,
   "metadata": {},
   "outputs": [
    {
     "ename": "WebSocketConnectionClosedException",
     "evalue": "Connection to remote host was lost.",
     "output_type": "error",
     "traceback": [
      "\u001b[1;31m---------------------------------------------------------------------------\u001b[0m",
      "\u001b[1;31mWebSocketConnectionClosedException\u001b[0m        Traceback (most recent call last)",
      "Cell \u001b[1;32mIn[151], line 7\u001b[0m\n\u001b[0;32m      5\u001b[0m uri\u001b[39m=\u001b[39m\u001b[39m'\u001b[39m\u001b[39mws://localhost:8000\u001b[39m\u001b[39m'\u001b[39m\n\u001b[0;32m      6\u001b[0m ws\u001b[39m.\u001b[39mconnect(\u001b[39mf\u001b[39m\u001b[39m'\u001b[39m\u001b[39m{\u001b[39;00muri\u001b[39m}\u001b[39;00m\u001b[39m/games/\u001b[39m\u001b[39m{\u001b[39;00mwebsite_id\u001b[39m}\u001b[39;00m\u001b[39m?game_id=\u001b[39m\u001b[39m{\u001b[39;00mpage_id\u001b[39m}\u001b[39;00m\u001b[39m'\u001b[39m)\n\u001b[1;32m----> 7\u001b[0m ws\u001b[39m.\u001b[39;49mrecv()\n",
      "File \u001b[1;32mc:\\Projects\\betting-tracker\\scripts\\.env\\lib\\site-packages\\websocket\\_core.py:362\u001b[0m, in \u001b[0;36mWebSocket.recv\u001b[1;34m(self)\u001b[0m\n\u001b[0;32m    354\u001b[0m \u001b[39m\"\"\"\u001b[39;00m\n\u001b[0;32m    355\u001b[0m \u001b[39mReceive string data(byte array) from the server.\u001b[39;00m\n\u001b[0;32m    356\u001b[0m \n\u001b[1;32m   (...)\u001b[0m\n\u001b[0;32m    359\u001b[0m \u001b[39mdata: string (byte array) value.\u001b[39;00m\n\u001b[0;32m    360\u001b[0m \u001b[39m\"\"\"\u001b[39;00m\n\u001b[0;32m    361\u001b[0m \u001b[39mwith\u001b[39;00m \u001b[39mself\u001b[39m\u001b[39m.\u001b[39mreadlock:\n\u001b[1;32m--> 362\u001b[0m     opcode, data \u001b[39m=\u001b[39m \u001b[39mself\u001b[39;49m\u001b[39m.\u001b[39;49mrecv_data()\n\u001b[0;32m    363\u001b[0m \u001b[39mif\u001b[39;00m opcode \u001b[39m==\u001b[39m ABNF\u001b[39m.\u001b[39mOPCODE_TEXT:\n\u001b[0;32m    364\u001b[0m     \u001b[39mreturn\u001b[39;00m data\u001b[39m.\u001b[39mdecode(\u001b[39m\"\u001b[39m\u001b[39mutf-8\u001b[39m\u001b[39m\"\u001b[39m)\n",
      "File \u001b[1;32mc:\\Projects\\betting-tracker\\scripts\\.env\\lib\\site-packages\\websocket\\_core.py:385\u001b[0m, in \u001b[0;36mWebSocket.recv_data\u001b[1;34m(self, control_frame)\u001b[0m\n\u001b[0;32m    370\u001b[0m \u001b[39mdef\u001b[39;00m \u001b[39mrecv_data\u001b[39m(\u001b[39mself\u001b[39m, control_frame\u001b[39m=\u001b[39m\u001b[39mFalse\u001b[39;00m):\n\u001b[0;32m    371\u001b[0m     \u001b[39m\"\"\"\u001b[39;00m\n\u001b[0;32m    372\u001b[0m \u001b[39m    Receive data with operation code.\u001b[39;00m\n\u001b[0;32m    373\u001b[0m \n\u001b[1;32m   (...)\u001b[0m\n\u001b[0;32m    383\u001b[0m \u001b[39m        tuple of operation code and string(byte array) value.\u001b[39;00m\n\u001b[0;32m    384\u001b[0m \u001b[39m    \"\"\"\u001b[39;00m\n\u001b[1;32m--> 385\u001b[0m     opcode, frame \u001b[39m=\u001b[39m \u001b[39mself\u001b[39;49m\u001b[39m.\u001b[39;49mrecv_data_frame(control_frame)\n\u001b[0;32m    386\u001b[0m     \u001b[39mreturn\u001b[39;00m opcode, frame\u001b[39m.\u001b[39mdata\n",
      "File \u001b[1;32mc:\\Projects\\betting-tracker\\scripts\\.env\\lib\\site-packages\\websocket\\_core.py:406\u001b[0m, in \u001b[0;36mWebSocket.recv_data_frame\u001b[1;34m(self, control_frame)\u001b[0m\n\u001b[0;32m    389\u001b[0m \u001b[39m\"\"\"\u001b[39;00m\n\u001b[0;32m    390\u001b[0m \u001b[39mReceive data with operation code.\u001b[39;00m\n\u001b[0;32m    391\u001b[0m \n\u001b[1;32m   (...)\u001b[0m\n\u001b[0;32m    403\u001b[0m \u001b[39m    tuple of operation code and string(byte array) value.\u001b[39;00m\n\u001b[0;32m    404\u001b[0m \u001b[39m\"\"\"\u001b[39;00m\n\u001b[0;32m    405\u001b[0m \u001b[39mwhile\u001b[39;00m \u001b[39mTrue\u001b[39;00m:\n\u001b[1;32m--> 406\u001b[0m     frame \u001b[39m=\u001b[39m \u001b[39mself\u001b[39;49m\u001b[39m.\u001b[39;49mrecv_frame()\n\u001b[0;32m    407\u001b[0m     \u001b[39mif\u001b[39;00m (isEnabledForTrace()):\n\u001b[0;32m    408\u001b[0m         trace(\u001b[39m\"\u001b[39m\u001b[39m++Rcv raw: \u001b[39m\u001b[39m\"\u001b[39m \u001b[39m+\u001b[39m \u001b[39mrepr\u001b[39m(frame\u001b[39m.\u001b[39mformat()))\n",
      "File \u001b[1;32mc:\\Projects\\betting-tracker\\scripts\\.env\\lib\\site-packages\\websocket\\_core.py:445\u001b[0m, in \u001b[0;36mWebSocket.recv_frame\u001b[1;34m(self)\u001b[0m\n\u001b[0;32m    437\u001b[0m \u001b[39mdef\u001b[39;00m \u001b[39mrecv_frame\u001b[39m(\u001b[39mself\u001b[39m):\n\u001b[0;32m    438\u001b[0m     \u001b[39m\"\"\"\u001b[39;00m\n\u001b[0;32m    439\u001b[0m \u001b[39m    Receive data as frame from server.\u001b[39;00m\n\u001b[0;32m    440\u001b[0m \n\u001b[1;32m   (...)\u001b[0m\n\u001b[0;32m    443\u001b[0m \u001b[39m    self.frame_buffer.recv_frame(): ABNF frame object\u001b[39;00m\n\u001b[0;32m    444\u001b[0m \u001b[39m    \"\"\"\u001b[39;00m\n\u001b[1;32m--> 445\u001b[0m     \u001b[39mreturn\u001b[39;00m \u001b[39mself\u001b[39;49m\u001b[39m.\u001b[39;49mframe_buffer\u001b[39m.\u001b[39;49mrecv_frame()\n",
      "File \u001b[1;32mc:\\Projects\\betting-tracker\\scripts\\.env\\lib\\site-packages\\websocket\\_abnf.py:338\u001b[0m, in \u001b[0;36mframe_buffer.recv_frame\u001b[1;34m(self)\u001b[0m\n\u001b[0;32m    335\u001b[0m \u001b[39mwith\u001b[39;00m \u001b[39mself\u001b[39m\u001b[39m.\u001b[39mlock:\n\u001b[0;32m    336\u001b[0m     \u001b[39m# Header\u001b[39;00m\n\u001b[0;32m    337\u001b[0m     \u001b[39mif\u001b[39;00m \u001b[39mself\u001b[39m\u001b[39m.\u001b[39mhas_received_header():\n\u001b[1;32m--> 338\u001b[0m         \u001b[39mself\u001b[39;49m\u001b[39m.\u001b[39;49mrecv_header()\n\u001b[0;32m    339\u001b[0m     (fin, rsv1, rsv2, rsv3, opcode, has_mask, _) \u001b[39m=\u001b[39m \u001b[39mself\u001b[39m\u001b[39m.\u001b[39mheader\n\u001b[0;32m    341\u001b[0m     \u001b[39m# Frame length\u001b[39;00m\n",
      "File \u001b[1;32mc:\\Projects\\betting-tracker\\scripts\\.env\\lib\\site-packages\\websocket\\_abnf.py:294\u001b[0m, in \u001b[0;36mframe_buffer.recv_header\u001b[1;34m(self)\u001b[0m\n\u001b[0;32m    293\u001b[0m \u001b[39mdef\u001b[39;00m \u001b[39mrecv_header\u001b[39m(\u001b[39mself\u001b[39m):\n\u001b[1;32m--> 294\u001b[0m     header \u001b[39m=\u001b[39m \u001b[39mself\u001b[39;49m\u001b[39m.\u001b[39;49mrecv_strict(\u001b[39m2\u001b[39;49m)\n\u001b[0;32m    295\u001b[0m     b1 \u001b[39m=\u001b[39m header[\u001b[39m0\u001b[39m]\n\u001b[0;32m    296\u001b[0m     fin \u001b[39m=\u001b[39m b1 \u001b[39m>>\u001b[39m \u001b[39m7\u001b[39m \u001b[39m&\u001b[39m \u001b[39m1\u001b[39m\n",
      "File \u001b[1;32mc:\\Projects\\betting-tracker\\scripts\\.env\\lib\\site-packages\\websocket\\_abnf.py:373\u001b[0m, in \u001b[0;36mframe_buffer.recv_strict\u001b[1;34m(self, bufsize)\u001b[0m\n\u001b[0;32m    365\u001b[0m shortage \u001b[39m=\u001b[39m bufsize \u001b[39m-\u001b[39m \u001b[39msum\u001b[39m(\u001b[39mmap\u001b[39m(\u001b[39mlen\u001b[39m, \u001b[39mself\u001b[39m\u001b[39m.\u001b[39mrecv_buffer))\n\u001b[0;32m    366\u001b[0m \u001b[39mwhile\u001b[39;00m shortage \u001b[39m>\u001b[39m \u001b[39m0\u001b[39m:\n\u001b[0;32m    367\u001b[0m     \u001b[39m# Limit buffer size that we pass to socket.recv() to avoid\u001b[39;00m\n\u001b[0;32m    368\u001b[0m     \u001b[39m# fragmenting the heap -- the number of bytes recv() actually\u001b[39;00m\n\u001b[1;32m   (...)\u001b[0m\n\u001b[0;32m    371\u001b[0m     \u001b[39m# buffers allocated and then shrunk, which results in\u001b[39;00m\n\u001b[0;32m    372\u001b[0m     \u001b[39m# fragmentation.\u001b[39;00m\n\u001b[1;32m--> 373\u001b[0m     bytes_ \u001b[39m=\u001b[39m \u001b[39mself\u001b[39;49m\u001b[39m.\u001b[39;49mrecv(\u001b[39mmin\u001b[39;49m(\u001b[39m16384\u001b[39;49m, shortage))\n\u001b[0;32m    374\u001b[0m     \u001b[39mself\u001b[39m\u001b[39m.\u001b[39mrecv_buffer\u001b[39m.\u001b[39mappend(bytes_)\n\u001b[0;32m    375\u001b[0m     shortage \u001b[39m-\u001b[39m\u001b[39m=\u001b[39m \u001b[39mlen\u001b[39m(bytes_)\n",
      "File \u001b[1;32mc:\\Projects\\betting-tracker\\scripts\\.env\\lib\\site-packages\\websocket\\_core.py:529\u001b[0m, in \u001b[0;36mWebSocket._recv\u001b[1;34m(self, bufsize)\u001b[0m\n\u001b[0;32m    527\u001b[0m \u001b[39mdef\u001b[39;00m \u001b[39m_recv\u001b[39m(\u001b[39mself\u001b[39m, bufsize):\n\u001b[0;32m    528\u001b[0m     \u001b[39mtry\u001b[39;00m:\n\u001b[1;32m--> 529\u001b[0m         \u001b[39mreturn\u001b[39;00m recv(\u001b[39mself\u001b[39;49m\u001b[39m.\u001b[39;49msock, bufsize)\n\u001b[0;32m    530\u001b[0m     \u001b[39mexcept\u001b[39;00m WebSocketConnectionClosedException:\n\u001b[0;32m    531\u001b[0m         \u001b[39mif\u001b[39;00m \u001b[39mself\u001b[39m\u001b[39m.\u001b[39msock:\n",
      "File \u001b[1;32mc:\\Projects\\betting-tracker\\scripts\\.env\\lib\\site-packages\\websocket\\_socket.py:122\u001b[0m, in \u001b[0;36mrecv\u001b[1;34m(sock, bufsize)\u001b[0m\n\u001b[0;32m    119\u001b[0m         \u001b[39mraise\u001b[39;00m\n\u001b[0;32m    121\u001b[0m \u001b[39mif\u001b[39;00m \u001b[39mnot\u001b[39;00m bytes_:\n\u001b[1;32m--> 122\u001b[0m     \u001b[39mraise\u001b[39;00m WebSocketConnectionClosedException(\n\u001b[0;32m    123\u001b[0m         \u001b[39m\"\u001b[39m\u001b[39mConnection to remote host was lost.\u001b[39m\u001b[39m\"\u001b[39m)\n\u001b[0;32m    125\u001b[0m \u001b[39mreturn\u001b[39;00m bytes_\n",
      "\u001b[1;31mWebSocketConnectionClosedException\u001b[0m: Connection to remote host was lost."
     ]
    }
   ],
   "source": [
    "ws = websocket.WebSocket()\n",
    "page_id = 'https://betway.com/es/sports/evt/10647401'\n",
    "website_id='betway.com'\n",
    "# uri = 'wss://plankton-app-5rfza.ondigitalocean.app'\n",
    "uri='ws://localhost:8000'\n",
    "ws.connect(f'{uri}/games/{website_id}?game_id={page_id}')\n",
    "ws.recv()"
   ]
  },
  {
   "cell_type": "code",
   "execution_count": 149,
   "metadata": {},
   "outputs": [
    {
     "data": {
      "text/plain": [
       "['__class__',\n",
       " '__delattr__',\n",
       " '__dict__',\n",
       " '__dir__',\n",
       " '__doc__',\n",
       " '__eq__',\n",
       " '__format__',\n",
       " '__ge__',\n",
       " '__getattribute__',\n",
       " '__gt__',\n",
       " '__hash__',\n",
       " '__init__',\n",
       " '__init_subclass__',\n",
       " '__iter__',\n",
       " '__le__',\n",
       " '__lt__',\n",
       " '__module__',\n",
       " '__ne__',\n",
       " '__new__',\n",
       " '__next__',\n",
       " '__reduce__',\n",
       " '__reduce_ex__',\n",
       " '__repr__',\n",
       " '__setattr__',\n",
       " '__sizeof__',\n",
       " '__str__',\n",
       " '__subclasshook__',\n",
       " '__weakref__',\n",
       " '_recv',\n",
       " '_send',\n",
       " 'abort',\n",
       " 'close',\n",
       " 'connect',\n",
       " 'connected',\n",
       " 'cont_frame',\n",
       " 'fileno',\n",
       " 'frame_buffer',\n",
       " 'get_mask_key',\n",
       " 'getheaders',\n",
       " 'getstatus',\n",
       " 'getsubprotocol',\n",
       " 'gettimeout',\n",
       " 'handshake_response',\n",
       " 'headers',\n",
       " 'is_ssl',\n",
       " 'lock',\n",
       " 'next',\n",
       " 'ping',\n",
       " 'pong',\n",
       " 'readlock',\n",
       " 'recv',\n",
       " 'recv_data',\n",
       " 'recv_data_frame',\n",
       " 'recv_frame',\n",
       " 'send',\n",
       " 'send_binary',\n",
       " 'send_close',\n",
       " 'send_frame',\n",
       " 'set_mask_key',\n",
       " 'settimeout',\n",
       " 'shutdown',\n",
       " 'sock',\n",
       " 'sock_opt',\n",
       " 'status',\n",
       " 'subprotocol',\n",
       " 'timeout']"
      ]
     },
     "execution_count": 149,
     "metadata": {},
     "output_type": "execute_result"
    }
   ],
   "source": []
  },
  {
   "cell_type": "code",
   "execution_count": 72,
   "metadata": {},
   "outputs": [],
   "source": [
    "from core.models import r\n",
    "from redis.commands.search.query import Query, NumericFilter"
   ]
  },
  {
   "cell_type": "code",
   "execution_count": 148,
   "metadata": {},
   "outputs": [
    {
     "data": {
      "text/plain": [
       "Result{0 total, docs: []}"
      ]
     },
     "execution_count": 148,
     "metadata": {},
     "output_type": "execute_result"
    }
   ],
   "source": [
    "r.ft('idxGames').search(Query('@scraping:{true}').paging(0, 5))"
   ]
  },
  {
   "cell_type": "code",
   "execution_count": 104,
   "metadata": {},
   "outputs": [],
   "source": [
    "from core.webdriver import init_driver\n",
    "driver = init_driver(False)"
   ]
  },
  {
   "cell_type": "code",
   "execution_count": 105,
   "metadata": {},
   "outputs": [],
   "source": [
    "driver.execute_script(\"window.open('');\")"
   ]
  }
 ],
 "metadata": {
  "kernelspec": {
   "display_name": "Python 3.10.7 ('.env': venv)",
   "language": "python",
   "name": "python3"
  },
  "language_info": {
   "codemirror_mode": {
    "name": "ipython",
    "version": 3
   },
   "file_extension": ".py",
   "mimetype": "text/x-python",
   "name": "python",
   "nbconvert_exporter": "python",
   "pygments_lexer": "ipython3",
   "version": "3.10.7"
  },
  "orig_nbformat": 4,
  "vscode": {
   "interpreter": {
    "hash": "d93b7cf8377a7b4b70e5aacb35380c6fb24fe780e3e5e5dda0f77aaf50ba8a4e"
   }
  }
 },
 "nbformat": 4,
 "nbformat_minor": 2
}
