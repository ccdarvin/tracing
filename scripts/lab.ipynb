{
 "cells": [
  {
   "cell_type": "code",
   "execution_count": null,
   "metadata": {},
   "outputs": [],
   "source": [
    "import websocket\n",
    "import json\n",
    "from urllib.parse import quote"
   ]
  },
  {
   "cell_type": "code",
   "execution_count": null,
   "metadata": {},
   "outputs": [],
   "source": [
    "ws = websocket.WebSocket()\n",
    "website_id='google.com'\n",
    "ws.connect(f'wss://plankton-app-5rfza.ondigitalocean.app/websites?scraping={website_id}')\n",
    "ws.recv()"
   ]
  },
  {
   "cell_type": "code",
   "execution_count": null,
   "metadata": {},
   "outputs": [],
   "source": [
    "ws.close()"
   ]
  },
  {
   "cell_type": "code",
   "execution_count": null,
   "metadata": {},
   "outputs": [],
   "source": [
    "ws = websocket.WebSocket()\n",
    "page_id = 'https://betway.com/es/sports/evt/10682299\",\"websiteId'\n",
    "website_id='betway.com'\n",
    "# uri = 'wss://plankton-app-5rfza.ondigitalocean.app'\n",
    "uri='ws://localhost:8000'\n",
    "ws.connect(f'{uri}/games/{website_id}?game_id={page_id}')\n",
    "ws.recv()"
   ]
  },
  {
   "cell_type": "code",
   "execution_count": null,
   "metadata": {},
   "outputs": [],
   "source": [
    "from core.models import r\n",
    "from redis.commands.search.query import Query, NumericFilter\n",
    "from  redis.commands.search import aggregation\n",
    "from redis.commands.search import reducers\n",
    "from datetime import datetime, timezone"
   ]
  },
  {
   "cell_type": "code",
   "execution_count": null,
   "metadata": {},
   "outputs": [],
   "source": [
    "r.ft('idxGames').search(Query('@scraping:{true}').sort_by('lastScraping'))"
   ]
  },
  {
   "cell_type": "code",
   "execution_count": null,
   "metadata": {},
   "outputs": [],
   "source": [
    "from bs4 import BeautifulSoup"
   ]
  },
  {
   "cell_type": "code",
   "execution_count": 183,
   "metadata": {},
   "outputs": [],
   "source": [
    "from core.webdriver import init_driver\n",
    "from selenium.webdriver.common.by import By\n",
    "from selenium.webdriver.common.action_chains import ActionChains\n",
    "from selenium.webdriver.support.ui import WebDriverWait\n",
    "from selenium.webdriver.support import expected_conditions as EC\n",
    "from core.utils import scroll_down\n",
    "from core.models import Bet\n",
    "from time import sleep\n",
    "driver = init_driver(headless=False)\n",
    "url= 'https://pe.betano.com/live/macarthur-fc-melbourne-victory/28337581/'\n",
    "driver.get(url)\n",
    "try:\n",
    "    driver.find_element(By.CSS_SELECTOR, '.sb-modal__close__btn').click()\n",
    "except:\n",
    "    pass\n",
    "# https://pe.betano.com/live/central-coast-mariners-newcastle-jets/28337580/"
   ]
  },
  {
   "cell_type": "code",
   "execution_count": 185,
   "metadata": {},
   "outputs": [
    {
     "data": {
      "text/plain": [
       "'https://pe.betano.com/live/'"
      ]
     },
     "execution_count": 185,
     "metadata": {},
     "output_type": "execute_result"
    }
   ],
   "source": [
    "driver.get('https://pe.betano.com/live/central-coast-mariners-newcastle-jets/28337580/')\n",
    "driver.current_url"
   ]
  },
  {
   "cell_type": "code",
   "execution_count": 178,
   "metadata": {},
   "outputs": [],
   "source": [
    "def bet_with_scroll():\n",
    "    for elm in driver.find_elements(By.CSS_SELECTOR, '[role=\"listitem\"]'):\n",
    "        soup = BeautifulSoup(elm.get_attribute('innerHTML'), 'html.parser')\n",
    "        group = soup.find('div', class_='markets__market__header__title').get_text()\n",
    "        group = ' '.join(group.split())\n",
    "        for soup_b in soup.find_all('button'):\n",
    "            if soup_b.get_text().split():\n",
    "                name = soup_b.find('span', class_='selections__selection__title').get_text()\n",
    "                name = ' '.join(name.split())\n",
    "                bet = Bet(\n",
    "                    id= f'{group}_{name}'.replace(' ', '-'),\n",
    "                    websiteId='betano.com',\n",
    "                    gameId=url,\n",
    "                    group=group,\n",
    "                    name=name,\n",
    "                    bet = float(soup_b.find('span', class_='selections__selection__odd').get_text())\n",
    "                )\n",
    "                print(bet.__dict__)"
   ]
  },
  {
   "cell_type": "code",
   "execution_count": 181,
   "metadata": {},
   "outputs": [
    {
     "name": "stdout",
     "output_type": "stream",
     "text": [
      "{'id': 'Resultado-del-partido_1', 'websiteId': 'betano.com', 'gameId': 'https://pe.betano.com/live/macarthur-fc-melbourne-victory/28337581/', 'group': 'Resultado del partido', 'name': '1', 'bet': 5.4}\n",
      "{'id': 'Resultado-del-partido_X', 'websiteId': 'betano.com', 'gameId': 'https://pe.betano.com/live/macarthur-fc-melbourne-victory/28337581/', 'group': 'Resultado del partido', 'name': 'X', 'bet': 1.88}\n",
      "{'id': 'Resultado-del-partido_2', 'websiteId': 'betano.com', 'gameId': 'https://pe.betano.com/live/macarthur-fc-melbourne-victory/28337581/', 'group': 'Resultado del partido', 'name': '2', 'bet': 3.0}\n",
      "{'id': 'Total-de-Goles-Más/Menos_Más0.5', 'websiteId': 'betano.com', 'gameId': 'https://pe.betano.com/live/macarthur-fc-melbourne-victory/28337581/', 'group': 'Total de Goles Más/Menos', 'name': 'Más0.5', 'bet': 1.7}\n",
      "{'id': 'Total-de-Goles-Más/Menos_Menos0.5', 'websiteId': 'betano.com', 'gameId': 'https://pe.betano.com/live/macarthur-fc-melbourne-victory/28337581/', 'group': 'Total de Goles Más/Menos', 'name': 'Menos0.5', 'bet': 2.2}\n",
      "{'id': 'Total-de-Goles-Más/Menos-(extra)_Más1.5', 'websiteId': 'betano.com', 'gameId': 'https://pe.betano.com/live/macarthur-fc-melbourne-victory/28337581/', 'group': 'Total de Goles Más/Menos (extra)', 'name': 'Más1.5', 'bet': 4.1}\n",
      "{'id': 'Total-de-Goles-Más/Menos-(extra)_Menos1.5', 'websiteId': 'betano.com', 'gameId': 'https://pe.betano.com/live/macarthur-fc-melbourne-victory/28337581/', 'group': 'Total de Goles Más/Menos (extra)', 'name': 'Menos1.5', 'bet': 1.24}\n",
      "{'id': 'Total-de-Goles-Más/Menos-(extra)_Más2.5', 'websiteId': 'betano.com', 'gameId': 'https://pe.betano.com/live/macarthur-fc-melbourne-victory/28337581/', 'group': 'Total de Goles Más/Menos (extra)', 'name': 'Más2.5', 'bet': 10.75}\n",
      "{'id': 'Total-de-Goles-Más/Menos-(extra)_Menos2.5', 'websiteId': 'betano.com', 'gameId': 'https://pe.betano.com/live/macarthur-fc-melbourne-victory/28337581/', 'group': 'Total de Goles Más/Menos (extra)', 'name': 'Menos2.5', 'bet': 1.04}\n",
      "{'id': 'Próximo-gol-(Gol-1)_Macarthur-FC', 'websiteId': 'betano.com', 'gameId': 'https://pe.betano.com/live/macarthur-fc-melbourne-victory/28337581/', 'group': 'Próximo gol (Gol 1)', 'name': 'Macarthur FC', 'bet': 4.1}\n",
      "{'id': 'Próximo-gol-(Gol-1)_Sin-Goles', 'websiteId': 'betano.com', 'gameId': 'https://pe.betano.com/live/macarthur-fc-melbourne-victory/28337581/', 'group': 'Próximo gol (Gol 1)', 'name': 'Sin Goles', 'bet': 2.2}\n",
      "{'id': 'Próximo-gol-(Gol-1)_Melbourne-Victory', 'websiteId': 'betano.com', 'gameId': 'https://pe.betano.com/live/macarthur-fc-melbourne-victory/28337581/', 'group': 'Próximo gol (Gol 1)', 'name': 'Melbourne Victory', 'bet': 2.6}\n",
      "{'id': 'Doble-oportunidad_1X', 'websiteId': 'betano.com', 'gameId': 'https://pe.betano.com/live/macarthur-fc-melbourne-victory/28337581/', 'group': 'Doble oportunidad', 'name': '1X', 'bet': 1.4}\n",
      "{'id': 'Doble-oportunidad_2X', 'websiteId': 'betano.com', 'gameId': 'https://pe.betano.com/live/macarthur-fc-melbourne-victory/28337581/', 'group': 'Doble oportunidad', 'name': '2X', 'bet': 1.17}\n",
      "{'id': 'Doble-oportunidad_12', 'websiteId': 'betano.com', 'gameId': 'https://pe.betano.com/live/macarthur-fc-melbourne-victory/28337581/', 'group': 'Doble oportunidad', 'name': '12', 'bet': 1.88}\n",
      "{'id': 'Ambos-equipos-anotan_Sí', 'websiteId': 'betano.com', 'gameId': 'https://pe.betano.com/live/macarthur-fc-melbourne-victory/28337581/', 'group': 'Ambos equipos anotan', 'name': 'Sí', 'bet': 6.2}\n",
      "{'id': 'Ambos-equipos-anotan_No', 'websiteId': 'betano.com', 'gameId': 'https://pe.betano.com/live/macarthur-fc-melbourne-victory/28337581/', 'group': 'Ambos equipos anotan', 'name': 'No', 'bet': 1.1}\n",
      "{'id': 'Apuesta-sin-Empate_Macarthur-FC', 'websiteId': 'betano.com', 'gameId': 'https://pe.betano.com/live/macarthur-fc-melbourne-victory/28337581/', 'group': 'Apuesta sin Empate', 'name': 'Macarthur FC', 'bet': 2.6}\n",
      "{'id': 'Apuesta-sin-Empate_Melbourne-Victory', 'websiteId': 'betano.com', 'gameId': 'https://pe.betano.com/live/macarthur-fc-melbourne-victory/28337581/', 'group': 'Apuesta sin Empate', 'name': 'Melbourne Victory', 'bet': 1.47}\n",
      "{'id': 'Hándicap-Asiático-(Resultado-actual-0---0)_Macarthur-FC+0.25', 'websiteId': 'betano.com', 'gameId': 'https://pe.betano.com/live/macarthur-fc-melbourne-victory/28337581/', 'group': 'Hándicap Asiático (Resultado actual 0 - 0)', 'name': 'Macarthur FC+0.25', 'bet': 1.65}\n",
      "{'id': 'Hándicap-Asiático-(Resultado-actual-0---0)_Melbourne-Victory-0.25', 'websiteId': 'betano.com', 'gameId': 'https://pe.betano.com/live/macarthur-fc-melbourne-victory/28337581/', 'group': 'Hándicap Asiático (Resultado actual 0 - 0)', 'name': 'Melbourne Victory-0.25', 'bet': 2.25}\n",
      "{'id': 'Hándicap-Asiático-(Resultado-actual-0---0)-(extra)_Macarthur-FC-0.75', 'websiteId': 'betano.com', 'gameId': 'https://pe.betano.com/live/macarthur-fc-melbourne-victory/28337581/', 'group': 'Hándicap Asiático (Resultado actual 0 - 0) (extra)', 'name': 'Macarthur FC-0.75', 'bet': 7.1}\n",
      "{'id': 'Hándicap-Asiático-(Resultado-actual-0---0)-(extra)_Melbourne-Victory+0.75', 'websiteId': 'betano.com', 'gameId': 'https://pe.betano.com/live/macarthur-fc-melbourne-victory/28337581/', 'group': 'Hándicap Asiático (Resultado actual 0 - 0) (extra)', 'name': 'Melbourne Victory+0.75', 'bet': 1.1}\n",
      "{'id': 'Hándicap-Asiático-(Resultado-actual-0---0)-(extra)_Macarthur-FC-0.5', 'websiteId': 'betano.com', 'gameId': 'https://pe.betano.com/live/macarthur-fc-melbourne-victory/28337581/', 'group': 'Hándicap Asiático (Resultado actual 0 - 0) (extra)', 'name': 'Macarthur FC-0.5', 'bet': 4.9}\n",
      "{'id': 'Hándicap-Asiático-(Resultado-actual-0---0)-(extra)_Melbourne-Victory+0.5', 'websiteId': 'betano.com', 'gameId': 'https://pe.betano.com/live/macarthur-fc-melbourne-victory/28337581/', 'group': 'Hándicap Asiático (Resultado actual 0 - 0) (extra)', 'name': 'Melbourne Victory+0.5', 'bet': 1.18}\n",
      "{'id': 'Hándicap-Asiático-(Resultado-actual-0---0)-(extra)_Macarthur-FC-0.25', 'websiteId': 'betano.com', 'gameId': 'https://pe.betano.com/live/macarthur-fc-melbourne-victory/28337581/', 'group': 'Hándicap Asiático (Resultado actual 0 - 0) (extra)', 'name': 'Macarthur FC-0.25', 'bet': 3.85}\n",
      "{'id': 'Hándicap-Asiático-(Resultado-actual-0---0)-(extra)_Melbourne-Victory+0.25', 'websiteId': 'betano.com', 'gameId': 'https://pe.betano.com/live/macarthur-fc-melbourne-victory/28337581/', 'group': 'Hándicap Asiático (Resultado actual 0 - 0) (extra)', 'name': 'Melbourne Victory+0.25', 'bet': 1.27}\n",
      "{'id': 'Hándicap-Asiático-(Resultado-actual-0---0)-(extra)_Macarthur-FC-0.0', 'websiteId': 'betano.com', 'gameId': 'https://pe.betano.com/live/macarthur-fc-melbourne-victory/28337581/', 'group': 'Hándicap Asiático (Resultado actual 0 - 0) (extra)', 'name': 'Macarthur FC 0.0', 'bet': 2.62}\n",
      "{'id': 'Hándicap-Asiático-(Resultado-actual-0---0)-(extra)_Melbourne-Victory-0.0', 'websiteId': 'betano.com', 'gameId': 'https://pe.betano.com/live/macarthur-fc-melbourne-victory/28337581/', 'group': 'Hándicap Asiático (Resultado actual 0 - 0) (extra)', 'name': 'Melbourne Victory 0.0', 'bet': 1.5}\n",
      "{'id': 'Hándicap-Asiático-(Resultado-actual-0---0)-(extra)_Macarthur-FC+0.5', 'websiteId': 'betano.com', 'gameId': 'https://pe.betano.com/live/macarthur-fc-melbourne-victory/28337581/', 'group': 'Hándicap Asiático (Resultado actual 0 - 0) (extra)', 'name': 'Macarthur FC+0.5', 'bet': 1.42}\n",
      "{'id': 'Hándicap-Asiático-(Resultado-actual-0---0)-(extra)_Melbourne-Victory-0.5', 'websiteId': 'betano.com', 'gameId': 'https://pe.betano.com/live/macarthur-fc-melbourne-victory/28337581/', 'group': 'Hándicap Asiático (Resultado actual 0 - 0) (extra)', 'name': 'Melbourne Victory-0.5', 'bet': 2.9}\n",
      "{'id': 'Hándicap-Asiático-(Resultado-actual-0---0)-(extra)_Macarthur-FC+0.75', 'websiteId': 'betano.com', 'gameId': 'https://pe.betano.com/live/macarthur-fc-melbourne-victory/28337581/', 'group': 'Hándicap Asiático (Resultado actual 0 - 0) (extra)', 'name': 'Macarthur FC+0.75', 'bet': 1.25}\n",
      "{'id': 'Hándicap-Asiático-(Resultado-actual-0---0)-(extra)_Melbourne-Victory-0.75', 'websiteId': 'betano.com', 'gameId': 'https://pe.betano.com/live/macarthur-fc-melbourne-victory/28337581/', 'group': 'Hándicap Asiático (Resultado actual 0 - 0) (extra)', 'name': 'Melbourne Victory-0.75', 'bet': 3.95}\n",
      "{'id': 'Asiático-(Más/Menos)-Total-de-goles_Más0.75', 'websiteId': 'betano.com', 'gameId': 'https://pe.betano.com/live/macarthur-fc-melbourne-victory/28337581/', 'group': 'Asiático (Más/Menos) Total de goles', 'name': 'Más0.75', 'bet': 1.98}\n",
      "{'id': 'Asiático-(Más/Menos)-Total-de-goles_Menos0.75', 'websiteId': 'betano.com', 'gameId': 'https://pe.betano.com/live/macarthur-fc-melbourne-victory/28337581/', 'group': 'Asiático (Más/Menos) Total de goles', 'name': 'Menos0.75', 'bet': 1.83}\n",
      "{'id': 'Asiático-(Más/Menos)-Total-de-goles-(extra)_Más0.5', 'websiteId': 'betano.com', 'gameId': 'https://pe.betano.com/live/macarthur-fc-melbourne-victory/28337581/', 'group': 'Asiático (Más/Menos) Total de goles (extra)', 'name': 'Más0.5', 'bet': 1.7}\n",
      "{'id': 'Asiático-(Más/Menos)-Total-de-goles-(extra)_Menos0.5', 'websiteId': 'betano.com', 'gameId': 'https://pe.betano.com/live/macarthur-fc-melbourne-victory/28337581/', 'group': 'Asiático (Más/Menos) Total de goles (extra)', 'name': 'Menos0.5', 'bet': 2.2}\n",
      "{'id': 'Asiático-(Más/Menos)-Total-de-goles-(extra)_Más1.0', 'websiteId': 'betano.com', 'gameId': 'https://pe.betano.com/live/macarthur-fc-melbourne-victory/28337581/', 'group': 'Asiático (Más/Menos) Total de goles (extra)', 'name': 'Más1.0', 'bet': 2.77}\n",
      "{'id': 'Asiático-(Más/Menos)-Total-de-goles-(extra)_Menos1.0', 'websiteId': 'betano.com', 'gameId': 'https://pe.betano.com/live/macarthur-fc-melbourne-victory/28337581/', 'group': 'Asiático (Más/Menos) Total de goles (extra)', 'name': 'Menos1.0', 'bet': 1.45}\n",
      "{'id': 'Asiático-(Más/Menos)-Total-de-goles-(extra)_Más1.25', 'websiteId': 'betano.com', 'gameId': 'https://pe.betano.com/live/macarthur-fc-melbourne-victory/28337581/', 'group': 'Asiático (Más/Menos) Total de goles (extra)', 'name': 'Más1.25', 'bet': 3.45}\n",
      "{'id': 'Asiático-(Más/Menos)-Total-de-goles-(extra)_Menos1.25', 'websiteId': 'betano.com', 'gameId': 'https://pe.betano.com/live/macarthur-fc-melbourne-victory/28337581/', 'group': 'Asiático (Más/Menos) Total de goles (extra)', 'name': 'Menos1.25', 'bet': 1.32}\n",
      "{'id': 'Asiático-(Más/Menos)-Total-de-goles-(extra)_Más1.5', 'websiteId': 'betano.com', 'gameId': 'https://pe.betano.com/live/macarthur-fc-melbourne-victory/28337581/', 'group': 'Asiático (Más/Menos) Total de goles (extra)', 'name': 'Más1.5', 'bet': 4.1}\n",
      "{'id': 'Asiático-(Más/Menos)-Total-de-goles-(extra)_Menos1.5', 'websiteId': 'betano.com', 'gameId': 'https://pe.betano.com/live/macarthur-fc-melbourne-victory/28337581/', 'group': 'Asiático (Más/Menos) Total de goles (extra)', 'name': 'Menos1.5', 'bet': 1.24}\n",
      "{'id': 'Asiático-(Más/Menos)-Total-de-goles-(extra)_Más1.75', 'websiteId': 'betano.com', 'gameId': 'https://pe.betano.com/live/macarthur-fc-melbourne-victory/28337581/', 'group': 'Asiático (Más/Menos) Total de goles (extra)', 'name': 'Más1.75', 'bet': 5.7}\n",
      "{'id': 'Asiático-(Más/Menos)-Total-de-goles-(extra)_Menos1.75', 'websiteId': 'betano.com', 'gameId': 'https://pe.betano.com/live/macarthur-fc-melbourne-victory/28337581/', 'group': 'Asiático (Más/Menos) Total de goles (extra)', 'name': 'Menos1.75', 'bet': 1.14}\n",
      "{'id': 'Asiático-(Más/Menos)-Total-de-goles-(extra)_Más2.0', 'websiteId': 'betano.com', 'gameId': 'https://pe.betano.com/live/macarthur-fc-melbourne-victory/28337581/', 'group': 'Asiático (Más/Menos) Total de goles (extra)', 'name': 'Más2.0', 'bet': 10.0}\n",
      "{'id': 'Asiático-(Más/Menos)-Total-de-goles-(extra)_Menos2.0', 'websiteId': 'betano.com', 'gameId': 'https://pe.betano.com/live/macarthur-fc-melbourne-victory/28337581/', 'group': 'Asiático (Más/Menos) Total de goles (extra)', 'name': 'Menos2.0', 'bet': 1.05}\n",
      "{'id': 'Macarthur-FC---Total-de-Goles-Más/Menos_Más0.5', 'websiteId': 'betano.com', 'gameId': 'https://pe.betano.com/live/macarthur-fc-melbourne-victory/28337581/', 'group': 'Macarthur FC - Total de Goles Más/Menos', 'name': 'Más0.5', 'bet': 3.2}\n",
      "{'id': 'Macarthur-FC---Total-de-Goles-Más/Menos_Menos0.5', 'websiteId': 'betano.com', 'gameId': 'https://pe.betano.com/live/macarthur-fc-melbourne-victory/28337581/', 'group': 'Macarthur FC - Total de Goles Más/Menos', 'name': 'Menos0.5', 'bet': 1.34}\n",
      "{'id': 'Macarthur-FC---Total-de-Goles-Más/Menos_Más1.5', 'websiteId': 'betano.com', 'gameId': 'https://pe.betano.com/live/macarthur-fc-melbourne-victory/28337581/', 'group': 'Macarthur FC - Total de Goles Más/Menos', 'name': 'Más1.5', 'bet': 11.25}\n",
      "{'id': 'Macarthur-FC---Total-de-Goles-Más/Menos_Menos1.5', 'websiteId': 'betano.com', 'gameId': 'https://pe.betano.com/live/macarthur-fc-melbourne-victory/28337581/', 'group': 'Macarthur FC - Total de Goles Más/Menos', 'name': 'Menos1.5', 'bet': 1.03}\n",
      "{'id': 'Melbourne-Victory---Total-de-Goles-Más/Menos_Más0.5', 'websiteId': 'betano.com', 'gameId': 'https://pe.betano.com/live/macarthur-fc-melbourne-victory/28337581/', 'group': 'Melbourne Victory - Total de Goles Más/Menos', 'name': 'Más0.5', 'bet': 2.25}\n",
      "{'id': 'Melbourne-Victory---Total-de-Goles-Más/Menos_Menos0.5', 'websiteId': 'betano.com', 'gameId': 'https://pe.betano.com/live/macarthur-fc-melbourne-victory/28337581/', 'group': 'Melbourne Victory - Total de Goles Más/Menos', 'name': 'Menos0.5', 'bet': 1.62}\n",
      "{'id': 'Melbourne-Victory---Total-de-Goles-Más/Menos_Más1.5', 'websiteId': 'betano.com', 'gameId': 'https://pe.betano.com/live/macarthur-fc-melbourne-victory/28337581/', 'group': 'Melbourne Victory - Total de Goles Más/Menos', 'name': 'Más1.5', 'bet': 7.8}\n",
      "{'id': 'Melbourne-Victory---Total-de-Goles-Más/Menos_Menos1.5', 'websiteId': 'betano.com', 'gameId': 'https://pe.betano.com/live/macarthur-fc-melbourne-victory/28337581/', 'group': 'Melbourne Victory - Total de Goles Más/Menos', 'name': 'Menos1.5', 'bet': 1.07}\n",
      "{'id': 'Melbourne-Victory---Total-de-Goles-Más/Menos_Más2.5', 'websiteId': 'betano.com', 'gameId': 'https://pe.betano.com/live/macarthur-fc-melbourne-victory/28337581/', 'group': 'Melbourne Victory - Total de Goles Más/Menos', 'name': 'Más2.5', 'bet': 14.5}\n",
      "{'id': 'Melbourne-Victory---Total-de-Goles-Más/Menos_Menos2.5', 'websiteId': 'betano.com', 'gameId': 'https://pe.betano.com/live/macarthur-fc-melbourne-victory/28337581/', 'group': 'Melbourne Victory - Total de Goles Más/Menos', 'name': 'Menos2.5', 'bet': 1.01}\n",
      "{'id': 'Resultado-del-partido_1', 'websiteId': 'betano.com', 'gameId': 'https://pe.betano.com/live/macarthur-fc-melbourne-victory/28337581/', 'group': 'Resultado del partido', 'name': '1', 'bet': 5.4}\n",
      "{'id': 'Resultado-del-partido_X', 'websiteId': 'betano.com', 'gameId': 'https://pe.betano.com/live/macarthur-fc-melbourne-victory/28337581/', 'group': 'Resultado del partido', 'name': 'X', 'bet': 1.88}\n",
      "{'id': 'Resultado-del-partido_2', 'websiteId': 'betano.com', 'gameId': 'https://pe.betano.com/live/macarthur-fc-melbourne-victory/28337581/', 'group': 'Resultado del partido', 'name': '2', 'bet': 3.0}\n",
      "{'id': 'Total-de-Goles-Más/Menos_Más0.5', 'websiteId': 'betano.com', 'gameId': 'https://pe.betano.com/live/macarthur-fc-melbourne-victory/28337581/', 'group': 'Total de Goles Más/Menos', 'name': 'Más0.5', 'bet': 1.7}\n",
      "{'id': 'Total-de-Goles-Más/Menos_Menos0.5', 'websiteId': 'betano.com', 'gameId': 'https://pe.betano.com/live/macarthur-fc-melbourne-victory/28337581/', 'group': 'Total de Goles Más/Menos', 'name': 'Menos0.5', 'bet': 2.2}\n",
      "{'id': 'Siguiente-jugada-después-del-min.-(71:00)_Lanzar', 'websiteId': 'betano.com', 'gameId': 'https://pe.betano.com/live/macarthur-fc-melbourne-victory/28337581/', 'group': 'Siguiente jugada después del min. (71:00)', 'name': 'Lanzar', 'bet': 1.98}\n",
      "{'id': 'Siguiente-jugada-después-del-min.-(71:00)_Tiro-libre', 'websiteId': 'betano.com', 'gameId': 'https://pe.betano.com/live/macarthur-fc-melbourne-victory/28337581/', 'group': 'Siguiente jugada después del min. (71:00)', 'name': 'Tiro libre', 'bet': 2.8}\n",
      "{'id': 'Siguiente-jugada-después-del-min.-(71:00)_Saque-de-meta', 'websiteId': 'betano.com', 'gameId': 'https://pe.betano.com/live/macarthur-fc-melbourne-victory/28337581/', 'group': 'Siguiente jugada después del min. (71:00)', 'name': 'Saque de meta', 'bet': 4.25}\n",
      "{'id': 'Siguiente-jugada-después-del-min.-(71:00)_Saque-de-esquina', 'websiteId': 'betano.com', 'gameId': 'https://pe.betano.com/live/macarthur-fc-melbourne-victory/28337581/', 'group': 'Siguiente jugada después del min. (71:00)', 'name': 'Saque de esquina', 'bet': 6.0}\n",
      "{'id': 'Siguiente-jugada-después-del-min.-(72:00)_Lanzar', 'websiteId': 'betano.com', 'gameId': 'https://pe.betano.com/live/macarthur-fc-melbourne-victory/28337581/', 'group': 'Siguiente jugada después del min. (72:00)', 'name': 'Lanzar', 'bet': 1.98}\n",
      "{'id': 'Siguiente-jugada-después-del-min.-(72:00)_Tiro-libre', 'websiteId': 'betano.com', 'gameId': 'https://pe.betano.com/live/macarthur-fc-melbourne-victory/28337581/', 'group': 'Siguiente jugada después del min. (72:00)', 'name': 'Tiro libre', 'bet': 2.8}\n",
      "{'id': 'Siguiente-jugada-después-del-min.-(72:00)_Saque-de-meta', 'websiteId': 'betano.com', 'gameId': 'https://pe.betano.com/live/macarthur-fc-melbourne-victory/28337581/', 'group': 'Siguiente jugada después del min. (72:00)', 'name': 'Saque de meta', 'bet': 4.25}\n",
      "{'id': 'Siguiente-jugada-después-del-min.-(72:00)_Saque-de-esquina', 'websiteId': 'betano.com', 'gameId': 'https://pe.betano.com/live/macarthur-fc-melbourne-victory/28337581/', 'group': 'Siguiente jugada después del min. (72:00)', 'name': 'Saque de esquina', 'bet': 6.0}\n",
      "{'id': 'Siguiente-jugada-después-del-min.-(73:00)_Lanzar', 'websiteId': 'betano.com', 'gameId': 'https://pe.betano.com/live/macarthur-fc-melbourne-victory/28337581/', 'group': 'Siguiente jugada después del min. (73:00)', 'name': 'Lanzar', 'bet': 1.98}\n",
      "{'id': 'Siguiente-jugada-después-del-min.-(73:00)_Tiro-libre', 'websiteId': 'betano.com', 'gameId': 'https://pe.betano.com/live/macarthur-fc-melbourne-victory/28337581/', 'group': 'Siguiente jugada después del min. (73:00)', 'name': 'Tiro libre', 'bet': 2.8}\n",
      "{'id': 'Siguiente-jugada-después-del-min.-(73:00)_Saque-de-meta', 'websiteId': 'betano.com', 'gameId': 'https://pe.betano.com/live/macarthur-fc-melbourne-victory/28337581/', 'group': 'Siguiente jugada después del min. (73:00)', 'name': 'Saque de meta', 'bet': 4.25}\n",
      "{'id': 'Siguiente-jugada-después-del-min.-(73:00)_Saque-de-esquina', 'websiteId': 'betano.com', 'gameId': 'https://pe.betano.com/live/macarthur-fc-melbourne-victory/28337581/', 'group': 'Siguiente jugada después del min. (73:00)', 'name': 'Saque de esquina', 'bet': 6.0}\n",
      "{'id': '¿Qué-sucederá-en-...-?-(71:00---71:59)_Saque-de-esquina', 'websiteId': 'betano.com', 'gameId': 'https://pe.betano.com/live/macarthur-fc-melbourne-victory/28337581/', 'group': '¿Qué sucederá en ... ? (71:00 - 71:59)', 'name': 'Saque de esquina', 'bet': 5.8}\n",
      "{'id': '¿Qué-sucederá-en-...-?-(71:00---71:59)_Offside', 'websiteId': 'betano.com', 'gameId': 'https://pe.betano.com/live/macarthur-fc-melbourne-victory/28337581/', 'group': '¿Qué sucederá en ... ? (71:00 - 71:59)', 'name': 'Offside', 'bet': 15.0}\n",
      "{'id': '¿Qué-sucederá-en-...-?-(71:00---71:59)_Amonestación', 'websiteId': 'betano.com', 'gameId': 'https://pe.betano.com/live/macarthur-fc-melbourne-victory/28337581/', 'group': '¿Qué sucederá en ... ? (71:00 - 71:59)', 'name': 'Amonestación', 'bet': 10.25}\n",
      "{'id': '¿Qué-sucederá-en-...-?-(71:00---71:59)_Gol', 'websiteId': 'betano.com', 'gameId': 'https://pe.betano.com/live/macarthur-fc-melbourne-victory/28337581/', 'group': '¿Qué sucederá en ... ? (71:00 - 71:59)', 'name': 'Gol', 'bet': 13.5}\n",
      "{'id': '¿Qué-sucederá-en-...-?-(72:00---72:59)_Saque-de-esquina', 'websiteId': 'betano.com', 'gameId': 'https://pe.betano.com/live/macarthur-fc-melbourne-victory/28337581/', 'group': '¿Qué sucederá en ... ? (72:00 - 72:59)', 'name': 'Saque de esquina', 'bet': 5.8}\n",
      "{'id': '¿Qué-sucederá-en-...-?-(72:00---72:59)_Offside', 'websiteId': 'betano.com', 'gameId': 'https://pe.betano.com/live/macarthur-fc-melbourne-victory/28337581/', 'group': '¿Qué sucederá en ... ? (72:00 - 72:59)', 'name': 'Offside', 'bet': 15.0}\n",
      "{'id': '¿Qué-sucederá-en-...-?-(72:00---72:59)_Amonestación', 'websiteId': 'betano.com', 'gameId': 'https://pe.betano.com/live/macarthur-fc-melbourne-victory/28337581/', 'group': '¿Qué sucederá en ... ? (72:00 - 72:59)', 'name': 'Amonestación', 'bet': 10.25}\n",
      "{'id': '¿Qué-sucederá-en-...-?-(72:00---72:59)_Gol', 'websiteId': 'betano.com', 'gameId': 'https://pe.betano.com/live/macarthur-fc-melbourne-victory/28337581/', 'group': '¿Qué sucederá en ... ? (72:00 - 72:59)', 'name': 'Gol', 'bet': 13.5}\n",
      "{'id': '¿Qué-sucederá-en-...-?-(73:00---73:59)_Saque-de-esquina', 'websiteId': 'betano.com', 'gameId': 'https://pe.betano.com/live/macarthur-fc-melbourne-victory/28337581/', 'group': '¿Qué sucederá en ... ? (73:00 - 73:59)', 'name': 'Saque de esquina', 'bet': 5.8}\n",
      "{'id': '¿Qué-sucederá-en-...-?-(73:00---73:59)_Offside', 'websiteId': 'betano.com', 'gameId': 'https://pe.betano.com/live/macarthur-fc-melbourne-victory/28337581/', 'group': '¿Qué sucederá en ... ? (73:00 - 73:59)', 'name': 'Offside', 'bet': 15.0}\n",
      "{'id': '¿Qué-sucederá-en-...-?-(73:00---73:59)_Amonestación', 'websiteId': 'betano.com', 'gameId': 'https://pe.betano.com/live/macarthur-fc-melbourne-victory/28337581/', 'group': '¿Qué sucederá en ... ? (73:00 - 73:59)', 'name': 'Amonestación', 'bet': 10.25}\n",
      "{'id': '¿Qué-sucederá-en-...-?-(73:00---73:59)_Gol', 'websiteId': 'betano.com', 'gameId': 'https://pe.betano.com/live/macarthur-fc-melbourne-victory/28337581/', 'group': '¿Qué sucederá en ... ? (73:00 - 73:59)', 'name': 'Gol', 'bet': 13.5}\n",
      "{'id': '¿Qué-sucederá-en-...-?-(75:00---79:59)_Saque-de-esquina', 'websiteId': 'betano.com', 'gameId': 'https://pe.betano.com/live/macarthur-fc-melbourne-victory/28337581/', 'group': '¿Qué sucederá en ... ? (75:00 - 79:59)', 'name': 'Saque de esquina', 'bet': 2.15}\n",
      "{'id': '¿Qué-sucederá-en-...-?-(75:00---79:59)_Offside', 'websiteId': 'betano.com', 'gameId': 'https://pe.betano.com/live/macarthur-fc-melbourne-victory/28337581/', 'group': '¿Qué sucederá en ... ? (75:00 - 79:59)', 'name': 'Offside', 'bet': 4.8}\n",
      "{'id': '¿Qué-sucederá-en-...-?-(75:00---79:59)_Amonestación', 'websiteId': 'betano.com', 'gameId': 'https://pe.betano.com/live/macarthur-fc-melbourne-victory/28337581/', 'group': '¿Qué sucederá en ... ? (75:00 - 79:59)', 'name': 'Amonestación', 'bet': 3.15}\n",
      "{'id': '¿Qué-sucederá-en-...-?-(75:00---79:59)_Gol', 'websiteId': 'betano.com', 'gameId': 'https://pe.betano.com/live/macarthur-fc-melbourne-victory/28337581/', 'group': '¿Qué sucederá en ... ? (75:00 - 79:59)', 'name': 'Gol', 'bet': 4.3}\n",
      "{'id': '¿Qué-sucederá-en-...-?-(80:00---84:59)_Saque-de-esquina', 'websiteId': 'betano.com', 'gameId': 'https://pe.betano.com/live/macarthur-fc-melbourne-victory/28337581/', 'group': '¿Qué sucederá en ... ? (80:00 - 84:59)', 'name': 'Saque de esquina', 'bet': 2.15}\n",
      "{'id': '¿Qué-sucederá-en-...-?-(80:00---84:59)_Offside', 'websiteId': 'betano.com', 'gameId': 'https://pe.betano.com/live/macarthur-fc-melbourne-victory/28337581/', 'group': '¿Qué sucederá en ... ? (80:00 - 84:59)', 'name': 'Offside', 'bet': 4.65}\n",
      "{'id': '¿Qué-sucederá-en-...-?-(80:00---84:59)_Amonestación', 'websiteId': 'betano.com', 'gameId': 'https://pe.betano.com/live/macarthur-fc-melbourne-victory/28337581/', 'group': '¿Qué sucederá en ... ? (80:00 - 84:59)', 'name': 'Amonestación', 'bet': 3.0}\n",
      "{'id': '¿Qué-sucederá-en-...-?-(80:00---84:59)_Gol', 'websiteId': 'betano.com', 'gameId': 'https://pe.betano.com/live/macarthur-fc-melbourne-victory/28337581/', 'group': '¿Qué sucederá en ... ? (80:00 - 84:59)', 'name': 'Gol', 'bet': 4.25}\n",
      "{'id': '¿Qué-sucederá-en-...-?-(85:00---90:00)_Saque-de-esquina', 'websiteId': 'betano.com', 'gameId': 'https://pe.betano.com/live/macarthur-fc-melbourne-victory/28337581/', 'group': '¿Qué sucederá en ... ? (85:00 - 90:00)', 'name': 'Saque de esquina', 'bet': 1.8}\n",
      "{'id': '¿Qué-sucederá-en-...-?-(85:00---90:00)_Offside', 'websiteId': 'betano.com', 'gameId': 'https://pe.betano.com/live/macarthur-fc-melbourne-victory/28337581/', 'group': '¿Qué sucederá en ... ? (85:00 - 90:00)', 'name': 'Offside', 'bet': 4.45}\n",
      "{'id': '¿Qué-sucederá-en-...-?-(85:00---90:00)_Amonestación', 'websiteId': 'betano.com', 'gameId': 'https://pe.betano.com/live/macarthur-fc-melbourne-victory/28337581/', 'group': '¿Qué sucederá en ... ? (85:00 - 90:00)', 'name': 'Amonestación', 'bet': 2.4}\n",
      "{'id': '¿Qué-sucederá-en-...-?-(85:00---90:00)_Gol', 'websiteId': 'betano.com', 'gameId': 'https://pe.betano.com/live/macarthur-fc-melbourne-victory/28337581/', 'group': '¿Qué sucederá en ... ? (85:00 - 90:00)', 'name': 'Gol', 'bet': 4.25}\n",
      "{'id': '¿Qué-sucederá-primero-en-(75:00---79:59)_5-Lanzamientos', 'websiteId': 'betano.com', 'gameId': 'https://pe.betano.com/live/macarthur-fc-melbourne-victory/28337581/', 'group': '¿Qué sucederá primero en (75:00 - 79:59)', 'name': '5 Lanzamientos', 'bet': 8.75}\n",
      "{'id': '¿Qué-sucederá-primero-en-(75:00---79:59)_1-Goal', 'websiteId': 'betano.com', 'gameId': 'https://pe.betano.com/live/macarthur-fc-melbourne-victory/28337581/', 'group': '¿Qué sucederá primero en (75:00 - 79:59)', 'name': '1 Goal', 'bet': 4.2}\n",
      "{'id': '¿Qué-sucederá-primero-en-(75:00---79:59)_5-Córners-o-Tiros-libres', 'websiteId': 'betano.com', 'gameId': 'https://pe.betano.com/live/macarthur-fc-melbourne-victory/28337581/', 'group': '¿Qué sucederá primero en (75:00 - 79:59)', 'name': '5 Córners o Tiros libres', 'bet': 14.0}\n",
      "{'id': '¿Qué-sucederá-primero-en-(75:00---79:59)_Ninguno', 'websiteId': 'betano.com', 'gameId': 'https://pe.betano.com/live/macarthur-fc-melbourne-victory/28337581/', 'group': '¿Qué sucederá primero en (75:00 - 79:59)', 'name': 'Ninguno', 'bet': 1.21}\n",
      "{'id': '¿Qué-sucederá-primero-en-(80:00---84:59)_5-Lanzamientos', 'websiteId': 'betano.com', 'gameId': 'https://pe.betano.com/live/macarthur-fc-melbourne-victory/28337581/', 'group': '¿Qué sucederá primero en (80:00 - 84:59)', 'name': '5 Lanzamientos', 'bet': 8.5}\n",
      "{'id': '¿Qué-sucederá-primero-en-(80:00---84:59)_1-Goal', 'websiteId': 'betano.com', 'gameId': 'https://pe.betano.com/live/macarthur-fc-melbourne-victory/28337581/', 'group': '¿Qué sucederá primero en (80:00 - 84:59)', 'name': '1 Goal', 'bet': 4.15}\n",
      "{'id': '¿Qué-sucederá-primero-en-(80:00---84:59)_5-Córners-o-Tiros-libres', 'websiteId': 'betano.com', 'gameId': 'https://pe.betano.com/live/macarthur-fc-melbourne-victory/28337581/', 'group': '¿Qué sucederá primero en (80:00 - 84:59)', 'name': '5 Córners o Tiros libres', 'bet': 14.0}\n",
      "{'id': '¿Qué-sucederá-primero-en-(80:00---84:59)_Ninguno', 'websiteId': 'betano.com', 'gameId': 'https://pe.betano.com/live/macarthur-fc-melbourne-victory/28337581/', 'group': '¿Qué sucederá primero en (80:00 - 84:59)', 'name': 'Ninguno', 'bet': 1.22}\n",
      "{'id': '¿Qué-sucederá-primero-en-(85:00---90:00)_5-Lanzamientos', 'websiteId': 'betano.com', 'gameId': 'https://pe.betano.com/live/macarthur-fc-melbourne-victory/28337581/', 'group': '¿Qué sucederá primero en (85:00 - 90:00)', 'name': '5 Lanzamientos', 'bet': 8.25}\n",
      "{'id': '¿Qué-sucederá-primero-en-(85:00---90:00)_1-Goal', 'websiteId': 'betano.com', 'gameId': 'https://pe.betano.com/live/macarthur-fc-melbourne-victory/28337581/', 'group': '¿Qué sucederá primero en (85:00 - 90:00)', 'name': '1 Goal', 'bet': 4.3}\n",
      "{'id': '¿Qué-sucederá-primero-en-(85:00---90:00)_5-Córners-o-Tiros-libres', 'websiteId': 'betano.com', 'gameId': 'https://pe.betano.com/live/macarthur-fc-melbourne-victory/28337581/', 'group': '¿Qué sucederá primero en (85:00 - 90:00)', 'name': '5 Córners o Tiros libres', 'bet': 12.0}\n",
      "{'id': '¿Qué-sucederá-primero-en-(85:00---90:00)_Ninguno', 'websiteId': 'betano.com', 'gameId': 'https://pe.betano.com/live/macarthur-fc-melbourne-victory/28337581/', 'group': '¿Qué sucederá primero en (85:00 - 90:00)', 'name': 'Ninguno', 'bet': 1.23}\n",
      "{'id': 'Ambos-equipos:-(71:00---71:59)_Lanzar', 'websiteId': 'betano.com', 'gameId': 'https://pe.betano.com/live/macarthur-fc-melbourne-victory/28337581/', 'group': 'Ambos equipos: (71:00 - 71:59)', 'name': 'Lanzar', 'bet': 14.5}\n",
      "{'id': 'Ambos-equipos:-(71:00---71:59)_Tiro-libre', 'websiteId': 'betano.com', 'gameId': 'https://pe.betano.com/live/macarthur-fc-melbourne-victory/28337581/', 'group': 'Ambos equipos: (71:00 - 71:59)', 'name': 'Tiro libre', 'bet': 29.0}\n",
      "{'id': 'Ambos-equipos:-(72:00---72:59)_Lanzar', 'websiteId': 'betano.com', 'gameId': 'https://pe.betano.com/live/macarthur-fc-melbourne-victory/28337581/', 'group': 'Ambos equipos: (72:00 - 72:59)', 'name': 'Lanzar', 'bet': 14.0}\n",
      "{'id': 'Ambos-equipos:-(72:00---72:59)_Tiro-libre', 'websiteId': 'betano.com', 'gameId': 'https://pe.betano.com/live/macarthur-fc-melbourne-victory/28337581/', 'group': 'Ambos equipos: (72:00 - 72:59)', 'name': 'Tiro libre', 'bet': 28.0}\n",
      "{'id': 'Ambos-equipos:-(73:00---73:59)_Lanzar', 'websiteId': 'betano.com', 'gameId': 'https://pe.betano.com/live/macarthur-fc-melbourne-victory/28337581/', 'group': 'Ambos equipos: (73:00 - 73:59)', 'name': 'Lanzar', 'bet': 14.0}\n",
      "{'id': 'Ambos-equipos:-(73:00---73:59)_Tiro-libre', 'websiteId': 'betano.com', 'gameId': 'https://pe.betano.com/live/macarthur-fc-melbourne-victory/28337581/', 'group': 'Ambos equipos: (73:00 - 73:59)', 'name': 'Tiro libre', 'bet': 28.0}\n"
     ]
    }
   ],
   "source": [
    "for i in range(4):\n",
    "    try:\n",
    "        bet_with_scroll()\n",
    "    except:\n",
    "        pass\n",
    "    sleep(1)\n",
    "    scroll_down(driver, '[role=\"group\"]', 2000)\n",
    "scroll_down(driver, '[role=\"group\"]', -15000)"
   ]
  },
  {
   "cell_type": "code",
   "execution_count": null,
   "metadata": {},
   "outputs": [],
   "source": [
    "#https://tonybet.com/pe/prematch/football/leagues"
   ]
  }
 ],
 "metadata": {
  "kernelspec": {
   "display_name": "Python 3.10.7 ('.env': venv)",
   "language": "python",
   "name": "python3"
  },
  "language_info": {
   "codemirror_mode": {
    "name": "ipython",
    "version": 3
   },
   "file_extension": ".py",
   "mimetype": "text/x-python",
   "name": "python",
   "nbconvert_exporter": "python",
   "pygments_lexer": "ipython3",
   "version": "3.10.7"
  },
  "orig_nbformat": 4,
  "vscode": {
   "interpreter": {
    "hash": "d93b7cf8377a7b4b70e5aacb35380c6fb24fe780e3e5e5dda0f77aaf50ba8a4e"
   }
  }
 },
 "nbformat": 4,
 "nbformat_minor": 2
}
