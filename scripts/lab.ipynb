{
 "cells": [
  {
   "cell_type": "code",
   "execution_count": 112,
   "metadata": {},
   "outputs": [],
   "source": [
    "import websocket\n",
    "import json\n",
    "from urllib.parse import quote"
   ]
  },
  {
   "cell_type": "code",
   "execution_count": 113,
   "metadata": {},
   "outputs": [
    {
     "data": {
      "text/plain": [
       "'{\"id\": \"google.com\", \"scraping\": true}'"
      ]
     },
     "execution_count": 113,
     "metadata": {},
     "output_type": "execute_result"
    }
   ],
   "source": [
    "ws = websocket.WebSocket()\n",
    "website_id='google.com'\n",
    "ws.connect(f'wss://plankton-app-5rfza.ondigitalocean.app/websites?scraping={website_id}')\n",
    "ws.recv()"
   ]
  },
  {
   "cell_type": "code",
   "execution_count": 114,
   "metadata": {},
   "outputs": [],
   "source": [
    "ws.close()"
   ]
  },
  {
   "cell_type": "code",
   "execution_count": 117,
   "metadata": {},
   "outputs": [
    {
     "ename": "ValueError",
     "evalue": "scheme fwss is invalid",
     "output_type": "error",
     "traceback": [
      "\u001b[1;31m---------------------------------------------------------------------------\u001b[0m",
      "\u001b[1;31mValueError\u001b[0m                                Traceback (most recent call last)",
      "Cell \u001b[1;32mIn[117], line 5\u001b[0m\n\u001b[0;32m      3\u001b[0m website_id\u001b[39m=\u001b[39m\u001b[39m'\u001b[39m\u001b[39mbetway.com\u001b[39m\u001b[39m'\u001b[39m\n\u001b[0;32m      4\u001b[0m uri \u001b[39m=\u001b[39m \u001b[39m'\u001b[39m\u001b[39mwss://plankton-app-5rfza.ondigitalocean.app\u001b[39m\u001b[39m'\u001b[39m\n\u001b[1;32m----> 5\u001b[0m ws\u001b[39m.\u001b[39;49mconnect(\u001b[39mf\u001b[39;49m\u001b[39m'\u001b[39;49m\u001b[39mf\u001b[39;49m\u001b[39m{\u001b[39;49;00muri\u001b[39m}\u001b[39;49;00m\u001b[39m/games/\u001b[39;49m\u001b[39m{\u001b[39;49;00mwebsite_id\u001b[39m}\u001b[39;49;00m\u001b[39m?game_id=\u001b[39;49m\u001b[39m{\u001b[39;49;00mpage_id\u001b[39m}\u001b[39;49;00m\u001b[39m'\u001b[39;49m)\n\u001b[0;32m      6\u001b[0m ws\u001b[39m.\u001b[39mrecv()\n",
      "File \u001b[1;32mc:\\Projects\\betting-tracker\\scripts\\.env\\lib\\site-packages\\websocket\\_core.py:249\u001b[0m, in \u001b[0;36mWebSocket.connect\u001b[1;34m(self, url, **options)\u001b[0m\n\u001b[0;32m    202\u001b[0m \u001b[39m\"\"\"\u001b[39;00m\n\u001b[0;32m    203\u001b[0m \u001b[39mConnect to url. url is websocket url scheme.\u001b[39;00m\n\u001b[0;32m    204\u001b[0m \u001b[39mie. ws://host:port/resource\u001b[39;00m\n\u001b[1;32m   (...)\u001b[0m\n\u001b[0;32m    246\u001b[0m \u001b[39m    Pre-initialized stream socket.\u001b[39;00m\n\u001b[0;32m    247\u001b[0m \u001b[39m\"\"\"\u001b[39;00m\n\u001b[0;32m    248\u001b[0m \u001b[39mself\u001b[39m\u001b[39m.\u001b[39msock_opt\u001b[39m.\u001b[39mtimeout \u001b[39m=\u001b[39m options\u001b[39m.\u001b[39mget(\u001b[39m'\u001b[39m\u001b[39mtimeout\u001b[39m\u001b[39m'\u001b[39m, \u001b[39mself\u001b[39m\u001b[39m.\u001b[39msock_opt\u001b[39m.\u001b[39mtimeout)\n\u001b[1;32m--> 249\u001b[0m \u001b[39mself\u001b[39m\u001b[39m.\u001b[39msock, addrs \u001b[39m=\u001b[39m connect(url, \u001b[39mself\u001b[39;49m\u001b[39m.\u001b[39;49msock_opt, proxy_info(\u001b[39m*\u001b[39;49m\u001b[39m*\u001b[39;49moptions),\n\u001b[0;32m    250\u001b[0m                            options\u001b[39m.\u001b[39;49mpop(\u001b[39m'\u001b[39;49m\u001b[39msocket\u001b[39;49m\u001b[39m'\u001b[39;49m, \u001b[39mNone\u001b[39;49;00m))\n\u001b[0;32m    252\u001b[0m \u001b[39mtry\u001b[39;00m:\n\u001b[0;32m    253\u001b[0m     \u001b[39mself\u001b[39m\u001b[39m.\u001b[39mhandshake_response \u001b[39m=\u001b[39m handshake(\u001b[39mself\u001b[39m\u001b[39m.\u001b[39msock, url, \u001b[39m*\u001b[39maddrs, \u001b[39m*\u001b[39m\u001b[39m*\u001b[39moptions)\n",
      "File \u001b[1;32mc:\\Projects\\betting-tracker\\scripts\\.env\\lib\\site-packages\\websocket\\_http.py:117\u001b[0m, in \u001b[0;36mconnect\u001b[1;34m(url, options, proxy, socket)\u001b[0m\n\u001b[0;32m    114\u001b[0m \u001b[39mif\u001b[39;00m proxy\u001b[39m.\u001b[39mproxy_host \u001b[39mand\u001b[39;00m \u001b[39mnot\u001b[39;00m socket \u001b[39mand\u001b[39;00m \u001b[39mnot\u001b[39;00m (proxy\u001b[39m.\u001b[39mproxy_protocol \u001b[39m==\u001b[39m \u001b[39m\"\u001b[39m\u001b[39mhttp\u001b[39m\u001b[39m\"\u001b[39m):\n\u001b[0;32m    115\u001b[0m     \u001b[39mreturn\u001b[39;00m _start_proxied_socket(url, options, proxy)\n\u001b[1;32m--> 117\u001b[0m hostname, port_from_url, resource, is_secure \u001b[39m=\u001b[39m parse_url(url)\n\u001b[0;32m    119\u001b[0m \u001b[39mif\u001b[39;00m socket:\n\u001b[0;32m    120\u001b[0m     \u001b[39mreturn\u001b[39;00m socket, (hostname, port_from_url, resource)\n",
      "File \u001b[1;32mc:\\Projects\\betting-tracker\\scripts\\.env\\lib\\site-packages\\websocket\\_url.py:62\u001b[0m, in \u001b[0;36mparse_url\u001b[1;34m(url)\u001b[0m\n\u001b[0;32m     60\u001b[0m         port \u001b[39m=\u001b[39m \u001b[39m443\u001b[39m\n\u001b[0;32m     61\u001b[0m \u001b[39melse\u001b[39;00m:\n\u001b[1;32m---> 62\u001b[0m     \u001b[39mraise\u001b[39;00m \u001b[39mValueError\u001b[39;00m(\u001b[39m\"\u001b[39m\u001b[39mscheme \u001b[39m\u001b[39m%s\u001b[39;00m\u001b[39m is invalid\u001b[39m\u001b[39m\"\u001b[39m \u001b[39m%\u001b[39m scheme)\n\u001b[0;32m     64\u001b[0m \u001b[39mif\u001b[39;00m parsed\u001b[39m.\u001b[39mpath:\n\u001b[0;32m     65\u001b[0m     resource \u001b[39m=\u001b[39m parsed\u001b[39m.\u001b[39mpath\n",
      "\u001b[1;31mValueError\u001b[0m: scheme fwss is invalid"
     ]
    }
   ],
   "source": [
    "ws = websocket.WebSocket()\n",
    "page_id = 'https://betway.com/es/sports/evt/10647401'\n",
    "website_id='betway.com'\n",
    "uri = 'wss://plankton-app-5rfza.ondigitalocean.app'\n",
    "ws.connect(f'{uri}/games/{website_id}?game_id={page_id}')\n",
    "ws.recv()"
   ]
  },
  {
   "cell_type": "code",
   "execution_count": 47,
   "metadata": {},
   "outputs": [],
   "source": [
    "ws.close()"
   ]
  },
  {
   "cell_type": "code",
   "execution_count": 72,
   "metadata": {},
   "outputs": [],
   "source": [
    "from core.models import r\n",
    "from redis.commands.search.query import Query, NumericFilter"
   ]
  },
  {
   "cell_type": "code",
   "execution_count": 108,
   "metadata": {},
   "outputs": [
    {
     "data": {
      "text/plain": [
       "Result{0 total, docs: []}"
      ]
     },
     "execution_count": 108,
     "metadata": {},
     "output_type": "execute_result"
    }
   ],
   "source": [
    "r.ft('idxGames').search(Query('@scraping:{true}').paging(0, 5))"
   ]
  },
  {
   "cell_type": "code",
   "execution_count": 104,
   "metadata": {},
   "outputs": [],
   "source": [
    "from core.webdriver import init_driver\n",
    "driver = init_driver(False)"
   ]
  },
  {
   "cell_type": "code",
   "execution_count": 105,
   "metadata": {},
   "outputs": [],
   "source": [
    "driver.execute_script(\"window.open('');\")"
   ]
  }
 ],
 "metadata": {
  "kernelspec": {
   "display_name": "Python 3.10.7 ('.env': venv)",
   "language": "python",
   "name": "python3"
  },
  "language_info": {
   "codemirror_mode": {
    "name": "ipython",
    "version": 3
   },
   "file_extension": ".py",
   "mimetype": "text/x-python",
   "name": "python",
   "nbconvert_exporter": "python",
   "pygments_lexer": "ipython3",
   "version": "3.10.7"
  },
  "orig_nbformat": 4,
  "vscode": {
   "interpreter": {
    "hash": "d93b7cf8377a7b4b70e5aacb35380c6fb24fe780e3e5e5dda0f77aaf50ba8a4e"
   }
  }
 },
 "nbformat": 4,
 "nbformat_minor": 2
}
