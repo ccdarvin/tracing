{
 "cells": [
  {
   "cell_type": "code",
   "execution_count": 2,
   "metadata": {},
   "outputs": [],
   "source": [
    "import websocket\n",
    "import json"
   ]
  },
  {
   "cell_type": "code",
   "execution_count": 18,
   "metadata": {},
   "outputs": [],
   "source": [
    "ws = websocket.WebSocket()\n",
    "website_id='google.com'\n",
    "ws.connect(f'wss://plankton-app-5rfza.ondigitalocean.app/websites?scraping={website_id}')\n",
    "#ws.send(\"Hello, Server\")"
   ]
  },
  {
   "cell_type": "code",
   "execution_count": 19,
   "metadata": {},
   "outputs": [],
   "source": [
    "ws.close()"
   ]
  },
  {
   "cell_type": "code",
   "execution_count": null,
   "metadata": {},
   "outputs": [],
   "source": []
  },
  {
   "cell_type": "code",
   "execution_count": 22,
   "metadata": {},
   "outputs": [],
   "source": [
    "from core.models import r"
   ]
  },
  {
   "cell_type": "code",
   "execution_count": 25,
   "metadata": {},
   "outputs": [
    {
     "data": {
      "text/plain": [
       "[b'betway.com:/es/sports/evt/10647401',\n",
       " b'betway.com:/es/sports/evt/10655701',\n",
       " b'betway.com:/es/sports/evt/10652607',\n",
       " b'betway.com:/es/sports/evt/10641302',\n",
       " b'betway.com:/es/sports/evt/10662372',\n",
       " b'betway.com:/es/sports/evt/10540249',\n",
       " b'betway.com:/es/sports/evt/10652608',\n",
       " b'betway.com:/es/sports/evt/10652438',\n",
       " b'betway.com:/es/sports/evt/10673440',\n",
       " b'betway.com:/es/sports/evt/10673996',\n",
       " b'betway.com:/es/sports/evt/10673166',\n",
       " b'betway.com:/es/sports/evt/10652775',\n",
       " b'betway.com:/es/sports/evt/10647230',\n",
       " b'betway.com:/es/sports/evt/10540255',\n",
       " b'betway.com:/es/sports/evt/10646904',\n",
       " b'betway.com:/es/sports/evt/10673035',\n",
       " b'betway.com:/es/sports/evt/10657385',\n",
       " b'betway.com:/es/sports/evt/10647227',\n",
       " b'betway.com:/es/sports/evt/10657265',\n",
       " b'betway.com:/es/sports/evt/10673164',\n",
       " b'betway.com:/es/sports/evt/10652421',\n",
       " b'betway.com:/es/sports/evt/10662192',\n",
       " b'betway.com:/es/sports/evt/10647228',\n",
       " b'betway.com:/es/sports/evt/10657491',\n",
       " b'betway.com:/es/sports/evt/10652620',\n",
       " b'betway.com:/es/sports/evt/10662194',\n",
       " b'betway.com:/es/sports/evt/10652612',\n",
       " b'betway.com:/es/sports/evt/10657387',\n",
       " b'betway.com:/es/sports/evt/10646906',\n",
       " b'betway.com:/es/sports/evt/10662549',\n",
       " b'betway.com:/es/sports/evt/10673998',\n",
       " b'betway.com:/es/sports/evt/10673163',\n",
       " b'betway.com:/es/sports/evt/10540251',\n",
       " b'betway.com:/es/sports/evt/10667248',\n",
       " b'betway.com:/es/sports/evt/10540246',\n",
       " b'betway.com:/es/sports/evt/10657712',\n",
       " b'betway.com:/es/sports/evt/10657386',\n",
       " b'betway.com:/es/sports/evt/10652427',\n",
       " b'betway.com:/es/sports/evt/10647229',\n",
       " b'betway.com:/es/sports/evt/10652623',\n",
       " b'betway.com:/es/sports/evt/10668766',\n",
       " b'betway.com:/es/sports/evt/10673208',\n",
       " b'betway.com:/es/sports/evt/10672555',\n",
       " b'betway.com:/es/sports/evt/10673482',\n",
       " b'betway.com:/es/sports/evt/10652430',\n",
       " b'betway.com:/es/sports/evt/10540252',\n",
       " b'betway.com:/es/sports/evt/10646903',\n",
       " b'betway.com:/es/sports/evt/10673517',\n",
       " b'betway.com:/es/sports/evt/10668089',\n",
       " b'betway.com:/es/sports/evt/10657903',\n",
       " b'betway.com:/es/sports/evt/10673162',\n",
       " b'betway.com:/es/sports/evt/10662195',\n",
       " b'betway.com:/es/sports/evt/10672548',\n",
       " b'betway.com:/es/sports/evt/10662193',\n",
       " b'betway.com:/es/sports/evt/10657163',\n",
       " b'betway.com:/es/sports/evt/10540253',\n",
       " b'betway.com:/es/sports/evt/10673206',\n",
       " b'betway.com:/es/sports/evt/10673484',\n",
       " b'betway.com:/es/sports/evt/10662190',\n",
       " b'betway.com:/es/sports/evt/10657466',\n",
       " b'betway.com:/es/sports/evt/10657464',\n",
       " b'betway.com:/es/sports/evt/10673161',\n",
       " b'betway.com:/es/sports/evt/10652617',\n",
       " b'betway.com:/es/sports/evt/10667464',\n",
       " b'betway.com:/es/sports/evt/10540254',\n",
       " b'betway.com:/es/sports/evt/10655385',\n",
       " b'betway.com:/es/sports/evt/10657429',\n",
       " b'betway.com:/es/sports/evt/10662373',\n",
       " b'betway.com:/es/sports/evt/10652616',\n",
       " b'betway.com:/es/sports/evt/10652611',\n",
       " b'betway.com:/es/sports/evt/10673995',\n",
       " b'betway.com:/es/sports/evt/10673186',\n",
       " b'betway.com:/es/sports/evt/10662375',\n",
       " b'betway.com:/es/sports/evt/10652424',\n",
       " b'betway.com:/es/sports/evt/10647402',\n",
       " b'betway.com:/es/sports/evt/10641535',\n",
       " b'betway.com:/es/sports/evt/10652439',\n",
       " b'betway.com:/es/sports/evt/10646905',\n",
       " b'betway.com:/es/sports/evt/10647226',\n",
       " b'betway.com:/es/sports/evt/10662189',\n",
       " b'betway.com:/es/sports/evt/10652431',\n",
       " b'betway.com:/es/sports/evt/10647397',\n",
       " b'betway.com:/es/sports/evt/10657463',\n",
       " b'betway.com:/es/sports/evt/10652375',\n",
       " b'betway.com:/es/sports/evt/10671704',\n",
       " b'betway.com:/es/sports/evt/10673997',\n",
       " b'betway.com:/es/sports/evt/10673211',\n",
       " b'betway.com:/es/sports/evt/10662560',\n",
       " b'betway.com:/es/sports/evt/10657389',\n",
       " b'betway.com:/es/sports/evt/10652426',\n",
       " b'betway.com:/es/sports/evt/10657492',\n",
       " b'betway.com:/es/sports/evt/10673999',\n",
       " b'betway.com:/es/sports/evt/10652425',\n",
       " b'betway.com:/es/sports/evt/10667250',\n",
       " b'betway.com:/es/sports/evt/10657388',\n",
       " b'betway.com:/es/sports/evt/10652613',\n",
       " b'betway.com:/es/sports/evt/10673207',\n",
       " b'betway.com:/es/sports/evt/10662894',\n",
       " b'betway.com:/es/sports/evt/10662554',\n",
       " b'betway.com:/es/sports/evt/10673209',\n",
       " b'betway.com:/es/sports/evt/10662374',\n",
       " b'betway.com:/es/sports/evt/10668765',\n",
       " b'betway.com:/es/sports/evt/10667249',\n",
       " b'betway.com:/es/sports/evt/10657384',\n",
       " b'betway.com:/es/sports/evt/10657471',\n",
       " b'betway.com:/es/sports/evt/10673994',\n",
       " b'betway.com:/es/sports/evt/10673165',\n",
       " b'betway.com:/es/sports/evt/10652429',\n",
       " b'betway.com:/es/sports/evt/10540265',\n",
       " b'betway.com:/es/sports/evt/10652428',\n",
       " b'betway.com:/es/sports/evt/10673210',\n",
       " b'betway.com:/es/sports/evt/10673159',\n",
       " b'betway.com:/es/sports/evt/10540248',\n",
       " b'betway.com:/es/sports/evt/10662159',\n",
       " b'betway.com:/es/sports/evt/10676923',\n",
       " b'betway.com:/es/sports/evt/10673479',\n",
       " b'betway.com:/es/sports/evt/10652625',\n",
       " b'betway.com:/es/sports/evt/10673470']"
      ]
     },
     "execution_count": 25,
     "metadata": {},
     "output_type": "execute_result"
    }
   ],
   "source": [
    "r.keys('betway.com:*')\n",
    "\n"
   ]
  }
 ],
 "metadata": {
  "kernelspec": {
   "display_name": "Python 3.10.7 ('.env': venv)",
   "language": "python",
   "name": "python3"
  },
  "language_info": {
   "codemirror_mode": {
    "name": "ipython",
    "version": 3
   },
   "file_extension": ".py",
   "mimetype": "text/x-python",
   "name": "python",
   "nbconvert_exporter": "python",
   "pygments_lexer": "ipython3",
   "version": "3.10.7"
  },
  "orig_nbformat": 4,
  "vscode": {
   "interpreter": {
    "hash": "d93b7cf8377a7b4b70e5aacb35380c6fb24fe780e3e5e5dda0f77aaf50ba8a4e"
   }
  }
 },
 "nbformat": 4,
 "nbformat_minor": 2
}
