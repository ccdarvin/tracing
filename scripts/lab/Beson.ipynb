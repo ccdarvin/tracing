{
 "cells": [
  {
   "cell_type": "code",
   "execution_count": 116,
   "metadata": {},
   "outputs": [],
   "source": [
    "from selenium import webdriver\n",
    "from selenium.webdriver.chrome.service import Service as ChromeService\n",
    "from webdriver_manager.chrome import ChromeDriverManager\n",
    "from selenium.webdriver.common.by import By\n",
    "from selenium.webdriver.common.keys import Keys\n",
    "from selenium.webdriver.support.ui import WebDriverWait\n",
    "from selenium.webdriver.common.actions.wheel_input import ScrollOrigin\n",
    "from selenium.webdriver import ActionChains\n",
    "from time import sleep\n",
    "driver = webdriver.Chrome(service=ChromeService(ChromeDriverManager().install()))"
   ]
  },
  {
   "cell_type": "code",
   "execution_count": null,
   "metadata": {},
   "outputs": [],
   "source": [
    "driver.get(\"https://www.betsson.com/\")\n",
    "driver.find_element(By.XPATH, \"/html/body/obg-app-root/div/obg-m-core-layout/header/mat-toolbar/mat-toolbar-row[1]/div[2]/obg-app-m-account-control-container/a[1]\").click()\n",
    "sleep(1)"
   ]
  },
  {
   "cell_type": "code",
   "execution_count": 14,
   "metadata": {},
   "outputs": [],
   "source": [
    "elem = driver.find_element(By.XPATH, '//*[@id=\"mat-input-3\"]')\n",
    "elem.send_keys(\"cc.darvin@gmail.com\")\n",
    "sleep(1)\n",
    "elem = driver.find_element(By.XPATH, '//*[@id=\"mat-input-4\"]')\n",
    "elem.send_keys('PDwCC!86')\n",
    "sleep(1)\n",
    "elem = driver.find_element(By.XPATH, '//*[@id=\"login\"]/obg-m-login-with-dialog/obg-m-dialog-layout/div/obg-m-login-container/obg-m-generic-login-container/form/div[2]/button')\n",
    "elem.click()\n",
    "sleep(5)"
   ]
  },
  {
   "cell_type": "code",
   "execution_count": 4,
   "metadata": {},
   "outputs": [],
   "source": [
    "elem = driver.find_element(By.XPATH, '/html/body/obg-app-root/div/obg-m-core-layout/header/mat-toolbar/mat-toolbar-row[2]/nav/obg-menu/a[1]')\n",
    "elem.click()"
   ]
  },
  {
   "cell_type": "code",
   "execution_count": 106,
   "metadata": {},
   "outputs": [],
   "source": [
    "def scroll_down(selector, amount=10):\n",
    "    elem = driver.find_element(By.CSS_SELECTOR, selector)\n",
    "    scroll_origin = ScrollOrigin.from_element(elem)\n",
    "    ActionChains(driver)\\\n",
    "            .scroll_from_origin(scroll_origin, 0, amount)\\\n",
    "            .perform()\n",
    "            \n",
    "        \n",
    "def scroll_up(selector):\n",
    "    scroll_down(selector, -10000)"
   ]
  },
  {
   "cell_type": "code",
   "execution_count": 132,
   "metadata": {},
   "outputs": [],
   "source": [
    "def scraping_betsson(url):\n",
    "    #driver.get(url)\n",
    "    game = driver.find_element(By.CSS_SELECTOR, 'obg-m-event-header').text.replace('\\n', ' ')\n",
    "    bet_groups = []\n",
    "    elems = driver.find_elements(By.CSS_SELECTOR, 'obg-m-event-market-group')\n",
    "    for elem in elems:\n",
    "        elem_group = elem.find_element(By.CSS_SELECTOR, '.obg-m-event-market-group-header-name.ng-star-inserted')\n",
    "\n",
    "        bets = []\n",
    "        elem_bets = elem.find_elements(By.CSS_SELECTOR, 'obg-selection-container')\n",
    "        if len(elem_bets) == 0:\n",
    "            elem_group.click()        \n",
    "        \n",
    "        for bet in elem_bets:\n",
    "            try:\n",
    "                bets.append({\n",
    "                    'name': bet.find_element(By.CSS_SELECTOR, '.obg-selection-content-label-wrapper').text,\n",
    "                    'odds': bet.find_element(By.CSS_SELECTOR, 'obg-numeric-change').text,\n",
    "                })\n",
    "            except:\n",
    "                continue\n",
    "        #group.send_keys(Keys.DOWN)\n",
    "        scroll_down('.obg-m-sportsbook-layout-secondary-container ng-scrollbar', 50*len(elem_bets))\n",
    "        bet_groups.append({\n",
    "            'name': elem_group.text,\n",
    "            'bit': bets,\n",
    "        })\n",
    "    # scrolling top\n",
    "    scroll_up('.obg-m-sportsbook-layout-secondary-container ng-scrollbar')\n",
    "    return bet_groups\n",
    "\n",
    "\n"
   ]
  },
  {
   "cell_type": "code",
   "execution_count": 133,
   "metadata": {},
   "outputs": [],
   "source": [
    "data = scraping_betsson('https://www.betsson.com/pe/apuestas-deportivas/futbol/esoccer/batalla-de-futbol-8-minutos-de-juegonorw?eventId=f-lMx4CCS5-U6kaCU-iyyNUw&eti=1')"
   ]
  },
  {
   "cell_type": "code",
   "execution_count": 135,
   "metadata": {},
   "outputs": [
    {
     "data": {
      "text/plain": [
       "[{'name': 'Ganador del Partido',\n",
       "  'bit': [{'name': 'Monaco (Gaga)', 'odds': '3.52'},\n",
       "   {'name': 'Empate', 'odds': '3.52'},\n",
       "   {'name': 'Olympique Lyonnais (Duka)', 'odds': '1.95'}]},\n",
       " {'name': 'Total de goles',\n",
       "  'bit': [{'name': 'más de 1.5', 'odds': '1.50'},\n",
       "   {'name': 'menos de 1.5', 'odds': '2.41'}]},\n",
       " {'name': 'Doble Oportunidad',\n",
       "  'bit': [{'name': '1X', 'odds': '1.80'},\n",
       "   {'name': '12', 'odds': '1.27'},\n",
       "   {'name': 'X2', 'odds': '1.27'}]},\n",
       " {'name': 'Partido Hándicap Goles',\n",
       "  'bit': [{'name': 'Monaco (Gaga)\\n+0', 'odds': '2.60'},\n",
       "   {'name': 'Olympique Lyonnais (Duka)\\n+0', 'odds': '1.44'},\n",
       "   {'name': 'Monaco (Gaga)\\n+1', 'odds': '1.36'},\n",
       "   {'name': 'Olympique Lyonnais (Duka)\\n-1', 'odds': '2.90'}]}]"
      ]
     },
     "execution_count": 135,
     "metadata": {},
     "output_type": "execute_result"
    }
   ],
   "source": [
    "data"
   ]
  },
  {
   "cell_type": "code",
   "execution_count": 119,
   "metadata": {},
   "outputs": [],
   "source": [
    "import redis\n",
    "\n",
    "r = redis.Redis(\n",
    "  host='redis-12622.c277.us-east-1-3.ec2.cloud.redislabs.com',\n",
    "  port=12622,\n",
    "  password='TxVYpEfg4DwZSjDxerOiWxNEhgIZouKa')"
   ]
  },
  {
   "cell_type": "code",
   "execution_count": 125,
   "metadata": {},
   "outputs": [
    {
     "name": "stdout",
     "output_type": "stream",
     "text": [
      "{'type': 'subscribe', 'pattern': None, 'channel': b'betsson', 'data': 1}\n",
      "{'type': 'message', 'pattern': None, 'channel': b'betsson', 'data': b'Hello World'}\n",
      "{'type': 'message', 'pattern': None, 'channel': b'betsson', 'data': b'Hello World'}\n",
      "{'type': 'message', 'pattern': None, 'channel': b'betsson', 'data': b'Hello World'}\n",
      "{'type': 'message', 'pattern': None, 'channel': b'betsson', 'data': b'otro'}\n",
      "{'type': 'message', 'pattern': None, 'channel': b'betsson', 'data': b'10'}\n"
     ]
    },
    {
     "ename": "KeyboardInterrupt",
     "evalue": "",
     "output_type": "error",
     "traceback": [
      "\u001b[1;31m---------------------------------------------------------------------------\u001b[0m",
      "\u001b[1;31mBlockingIOError\u001b[0m                           Traceback (most recent call last)",
      "File \u001b[1;32mc:\\Projects\\betting-tracker\\.env\\lib\\site-packages\\redis\\connection.py:192\u001b[0m, in \u001b[0;36mSocketBuffer._read_from_socket\u001b[1;34m(self, length, timeout, raise_on_timeout)\u001b[0m\n\u001b[0;32m    191\u001b[0m \u001b[39mwhile\u001b[39;00m \u001b[39mTrue\u001b[39;00m:\n\u001b[1;32m--> 192\u001b[0m     data \u001b[39m=\u001b[39m \u001b[39mself\u001b[39;49m\u001b[39m.\u001b[39;49m_sock\u001b[39m.\u001b[39;49mrecv(socket_read_size)\n\u001b[0;32m    193\u001b[0m     \u001b[39m# an empty string indicates the server shutdown the socket\u001b[39;00m\n",
      "\u001b[1;31mBlockingIOError\u001b[0m: [WinError 10035] A non-blocking socket operation could not be completed immediately",
      "\nDuring handling of the above exception, another exception occurred:\n",
      "\u001b[1;31mKeyboardInterrupt\u001b[0m                         Traceback (most recent call last)",
      "Cell \u001b[1;32mIn[125], line 4\u001b[0m\n\u001b[0;32m      2\u001b[0m p\u001b[39m.\u001b[39msubscribe(\u001b[39m'\u001b[39m\u001b[39mbetsson\u001b[39m\u001b[39m'\u001b[39m)\n\u001b[0;32m      3\u001b[0m \u001b[39mwhile\u001b[39;00m \u001b[39mTrue\u001b[39;00m:\n\u001b[1;32m----> 4\u001b[0m     message \u001b[39m=\u001b[39m p\u001b[39m.\u001b[39;49mget_message()\n\u001b[0;32m      5\u001b[0m     \u001b[39mif\u001b[39;00m message:\n\u001b[0;32m      6\u001b[0m         \u001b[39mprint\u001b[39m(message)\n",
      "File \u001b[1;32mc:\\Projects\\betting-tracker\\.env\\lib\\site-packages\\redis\\client.py:1648\u001b[0m, in \u001b[0;36mPubSub.get_message\u001b[1;34m(self, ignore_subscribe_messages, timeout)\u001b[0m\n\u001b[0;32m   1643\u001b[0m     \u001b[39melse\u001b[39;00m:\n\u001b[0;32m   1644\u001b[0m         \u001b[39m# The connection isn't subscribed to any channels or patterns,\u001b[39;00m\n\u001b[0;32m   1645\u001b[0m         \u001b[39m# so no messages are available\u001b[39;00m\n\u001b[0;32m   1646\u001b[0m         \u001b[39mreturn\u001b[39;00m \u001b[39mNone\u001b[39;00m\n\u001b[1;32m-> 1648\u001b[0m response \u001b[39m=\u001b[39m \u001b[39mself\u001b[39;49m\u001b[39m.\u001b[39;49mparse_response(block\u001b[39m=\u001b[39;49m\u001b[39mFalse\u001b[39;49;00m, timeout\u001b[39m=\u001b[39;49mtimeout)\n\u001b[0;32m   1649\u001b[0m \u001b[39mif\u001b[39;00m response:\n\u001b[0;32m   1650\u001b[0m     \u001b[39mreturn\u001b[39;00m \u001b[39mself\u001b[39m\u001b[39m.\u001b[39mhandle_message(response, ignore_subscribe_messages)\n",
      "File \u001b[1;32mc:\\Projects\\betting-tracker\\.env\\lib\\site-packages\\redis\\client.py:1498\u001b[0m, in \u001b[0;36mPubSub.parse_response\u001b[1;34m(self, block, timeout)\u001b[0m\n\u001b[0;32m   1491\u001b[0m     \u001b[39mraise\u001b[39;00m \u001b[39mRuntimeError\u001b[39;00m(\n\u001b[0;32m   1492\u001b[0m         \u001b[39m\"\u001b[39m\u001b[39mpubsub connection not set: \u001b[39m\u001b[39m\"\u001b[39m\n\u001b[0;32m   1493\u001b[0m         \u001b[39m\"\u001b[39m\u001b[39mdid you forget to call subscribe() or psubscribe()?\u001b[39m\u001b[39m\"\u001b[39m\n\u001b[0;32m   1494\u001b[0m     )\n\u001b[0;32m   1496\u001b[0m \u001b[39mself\u001b[39m\u001b[39m.\u001b[39mcheck_health()\n\u001b[1;32m-> 1498\u001b[0m \u001b[39mif\u001b[39;00m \u001b[39mnot\u001b[39;00m block \u001b[39mand\u001b[39;00m \u001b[39mnot\u001b[39;00m \u001b[39mself\u001b[39;49m\u001b[39m.\u001b[39;49m_execute(conn, conn\u001b[39m.\u001b[39;49mcan_read, timeout\u001b[39m=\u001b[39;49mtimeout):\n\u001b[0;32m   1499\u001b[0m     \u001b[39mreturn\u001b[39;00m \u001b[39mNone\u001b[39;00m\n\u001b[0;32m   1500\u001b[0m response \u001b[39m=\u001b[39m \u001b[39mself\u001b[39m\u001b[39m.\u001b[39m_execute(conn, conn\u001b[39m.\u001b[39mread_response)\n",
      "File \u001b[1;32mc:\\Projects\\betting-tracker\\.env\\lib\\site-packages\\redis\\client.py:1482\u001b[0m, in \u001b[0;36mPubSub._execute\u001b[1;34m(self, conn, command, *args, **kwargs)\u001b[0m\n\u001b[0;32m   1474\u001b[0m \u001b[39mdef\u001b[39;00m \u001b[39m_execute\u001b[39m(\u001b[39mself\u001b[39m, conn, command, \u001b[39m*\u001b[39margs, \u001b[39m*\u001b[39m\u001b[39m*\u001b[39mkwargs):\n\u001b[0;32m   1475\u001b[0m     \u001b[39m\"\"\"\u001b[39;00m\n\u001b[0;32m   1476\u001b[0m \u001b[39m    Connect manually upon disconnection. If the Redis server is down,\u001b[39;00m\n\u001b[0;32m   1477\u001b[0m \u001b[39m    this will fail and raise a ConnectionError as desired.\u001b[39;00m\n\u001b[1;32m   (...)\u001b[0m\n\u001b[0;32m   1480\u001b[0m \u001b[39m    patterns we were previously listening to\u001b[39;00m\n\u001b[0;32m   1481\u001b[0m \u001b[39m    \"\"\"\u001b[39;00m\n\u001b[1;32m-> 1482\u001b[0m     \u001b[39mreturn\u001b[39;00m conn\u001b[39m.\u001b[39;49mretry\u001b[39m.\u001b[39;49mcall_with_retry(\n\u001b[0;32m   1483\u001b[0m         \u001b[39mlambda\u001b[39;49;00m: command(\u001b[39m*\u001b[39;49margs, \u001b[39m*\u001b[39;49m\u001b[39m*\u001b[39;49mkwargs),\n\u001b[0;32m   1484\u001b[0m         \u001b[39mlambda\u001b[39;49;00m error: \u001b[39mself\u001b[39;49m\u001b[39m.\u001b[39;49m_disconnect_raise_connect(conn, error),\n\u001b[0;32m   1485\u001b[0m     )\n",
      "File \u001b[1;32mc:\\Projects\\betting-tracker\\.env\\lib\\site-packages\\redis\\retry.py:46\u001b[0m, in \u001b[0;36mRetry.call_with_retry\u001b[1;34m(self, do, fail)\u001b[0m\n\u001b[0;32m     44\u001b[0m \u001b[39mwhile\u001b[39;00m \u001b[39mTrue\u001b[39;00m:\n\u001b[0;32m     45\u001b[0m     \u001b[39mtry\u001b[39;00m:\n\u001b[1;32m---> 46\u001b[0m         \u001b[39mreturn\u001b[39;00m do()\n\u001b[0;32m     47\u001b[0m     \u001b[39mexcept\u001b[39;00m \u001b[39mself\u001b[39m\u001b[39m.\u001b[39m_supported_errors \u001b[39mas\u001b[39;00m error:\n\u001b[0;32m     48\u001b[0m         failures \u001b[39m+\u001b[39m\u001b[39m=\u001b[39m \u001b[39m1\u001b[39m\n",
      "File \u001b[1;32mc:\\Projects\\betting-tracker\\.env\\lib\\site-packages\\redis\\client.py:1483\u001b[0m, in \u001b[0;36mPubSub._execute.<locals>.<lambda>\u001b[1;34m()\u001b[0m\n\u001b[0;32m   1474\u001b[0m \u001b[39mdef\u001b[39;00m \u001b[39m_execute\u001b[39m(\u001b[39mself\u001b[39m, conn, command, \u001b[39m*\u001b[39margs, \u001b[39m*\u001b[39m\u001b[39m*\u001b[39mkwargs):\n\u001b[0;32m   1475\u001b[0m     \u001b[39m\"\"\"\u001b[39;00m\n\u001b[0;32m   1476\u001b[0m \u001b[39m    Connect manually upon disconnection. If the Redis server is down,\u001b[39;00m\n\u001b[0;32m   1477\u001b[0m \u001b[39m    this will fail and raise a ConnectionError as desired.\u001b[39;00m\n\u001b[1;32m   (...)\u001b[0m\n\u001b[0;32m   1480\u001b[0m \u001b[39m    patterns we were previously listening to\u001b[39;00m\n\u001b[0;32m   1481\u001b[0m \u001b[39m    \"\"\"\u001b[39;00m\n\u001b[0;32m   1482\u001b[0m     \u001b[39mreturn\u001b[39;00m conn\u001b[39m.\u001b[39mretry\u001b[39m.\u001b[39mcall_with_retry(\n\u001b[1;32m-> 1483\u001b[0m         \u001b[39mlambda\u001b[39;00m: command(\u001b[39m*\u001b[39margs, \u001b[39m*\u001b[39m\u001b[39m*\u001b[39mkwargs),\n\u001b[0;32m   1484\u001b[0m         \u001b[39mlambda\u001b[39;00m error: \u001b[39mself\u001b[39m\u001b[39m.\u001b[39m_disconnect_raise_connect(conn, error),\n\u001b[0;32m   1485\u001b[0m     )\n",
      "File \u001b[1;32mc:\\Projects\\betting-tracker\\.env\\lib\\site-packages\\redis\\connection.py:809\u001b[0m, in \u001b[0;36mConnection.can_read\u001b[1;34m(self, timeout)\u001b[0m\n\u001b[0;32m    807\u001b[0m     \u001b[39mself\u001b[39m\u001b[39m.\u001b[39mconnect()\n\u001b[0;32m    808\u001b[0m \u001b[39mtry\u001b[39;00m:\n\u001b[1;32m--> 809\u001b[0m     \u001b[39mreturn\u001b[39;00m \u001b[39mself\u001b[39;49m\u001b[39m.\u001b[39;49m_parser\u001b[39m.\u001b[39;49mcan_read(timeout)\n\u001b[0;32m    810\u001b[0m \u001b[39mexcept\u001b[39;00m \u001b[39mOSError\u001b[39;00m \u001b[39mas\u001b[39;00m e:\n\u001b[0;32m    811\u001b[0m     \u001b[39mself\u001b[39m\u001b[39m.\u001b[39mdisconnect()\n",
      "File \u001b[1;32mc:\\Projects\\betting-tracker\\.env\\lib\\site-packages\\redis\\connection.py:315\u001b[0m, in \u001b[0;36mPythonParser.can_read\u001b[1;34m(self, timeout)\u001b[0m\n\u001b[0;32m    314\u001b[0m \u001b[39mdef\u001b[39;00m \u001b[39mcan_read\u001b[39m(\u001b[39mself\u001b[39m, timeout):\n\u001b[1;32m--> 315\u001b[0m     \u001b[39mreturn\u001b[39;00m \u001b[39mself\u001b[39m\u001b[39m.\u001b[39m_buffer \u001b[39mand\u001b[39;00m \u001b[39mself\u001b[39;49m\u001b[39m.\u001b[39;49m_buffer\u001b[39m.\u001b[39;49mcan_read(timeout)\n",
      "File \u001b[1;32mc:\\Projects\\betting-tracker\\.env\\lib\\site-packages\\redis\\connection.py:222\u001b[0m, in \u001b[0;36mSocketBuffer.can_read\u001b[1;34m(self, timeout)\u001b[0m\n\u001b[0;32m    221\u001b[0m \u001b[39mdef\u001b[39;00m \u001b[39mcan_read\u001b[39m(\u001b[39mself\u001b[39m, timeout):\n\u001b[1;32m--> 222\u001b[0m     \u001b[39mreturn\u001b[39;00m \u001b[39mbool\u001b[39m(\u001b[39mself\u001b[39m\u001b[39m.\u001b[39mlength) \u001b[39mor\u001b[39;00m \u001b[39mself\u001b[39;49m\u001b[39m.\u001b[39;49m_read_from_socket(\n\u001b[0;32m    223\u001b[0m         timeout\u001b[39m=\u001b[39;49mtimeout, raise_on_timeout\u001b[39m=\u001b[39;49m\u001b[39mFalse\u001b[39;49;00m\n\u001b[0;32m    224\u001b[0m     )\n",
      "File \u001b[1;32mc:\\Projects\\betting-tracker\\.env\\lib\\site-packages\\redis\\connection.py:192\u001b[0m, in \u001b[0;36mSocketBuffer._read_from_socket\u001b[1;34m(self, length, timeout, raise_on_timeout)\u001b[0m\n\u001b[0;32m    190\u001b[0m     sock\u001b[39m.\u001b[39msettimeout(timeout)\n\u001b[0;32m    191\u001b[0m \u001b[39mwhile\u001b[39;00m \u001b[39mTrue\u001b[39;00m:\n\u001b[1;32m--> 192\u001b[0m     data \u001b[39m=\u001b[39m \u001b[39mself\u001b[39;49m\u001b[39m.\u001b[39;49m_sock\u001b[39m.\u001b[39;49mrecv(socket_read_size)\n\u001b[0;32m    193\u001b[0m     \u001b[39m# an empty string indicates the server shutdown the socket\u001b[39;00m\n\u001b[0;32m    194\u001b[0m     \u001b[39mif\u001b[39;00m \u001b[39misinstance\u001b[39m(data, \u001b[39mbytes\u001b[39m) \u001b[39mand\u001b[39;00m \u001b[39mlen\u001b[39m(data) \u001b[39m==\u001b[39m \u001b[39m0\u001b[39m:\n",
      "\u001b[1;31mKeyboardInterrupt\u001b[0m: "
     ]
    }
   ],
   "source": [
    "p = r.pubsub()\n",
    "p.subscribe('betsson')\n",
    "while True:\n",
    "    message = p.get_message()\n",
    "    if message:\n",
    "        print(message)"
   ]
  }
 ],
 "metadata": {
  "kernelspec": {
   "display_name": "Python 3.10.7 ('.env': venv)",
   "language": "python",
   "name": "python3"
  },
  "language_info": {
   "codemirror_mode": {
    "name": "ipython",
    "version": 3
   },
   "file_extension": ".py",
   "mimetype": "text/x-python",
   "name": "python",
   "nbconvert_exporter": "python",
   "pygments_lexer": "ipython3",
   "version": "3.10.7"
  },
  "orig_nbformat": 4,
  "vscode": {
   "interpreter": {
    "hash": "05a590c28a1fdbef745f055d3bf2851561cb20bb564b6897ba1a686f373828e9"
   }
  }
 },
 "nbformat": 4,
 "nbformat_minor": 2
}
