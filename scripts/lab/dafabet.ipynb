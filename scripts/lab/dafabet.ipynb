{
 "cells": [
  {
   "cell_type": "code",
   "execution_count": 5,
   "metadata": {},
   "outputs": [],
   "source": [
    "from core.models import r"
   ]
  },
  {
   "cell_type": "code",
   "execution_count": 8,
   "metadata": {},
   "outputs": [],
   "source": [
    "for key in r.keys(\"betwa*\"):\n",
    "    r.json().delete(key)"
   ]
  },
  {
   "cell_type": "code",
   "execution_count": 3,
   "metadata": {},
   "outputs": [],
   "source": [
    "from scrapings.dafabet import Scraping\n",
    "scraping = Scraping(headless=False)"
   ]
  },
  {
   "cell_type": "code",
   "execution_count": 4,
   "metadata": {},
   "outputs": [
    {
     "data": {
      "text/html": [
       "<pre style=\"white-space:pre;overflow-x:auto;line-height:normal;font-family:Menlo,'DejaVu Sans Mono',consolas,'Courier New',monospace\">🔗 <span style=\"color: #0000ff; text-decoration-color: #0000ff; text-decoration: underline\">https://www.dafabet.com/es/dfgoal/sports/240-football</span>\n",
       "</pre>\n"
      ],
      "text/plain": [
       "🔗 \u001b[4;94mhttps://www.dafabet.com/es/dfgoal/sports/240-football\u001b[0m\n"
      ]
     },
     "metadata": {},
     "output_type": "display_data"
    },
    {
     "data": {
      "text/html": [
       "<pre style=\"white-space:pre;overflow-x:auto;line-height:normal;font-family:Menlo,'DejaVu Sans Mono',consolas,'Courier New',monospace\">🔗 <span style=\"color: #0000ff; text-decoration-color: #0000ff; text-decoration: underline\">https://www.dafabet.com/es/dfgoal/sports/240-football/23234-international</span>\n",
       "</pre>\n"
      ],
      "text/plain": [
       "🔗 \u001b[4;94mhttps://www.dafabet.com/es/dfgoal/sports/240-football/23234-international\u001b[0m\n"
      ]
     },
     "metadata": {},
     "output_type": "display_data"
    },
    {
     "data": {
      "text/html": [
       "<pre style=\"white-space:pre;overflow-x:auto;line-height:normal;font-family:Menlo,'DejaVu Sans Mono',consolas,'Courier New',monospace\">✅ <span style=\"font-weight: bold\">{</span><span style=\"color: #008000; text-decoration-color: #008000\">'id'</span>: \n",
       "<span style=\"color: #008000; text-decoration-color: #008000\">'https://www.dafabet.com/es/dfgoal/sports/240-football/23234-international/212108-world-cup/37234773-daily-odds-boo</span>\n",
       "<span style=\"color: #008000; text-decoration-color: #008000\">ster/event-36194441-argentina-vs-croatia'</span>, <span style=\"color: #008000; text-decoration-color: #008000\">'websiteId'</span>: <span style=\"color: #008000; text-decoration-color: #008000\">'dafabet.com'</span>, <span style=\"color: #008000; text-decoration-color: #008000\">'urlSource'</span>: \n",
       "<span style=\"color: #008000; text-decoration-color: #008000\">'https://www.dafabet.com/es/dfgoal/sports/240-football/23234-international'</span>, <span style=\"color: #008000; text-decoration-color: #008000\">'sport'</span>: <span style=\"color: #008000; text-decoration-color: #008000\">'futbol'</span>, <span style=\"color: #008000; text-decoration-color: #008000\">'fullName'</span>: \n",
       "<span style=\"color: #008000; text-decoration-color: #008000\">'Argentina vs Croacia'</span>, <span style=\"color: #008000; text-decoration-color: #008000\">'firstTeam'</span>: <span style=\"color: #008000; text-decoration-color: #008000\">'Argentina'</span>, <span style=\"color: #008000; text-decoration-color: #008000\">'secondTeam'</span>: <span style=\"color: #008000; text-decoration-color: #008000\">'Croacia'</span>, <span style=\"color: #008000; text-decoration-color: #008000\">'scraping'</span>: <span style=\"color: #ff0000; text-decoration-color: #ff0000; font-style: italic\">False</span>, <span style=\"color: #008000; text-decoration-color: #008000\">'lastUpdate'</span>: <span style=\"color: #800080; text-decoration-color: #800080; font-style: italic\">None</span><span style=\"font-weight: bold\">}</span>\n",
       "</pre>\n"
      ],
      "text/plain": [
       "✅ \u001b[1m{\u001b[0m\u001b[32m'id'\u001b[0m: \n",
       "\u001b[32m'https://www.dafabet.com/es/dfgoal/sports/240-football/23234-international/212108-world-cup/37234773-daily-odds-boo\u001b[0m\n",
       "\u001b[32mster/event-36194441-argentina-vs-croatia'\u001b[0m, \u001b[32m'websiteId'\u001b[0m: \u001b[32m'dafabet.com'\u001b[0m, \u001b[32m'urlSource'\u001b[0m: \n",
       "\u001b[32m'https://www.dafabet.com/es/dfgoal/sports/240-football/23234-international'\u001b[0m, \u001b[32m'sport'\u001b[0m: \u001b[32m'futbol'\u001b[0m, \u001b[32m'fullName'\u001b[0m: \n",
       "\u001b[32m'Argentina vs Croacia'\u001b[0m, \u001b[32m'firstTeam'\u001b[0m: \u001b[32m'Argentina'\u001b[0m, \u001b[32m'secondTeam'\u001b[0m: \u001b[32m'Croacia'\u001b[0m, \u001b[32m'scraping'\u001b[0m: \u001b[3;91mFalse\u001b[0m, \u001b[32m'lastUpdate'\u001b[0m: \u001b[3;35mNone\u001b[0m\u001b[1m}\u001b[0m\n"
      ]
     },
     "metadata": {},
     "output_type": "display_data"
    },
    {
     "data": {
      "text/html": [
       "<pre style=\"white-space:pre;overflow-x:auto;line-height:normal;font-family:Menlo,'DejaVu Sans Mono',consolas,'Courier New',monospace\">✅ <span style=\"font-weight: bold\">{</span><span style=\"color: #008000; text-decoration-color: #008000\">'id'</span>: \n",
       "<span style=\"color: #008000; text-decoration-color: #008000\">'https://www.dafabet.com/es/dfgoal/sports/240-football/23234-international/212108-world-cup/37234773-daily-odds-boo</span>\n",
       "<span style=\"color: #008000; text-decoration-color: #008000\">ster/event-36194442-france-vs-morocco'</span>, <span style=\"color: #008000; text-decoration-color: #008000\">'websiteId'</span>: <span style=\"color: #008000; text-decoration-color: #008000\">'dafabet.com'</span>, <span style=\"color: #008000; text-decoration-color: #008000\">'urlSource'</span>: \n",
       "<span style=\"color: #008000; text-decoration-color: #008000\">'https://www.dafabet.com/es/dfgoal/sports/240-football/23234-international'</span>, <span style=\"color: #008000; text-decoration-color: #008000\">'sport'</span>: <span style=\"color: #008000; text-decoration-color: #008000\">'futbol'</span>, <span style=\"color: #008000; text-decoration-color: #008000\">'fullName'</span>: \n",
       "<span style=\"color: #008000; text-decoration-color: #008000\">'Francia vs Marruecos'</span>, <span style=\"color: #008000; text-decoration-color: #008000\">'firstTeam'</span>: <span style=\"color: #008000; text-decoration-color: #008000\">'Francia'</span>, <span style=\"color: #008000; text-decoration-color: #008000\">'secondTeam'</span>: <span style=\"color: #008000; text-decoration-color: #008000\">'Marruecos'</span>, <span style=\"color: #008000; text-decoration-color: #008000\">'scraping'</span>: <span style=\"color: #ff0000; text-decoration-color: #ff0000; font-style: italic\">False</span>, <span style=\"color: #008000; text-decoration-color: #008000\">'lastUpdate'</span>: <span style=\"color: #800080; text-decoration-color: #800080; font-style: italic\">None</span><span style=\"font-weight: bold\">}</span>\n",
       "</pre>\n"
      ],
      "text/plain": [
       "✅ \u001b[1m{\u001b[0m\u001b[32m'id'\u001b[0m: \n",
       "\u001b[32m'https://www.dafabet.com/es/dfgoal/sports/240-football/23234-international/212108-world-cup/37234773-daily-odds-boo\u001b[0m\n",
       "\u001b[32mster/event-36194442-france-vs-morocco'\u001b[0m, \u001b[32m'websiteId'\u001b[0m: \u001b[32m'dafabet.com'\u001b[0m, \u001b[32m'urlSource'\u001b[0m: \n",
       "\u001b[32m'https://www.dafabet.com/es/dfgoal/sports/240-football/23234-international'\u001b[0m, \u001b[32m'sport'\u001b[0m: \u001b[32m'futbol'\u001b[0m, \u001b[32m'fullName'\u001b[0m: \n",
       "\u001b[32m'Francia vs Marruecos'\u001b[0m, \u001b[32m'firstTeam'\u001b[0m: \u001b[32m'Francia'\u001b[0m, \u001b[32m'secondTeam'\u001b[0m: \u001b[32m'Marruecos'\u001b[0m, \u001b[32m'scraping'\u001b[0m: \u001b[3;91mFalse\u001b[0m, \u001b[32m'lastUpdate'\u001b[0m: \u001b[3;35mNone\u001b[0m\u001b[1m}\u001b[0m\n"
      ]
     },
     "metadata": {},
     "output_type": "display_data"
    },
    {
     "data": {
      "text/html": [
       "<pre style=\"white-space:pre;overflow-x:auto;line-height:normal;font-family:Menlo,'DejaVu Sans Mono',consolas,'Courier New',monospace\">✅ <span style=\"font-weight: bold\">{</span><span style=\"color: #008000; text-decoration-color: #008000\">'id'</span>: \n",
       "<span style=\"color: #008000; text-decoration-color: #008000\">'https://www.dafabet.com/es/dfgoal/sports/240-football/23234-international/212108-world-cup/event-36309133-argentin</span>\n",
       "<span style=\"color: #008000; text-decoration-color: #008000\">a-vs-croatia'</span>, <span style=\"color: #008000; text-decoration-color: #008000\">'websiteId'</span>: <span style=\"color: #008000; text-decoration-color: #008000\">'dafabet.com'</span>, <span style=\"color: #008000; text-decoration-color: #008000\">'urlSource'</span>: \n",
       "<span style=\"color: #008000; text-decoration-color: #008000\">'https://www.dafabet.com/es/dfgoal/sports/240-football/23234-international'</span>, <span style=\"color: #008000; text-decoration-color: #008000\">'sport'</span>: <span style=\"color: #008000; text-decoration-color: #008000\">'futbol'</span>, <span style=\"color: #008000; text-decoration-color: #008000\">'fullName'</span>: \n",
       "<span style=\"color: #008000; text-decoration-color: #008000\">'Argentina vs Croacia'</span>, <span style=\"color: #008000; text-decoration-color: #008000\">'firstTeam'</span>: <span style=\"color: #008000; text-decoration-color: #008000\">'Argentina'</span>, <span style=\"color: #008000; text-decoration-color: #008000\">'secondTeam'</span>: <span style=\"color: #008000; text-decoration-color: #008000\">'Croacia'</span>, <span style=\"color: #008000; text-decoration-color: #008000\">'scraping'</span>: <span style=\"color: #ff0000; text-decoration-color: #ff0000; font-style: italic\">False</span>, <span style=\"color: #008000; text-decoration-color: #008000\">'lastUpdate'</span>: <span style=\"color: #800080; text-decoration-color: #800080; font-style: italic\">None</span><span style=\"font-weight: bold\">}</span>\n",
       "</pre>\n"
      ],
      "text/plain": [
       "✅ \u001b[1m{\u001b[0m\u001b[32m'id'\u001b[0m: \n",
       "\u001b[32m'https://www.dafabet.com/es/dfgoal/sports/240-football/23234-international/212108-world-cup/event-36309133-argentin\u001b[0m\n",
       "\u001b[32ma-vs-croatia'\u001b[0m, \u001b[32m'websiteId'\u001b[0m: \u001b[32m'dafabet.com'\u001b[0m, \u001b[32m'urlSource'\u001b[0m: \n",
       "\u001b[32m'https://www.dafabet.com/es/dfgoal/sports/240-football/23234-international'\u001b[0m, \u001b[32m'sport'\u001b[0m: \u001b[32m'futbol'\u001b[0m, \u001b[32m'fullName'\u001b[0m: \n",
       "\u001b[32m'Argentina vs Croacia'\u001b[0m, \u001b[32m'firstTeam'\u001b[0m: \u001b[32m'Argentina'\u001b[0m, \u001b[32m'secondTeam'\u001b[0m: \u001b[32m'Croacia'\u001b[0m, \u001b[32m'scraping'\u001b[0m: \u001b[3;91mFalse\u001b[0m, \u001b[32m'lastUpdate'\u001b[0m: \u001b[3;35mNone\u001b[0m\u001b[1m}\u001b[0m\n"
      ]
     },
     "metadata": {},
     "output_type": "display_data"
    },
    {
     "data": {
      "text/html": [
       "<pre style=\"white-space:pre;overflow-x:auto;line-height:normal;font-family:Menlo,'DejaVu Sans Mono',consolas,'Courier New',monospace\">✅ <span style=\"font-weight: bold\">{</span><span style=\"color: #008000; text-decoration-color: #008000\">'id'</span>: \n",
       "<span style=\"color: #008000; text-decoration-color: #008000\">'https://www.dafabet.com/es/dfgoal/sports/240-football/23234-international/212108-world-cup/event-36312303-france-v</span>\n",
       "<span style=\"color: #008000; text-decoration-color: #008000\">s-morocco'</span>, <span style=\"color: #008000; text-decoration-color: #008000\">'websiteId'</span>: <span style=\"color: #008000; text-decoration-color: #008000\">'dafabet.com'</span>, <span style=\"color: #008000; text-decoration-color: #008000\">'urlSource'</span>: \n",
       "<span style=\"color: #008000; text-decoration-color: #008000\">'https://www.dafabet.com/es/dfgoal/sports/240-football/23234-international'</span>, <span style=\"color: #008000; text-decoration-color: #008000\">'sport'</span>: <span style=\"color: #008000; text-decoration-color: #008000\">'futbol'</span>, <span style=\"color: #008000; text-decoration-color: #008000\">'fullName'</span>: \n",
       "<span style=\"color: #008000; text-decoration-color: #008000\">'Francia vs Marruecos'</span>, <span style=\"color: #008000; text-decoration-color: #008000\">'firstTeam'</span>: <span style=\"color: #008000; text-decoration-color: #008000\">'Francia'</span>, <span style=\"color: #008000; text-decoration-color: #008000\">'secondTeam'</span>: <span style=\"color: #008000; text-decoration-color: #008000\">'Marruecos'</span>, <span style=\"color: #008000; text-decoration-color: #008000\">'scraping'</span>: <span style=\"color: #ff0000; text-decoration-color: #ff0000; font-style: italic\">False</span>, <span style=\"color: #008000; text-decoration-color: #008000\">'lastUpdate'</span>: <span style=\"color: #800080; text-decoration-color: #800080; font-style: italic\">None</span><span style=\"font-weight: bold\">}</span>\n",
       "</pre>\n"
      ],
      "text/plain": [
       "✅ \u001b[1m{\u001b[0m\u001b[32m'id'\u001b[0m: \n",
       "\u001b[32m'https://www.dafabet.com/es/dfgoal/sports/240-football/23234-international/212108-world-cup/event-36312303-france-v\u001b[0m\n",
       "\u001b[32ms-morocco'\u001b[0m, \u001b[32m'websiteId'\u001b[0m: \u001b[32m'dafabet.com'\u001b[0m, \u001b[32m'urlSource'\u001b[0m: \n",
       "\u001b[32m'https://www.dafabet.com/es/dfgoal/sports/240-football/23234-international'\u001b[0m, \u001b[32m'sport'\u001b[0m: \u001b[32m'futbol'\u001b[0m, \u001b[32m'fullName'\u001b[0m: \n",
       "\u001b[32m'Francia vs Marruecos'\u001b[0m, \u001b[32m'firstTeam'\u001b[0m: \u001b[32m'Francia'\u001b[0m, \u001b[32m'secondTeam'\u001b[0m: \u001b[32m'Marruecos'\u001b[0m, \u001b[32m'scraping'\u001b[0m: \u001b[3;91mFalse\u001b[0m, \u001b[32m'lastUpdate'\u001b[0m: \u001b[3;35mNone\u001b[0m\u001b[1m}\u001b[0m\n"
      ]
     },
     "metadata": {},
     "output_type": "display_data"
    },
    {
     "data": {
      "text/html": [
       "<pre style=\"white-space:pre;overflow-x:auto;line-height:normal;font-family:Menlo,'DejaVu Sans Mono',consolas,'Courier New',monospace\">✅ <span style=\"font-weight: bold\">{</span><span style=\"color: #008000; text-decoration-color: #008000\">'id'</span>: \n",
       "<span style=\"color: #008000; text-decoration-color: #008000\">'https://www.dafabet.com/es/dfgoal/sports/240-football/23234-international/42868-international-friendly-games/event</span>\n",
       "<span style=\"color: #008000; text-decoration-color: #008000\">-36313985-vietnam-vs-philippines'</span>, <span style=\"color: #008000; text-decoration-color: #008000\">'websiteId'</span>: <span style=\"color: #008000; text-decoration-color: #008000\">'dafabet.com'</span>, <span style=\"color: #008000; text-decoration-color: #008000\">'urlSource'</span>: \n",
       "<span style=\"color: #008000; text-decoration-color: #008000\">'https://www.dafabet.com/es/dfgoal/sports/240-football/23234-international'</span>, <span style=\"color: #008000; text-decoration-color: #008000\">'sport'</span>: <span style=\"color: #008000; text-decoration-color: #008000\">'futbol'</span>, <span style=\"color: #008000; text-decoration-color: #008000\">'fullName'</span>: \n",
       "<span style=\"color: #008000; text-decoration-color: #008000\">'VIETNAM vs Filipinas'</span>, <span style=\"color: #008000; text-decoration-color: #008000\">'firstTeam'</span>: <span style=\"color: #008000; text-decoration-color: #008000\">'VIETNAM'</span>, <span style=\"color: #008000; text-decoration-color: #008000\">'secondTeam'</span>: <span style=\"color: #008000; text-decoration-color: #008000\">'Filipinas'</span>, <span style=\"color: #008000; text-decoration-color: #008000\">'scraping'</span>: <span style=\"color: #ff0000; text-decoration-color: #ff0000; font-style: italic\">False</span>, <span style=\"color: #008000; text-decoration-color: #008000\">'lastUpdate'</span>: <span style=\"color: #800080; text-decoration-color: #800080; font-style: italic\">None</span><span style=\"font-weight: bold\">}</span>\n",
       "</pre>\n"
      ],
      "text/plain": [
       "✅ \u001b[1m{\u001b[0m\u001b[32m'id'\u001b[0m: \n",
       "\u001b[32m'https://www.dafabet.com/es/dfgoal/sports/240-football/23234-international/42868-international-friendly-games/event\u001b[0m\n",
       "\u001b[32m-36313985-vietnam-vs-philippines'\u001b[0m, \u001b[32m'websiteId'\u001b[0m: \u001b[32m'dafabet.com'\u001b[0m, \u001b[32m'urlSource'\u001b[0m: \n",
       "\u001b[32m'https://www.dafabet.com/es/dfgoal/sports/240-football/23234-international'\u001b[0m, \u001b[32m'sport'\u001b[0m: \u001b[32m'futbol'\u001b[0m, \u001b[32m'fullName'\u001b[0m: \n",
       "\u001b[32m'VIETNAM vs Filipinas'\u001b[0m, \u001b[32m'firstTeam'\u001b[0m: \u001b[32m'VIETNAM'\u001b[0m, \u001b[32m'secondTeam'\u001b[0m: \u001b[32m'Filipinas'\u001b[0m, \u001b[32m'scraping'\u001b[0m: \u001b[3;91mFalse\u001b[0m, \u001b[32m'lastUpdate'\u001b[0m: \u001b[3;35mNone\u001b[0m\u001b[1m}\u001b[0m\n"
      ]
     },
     "metadata": {},
     "output_type": "display_data"
    },
    {
     "data": {
      "text/html": [
       "<pre style=\"white-space:pre;overflow-x:auto;line-height:normal;font-family:Menlo,'DejaVu Sans Mono',consolas,'Courier New',monospace\">✅ <span style=\"font-weight: bold\">{</span><span style=\"color: #008000; text-decoration-color: #008000\">'id'</span>: \n",
       "<span style=\"color: #008000; text-decoration-color: #008000\">'https://www.dafabet.com/es/dfgoal/sports/240-football/23234-international/42868-international-friendly-games/event</span>\n",
       "<span style=\"color: #008000; text-decoration-color: #008000\">-36310446-malaysia-vs-maldives'</span>, <span style=\"color: #008000; text-decoration-color: #008000\">'websiteId'</span>: <span style=\"color: #008000; text-decoration-color: #008000\">'dafabet.com'</span>, <span style=\"color: #008000; text-decoration-color: #008000\">'urlSource'</span>: \n",
       "<span style=\"color: #008000; text-decoration-color: #008000\">'https://www.dafabet.com/es/dfgoal/sports/240-football/23234-international'</span>, <span style=\"color: #008000; text-decoration-color: #008000\">'sport'</span>: <span style=\"color: #008000; text-decoration-color: #008000\">'futbol'</span>, <span style=\"color: #008000; text-decoration-color: #008000\">'fullName'</span>: \n",
       "<span style=\"color: #008000; text-decoration-color: #008000\">'Malasia vs República de las Maldivas'</span>, <span style=\"color: #008000; text-decoration-color: #008000\">'firstTeam'</span>: <span style=\"color: #008000; text-decoration-color: #008000\">'Malasia'</span>, <span style=\"color: #008000; text-decoration-color: #008000\">'secondTeam'</span>: <span style=\"color: #008000; text-decoration-color: #008000\">'República de las Maldivas'</span>, \n",
       "<span style=\"color: #008000; text-decoration-color: #008000\">'scraping'</span>: <span style=\"color: #ff0000; text-decoration-color: #ff0000; font-style: italic\">False</span>, <span style=\"color: #008000; text-decoration-color: #008000\">'lastUpdate'</span>: <span style=\"color: #800080; text-decoration-color: #800080; font-style: italic\">None</span><span style=\"font-weight: bold\">}</span>\n",
       "</pre>\n"
      ],
      "text/plain": [
       "✅ \u001b[1m{\u001b[0m\u001b[32m'id'\u001b[0m: \n",
       "\u001b[32m'https://www.dafabet.com/es/dfgoal/sports/240-football/23234-international/42868-international-friendly-games/event\u001b[0m\n",
       "\u001b[32m-36310446-malaysia-vs-maldives'\u001b[0m, \u001b[32m'websiteId'\u001b[0m: \u001b[32m'dafabet.com'\u001b[0m, \u001b[32m'urlSource'\u001b[0m: \n",
       "\u001b[32m'https://www.dafabet.com/es/dfgoal/sports/240-football/23234-international'\u001b[0m, \u001b[32m'sport'\u001b[0m: \u001b[32m'futbol'\u001b[0m, \u001b[32m'fullName'\u001b[0m: \n",
       "\u001b[32m'Malasia vs República de las Maldivas'\u001b[0m, \u001b[32m'firstTeam'\u001b[0m: \u001b[32m'Malasia'\u001b[0m, \u001b[32m'secondTeam'\u001b[0m: \u001b[32m'República de las Maldivas'\u001b[0m, \n",
       "\u001b[32m'scraping'\u001b[0m: \u001b[3;91mFalse\u001b[0m, \u001b[32m'lastUpdate'\u001b[0m: \u001b[3;35mNone\u001b[0m\u001b[1m}\u001b[0m\n"
      ]
     },
     "metadata": {},
     "output_type": "display_data"
    }
   ],
   "source": [
    "url = 'https://www.dafabet.com/es/dfgoal/sports/240-football/23234-international'\n",
    "scraping.get_games(max_pages=1)"
   ]
  },
  {
   "cell_type": "code",
   "execution_count": 6,
   "metadata": {},
   "outputs": [
    {
     "name": "stdout",
     "output_type": "stream",
     "text": [
      "Argentina vs Croacia\n",
      "Francia vs Marruecos\n",
      "Argentina vs Croacia\n",
      "Francia vs Marruecos\n",
      "VIETNAM vs Filipinas\n",
      "Malasia vs República de las Maldivas\n"
     ]
    }
   ],
   "source": [
    "from selenium.webdriver.common.by import By\n",
    "for elm in scraping.driver.find_elements(By.CSS_SELECTOR, '.event-description'):\n",
    "    text = elm.get_attribute('innerText')\n",
    "    first = text.split('vs')[0].strip()\n",
    "    secound = text.split('vs')[1].strip()\n",
    "    print(f'{first} vs {secound}')"
   ]
  }
 ],
 "metadata": {
  "kernelspec": {
   "display_name": ".env",
   "language": "python",
   "name": "python3"
  },
  "language_info": {
   "codemirror_mode": {
    "name": "ipython",
    "version": 3
   },
   "file_extension": ".py",
   "mimetype": "text/x-python",
   "name": "python",
   "nbconvert_exporter": "python",
   "pygments_lexer": "ipython3",
   "version": "3.10.7 (tags/v3.10.7:6cc6b13, Sep  5 2022, 14:08:36) [MSC v.1933 64 bit (AMD64)]"
  },
  "orig_nbformat": 4,
  "vscode": {
   "interpreter": {
    "hash": "d93b7cf8377a7b4b70e5aacb35380c6fb24fe780e3e5e5dda0f77aaf50ba8a4e"
   }
  }
 },
 "nbformat": 4,
 "nbformat_minor": 2
}
