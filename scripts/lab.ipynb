{
 "cells": [
  {
   "cell_type": "code",
   "execution_count": 1,
   "metadata": {},
   "outputs": [],
   "source": [
    "from selenium.webdriver.common.by import By\n",
    "from core.webdriver import init_driver\n",
    "from core.models import Game\n",
    "from core.utils import scroll_down\n",
    "from time import sleep\n",
    "from redis_om import Migrator\n",
    "#from rich import print"
   ]
  },
  {
   "cell_type": "code",
   "execution_count": 3,
   "metadata": {},
   "outputs": [],
   "source": [
    "driver = init_driver(False)\n",
    "url = 'https://pe.betano.com/sport/futbol/'\n",
    "driver.get(url)"
   ]
  },
  {
   "cell_type": "code",
   "execution_count": 5,
   "metadata": {},
   "outputs": [],
   "source": [
    "urls = [elm.get_attribute('href') for elm in driver.find_elements(By.CSS_SELECTOR, '.sb-checkbox__link.sb-checkbox__link__section')]"
   ]
  },
  {
   "cell_type": "code",
   "execution_count": 6,
   "metadata": {},
   "outputs": [
    {
     "data": {
      "text/plain": [
       "['https://pe.betano.com/sport/futbol/campeonatos/copa-del-mundo-2022/189167/',\n",
       " 'https://pe.betano.com/sport/futbol/campeonatos/euro-2024/189663/',\n",
       " 'https://pe.betano.com/sport/futbol/campeonatos/uefa/188975/',\n",
       " 'https://pe.betano.com/sport/futbol/campeonatos/clubes-internacionales/11396/',\n",
       " 'https://pe.betano.com/sport/futbol/campeonatos/conmebol-clubs/11318/',\n",
       " 'https://pe.betano.com/sport/futbol/campeonatos/liga-de-campeones/188566/',\n",
       " 'https://pe.betano.com/sport/futbol/campeonatos/liga-de-europa/188567/',\n",
       " 'https://pe.betano.com/sport/futbol/campeonatos/liga-europa-conferencia/189602/',\n",
       " 'https://pe.betano.com/sport/futbol/campeonatos/inglaterra/1/',\n",
       " 'https://pe.betano.com/sport/futbol/campeonatos/argentina/11319/',\n",
       " 'https://pe.betano.com/sport/futbol/campeonatos/brasil/10004/',\n",
       " 'https://pe.betano.com/sport/futbol/campeonatos/francia/23/',\n",
       " 'https://pe.betano.com/sport/futbol/campeonatos/alemania/24/',\n",
       " 'https://pe.betano.com/sport/futbol/campeonatos/italia/87/',\n",
       " 'https://pe.betano.com/sport/futbol/campeonatos/espana/2/',\n",
       " 'https://pe.betano.com/sport/futbol/campeonatos/armenia/11427/',\n",
       " 'https://pe.betano.com/sport/futbol/campeonatos/austria/11322/',\n",
       " 'https://pe.betano.com/sport/futbol/campeonatos/azerbaiyan/11428/',\n",
       " 'https://pe.betano.com/sport/futbol/campeonatos/belgica/11324/',\n",
       " 'https://pe.betano.com/sport/futbol/campeonatos/bulgaria/11328/',\n",
       " 'https://pe.betano.com/sport/futbol/campeonatos/chipre/11336/',\n",
       " 'https://pe.betano.com/sport/futbol/campeonatos/croacia/11334/',\n",
       " 'https://pe.betano.com/sport/futbol/campeonatos/dinamarca/11339/',\n",
       " 'https://pe.betano.com/sport/futbol/campeonatos/escocia/91/',\n",
       " 'https://pe.betano.com/sport/futbol/campeonatos/eslovaquia/11392/',\n",
       " 'https://pe.betano.com/sport/futbol/campeonatos/eslovenia/11435/',\n",
       " 'https://pe.betano.com/sport/futbol/campeonatos/gales/11433/',\n",
       " 'https://pe.betano.com/sport/futbol/campeonatos/grecia/90/',\n",
       " 'https://pe.betano.com/sport/futbol/campeonatos/hungria/11363/',\n",
       " 'https://pe.betano.com/sport/futbol/campeonatos/irlanda/11367/',\n",
       " 'https://pe.betano.com/sport/futbol/campeonatos/irlanda-del-norte/11377/',\n",
       " 'https://pe.betano.com/sport/futbol/campeonatos/israel/11429/',\n",
       " 'https://pe.betano.com/sport/futbol/campeonatos/luxemburgo/188713/',\n",
       " 'https://pe.betano.com/sport/futbol/campeonatos/malta/11491/',\n",
       " 'https://pe.betano.com/sport/futbol/campeonatos/noruega/11378/',\n",
       " 'https://pe.betano.com/sport/futbol/campeonatos/paises-bajos/11376/',\n",
       " 'https://pe.betano.com/sport/futbol/campeonatos/polonia/11381/',\n",
       " 'https://pe.betano.com/sport/futbol/campeonatos/portugal/11382/',\n",
       " 'https://pe.betano.com/sport/futbol/campeonatos/republica-checa/11338/',\n",
       " 'https://pe.betano.com/sport/futbol/campeonatos/rumania/11383/',\n",
       " 'https://pe.betano.com/sport/futbol/campeonatos/serbia/11389/',\n",
       " 'https://pe.betano.com/sport/futbol/campeonatos/suecia/11393/',\n",
       " 'https://pe.betano.com/sport/futbol/campeonatos/suiza/11394/',\n",
       " 'https://pe.betano.com/sport/futbol/campeonatos/turquia/11384/',\n",
       " 'https://pe.betano.com/sport/futbol/campeonatos/ucrania/11386/',\n",
       " 'https://pe.betano.com/sport/futbol/campeonatos/colombia/11333/',\n",
       " 'https://pe.betano.com/sport/futbol/campeonatos/costa-rica/11453/',\n",
       " 'https://pe.betano.com/sport/futbol/campeonatos/guatemala/11434/',\n",
       " 'https://pe.betano.com/sport/futbol/campeonatos/honduras/11526/',\n",
       " 'https://pe.betano.com/sport/futbol/campeonatos/jamaica/11461/',\n",
       " 'https://pe.betano.com/sport/futbol/campeonatos/puerto-rico/189243/',\n",
       " 'https://pe.betano.com/sport/futbol/campeonatos/uruguay/11388/',\n",
       " 'https://pe.betano.com/sport/futbol/campeonatos/australia/11321/',\n",
       " 'https://pe.betano.com/sport/futbol/campeonatos/barein/11463/',\n",
       " 'https://pe.betano.com/sport/futbol/campeonatos/butan/188812/',\n",
       " 'https://pe.betano.com/sport/futbol/campeonatos/china/11332/',\n",
       " 'https://pe.betano.com/sport/futbol/campeonatos/costa-de-marfil/188628/',\n",
       " 'https://pe.betano.com/sport/futbol/campeonatos/egipto/11485/',\n",
       " 'https://pe.betano.com/sport/futbol/campeonatos/emiratos-arabes-unidos/11445/',\n",
       " 'https://pe.betano.com/sport/futbol/campeonatos/india/11369/',\n",
       " 'https://pe.betano.com/sport/futbol/campeonatos/indonesia/11412/',\n",
       " 'https://pe.betano.com/sport/futbol/campeonatos/irak/11490/',\n",
       " 'https://pe.betano.com/sport/futbol/campeonatos/iran/11477/',\n",
       " 'https://pe.betano.com/sport/futbol/campeonatos/jordania/11443/',\n",
       " 'https://pe.betano.com/sport/futbol/campeonatos/mali/188861/',\n",
       " 'https://pe.betano.com/sport/futbol/campeonatos/sudafrica/11481/',\n",
       " 'https://pe.betano.com/sport/futbol/campeonatos/tanzania/188715/',\n",
       " 'https://pe.betano.com/sport/futbol/campeonatos/uganda/188506/',\n",
       " 'https://pe.betano.com/sport/futbol/campeonatos/zanzibar/189397/',\n",
       " 'https://pe.betano.com/sport/futbol/campeonatos/esports/189438/',\n",
       " 'https://pe.betano.com/sport/futbol/campeonatos/simulated-reality-league/189462/']"
      ]
     },
     "execution_count": 6,
     "metadata": {},
     "output_type": "execute_result"
    }
   ],
   "source": [
    "urls"
   ]
  }
 ],
 "metadata": {
  "kernelspec": {
   "display_name": "Python 3.10.7 ('.env': venv)",
   "language": "python",
   "name": "python3"
  },
  "language_info": {
   "codemirror_mode": {
    "name": "ipython",
    "version": 3
   },
   "file_extension": ".py",
   "mimetype": "text/x-python",
   "name": "python",
   "nbconvert_exporter": "python",
   "pygments_lexer": "ipython3",
   "version": "3.10.7"
  },
  "orig_nbformat": 4,
  "vscode": {
   "interpreter": {
    "hash": "d93b7cf8377a7b4b70e5aacb35380c6fb24fe780e3e5e5dda0f77aaf50ba8a4e"
   }
  }
 },
 "nbformat": 4,
 "nbformat_minor": 2
}
