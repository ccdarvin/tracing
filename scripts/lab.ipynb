{
 "cells": [
  {
   "cell_type": "code",
   "execution_count": null,
   "metadata": {},
   "outputs": [],
   "source": [
    "import websocket\n",
    "import json\n",
    "from urllib.parse import quote"
   ]
  },
  {
   "cell_type": "code",
   "execution_count": null,
   "metadata": {},
   "outputs": [],
   "source": [
    "ws = websocket.WebSocket()\n",
    "website_id='google.com'\n",
    "ws.connect(f'wss://plankton-app-5rfza.ondigitalocean.app/websites?scraping={website_id}')\n",
    "ws.recv()"
   ]
  },
  {
   "cell_type": "code",
   "execution_count": null,
   "metadata": {},
   "outputs": [],
   "source": [
    "ws.close()"
   ]
  },
  {
   "cell_type": "code",
   "execution_count": null,
   "metadata": {},
   "outputs": [],
   "source": [
    "ws = websocket.WebSocket()\n",
    "page_id = 'https://betway.com/es/sports/evt/10682299\",\"websiteId'\n",
    "website_id='betway.com'\n",
    "# uri = 'wss://plankton-app-5rfza.ondigitalocean.app'\n",
    "uri='ws://localhost:8000'\n",
    "ws.connect(f'{uri}/games/{website_id}?game_id={page_id}')\n",
    "ws.recv()"
   ]
  },
  {
   "cell_type": "code",
   "execution_count": 8,
   "metadata": {},
   "outputs": [
    {
     "data": {
      "text/plain": [
       "datetime.datetime(2022, 12, 10, 21, 2, 38, 819164, tzinfo=datetime.timezone.utc)"
      ]
     },
     "execution_count": 8,
     "metadata": {},
     "output_type": "execute_result"
    }
   ],
   "source": [
    "from datetime import datetime, timezone\n",
    "datetime.now(timezone.utc)"
   ]
  },
  {
   "cell_type": "code",
   "execution_count": 42,
   "metadata": {},
   "outputs": [],
   "source": [
    "from core.models import r\n",
    "from redis.commands.search.query import Query, NumericFilter\n",
    "from  redis.commands.search import aggregation\n",
    "from redis.commands.search import reducers"
   ]
  },
  {
   "cell_type": "code",
   "execution_count": 70,
   "metadata": {},
   "outputs": [
    {
     "data": {
      "text/plain": [
       "Result{3 total, docs: [Document {'id': 'games:betano.com:pe./cuotas-de-partido/ado-20-groene-ster/30370892/', 'payload': None, 'json': '{\"id\":\"https://pe.betano.com/cuotas-de-partido/ado-20-groene-ster/30370892/\",\"websiteId\":\"betano.com\",\"urlSource\":\"https://pe.betano.com/sport/futbol/campeonatos/paises-bajos/11376/\",\"sport\":\"futbol\",\"fullName\":\"Ado 20 vs Groene Ster\",\"firstTeam\":\"Ado 20\",\"secoundTeam\":\"Groene Ster\",\"scraping\":false,\"lastUpdate\":\"2022-12-10T21:13:33.019403+00:00\"}'}, Document {'id': 'games:betano.com:pe./cuotas-de-partido/coleraine-sub-20-ballymena-united-sub-20/30236431/', 'payload': None, 'json': '{\"id\":\"https://pe.betano.com/cuotas-de-partido/coleraine-sub-20-ballymena-united-sub-20/30236431/\",\"websiteId\":\"betano.com\",\"urlSource\":\"https://pe.betano.com/sport/futbol/campeonatos/irlanda-del-norte/11377/\",\"sport\":\"futbol\",\"fullName\":\"Coleraine Sub-20 vs Ballymena United Sub-20\",\"firstTeam\":\"Coleraine Sub-20\",\"secoundTeam\":\"Ballymena United Sub-20\",\"scraping\":false,\"lastUpdate\":\"2022-12-10T21:12:34.580787+00:00\"}'}, Document {'id': 'games:betway.com:/es/sports/evt/10689120', 'payload': None, 'json': '{\"id\":\"https://betway.com/es/sports/evt/10689120\",\"websiteId\":\"betway.com\",\"urlSource\":\"https://betway.com/es/sports/cpn/soccer/90\",\"sport\":\"futbol\",\"fullName\":\"Alajuelense Sub 20 vs Santos de Guápiles Sub 20\",\"firstTeam\":\"Alajuelense Sub 20\",\"secoundTeam\":\"Santos de Guápiles Sub 20\",\"scraping\":true}'}]}"
      ]
     },
     "execution_count": 70,
     "metadata": {},
     "output_type": "execute_result"
    }
   ],
   "source": [
    "r.ft('idxGames').search(Query('20').sort_by('lastScraping', asc=True))"
   ]
  },
  {
   "cell_type": "code",
   "execution_count": null,
   "metadata": {},
   "outputs": [],
   "source": [
    "from core.webdriver import init_driver\n",
    "from selenium.webdriver.common.by import By\n",
    "from core.models import Bet\n",
    "from time import sleep\n",
    "driver = init_driver()\n",
    "url='https://betway.com/es/sports/evt/10682245'\n",
    "driver.get(url)"
   ]
  },
  {
   "cell_type": "code",
   "execution_count": null,
   "metadata": {},
   "outputs": [],
   "source": [
    "sleep(10)\n",
    "status_code = driver.find_element(By.CSS_SELECTOR, 'meta[http-equiv=\"status\"]').get_attribute('content')\n",
    "print(status_code == '404')"
   ]
  },
  {
   "cell_type": "code",
   "execution_count": null,
   "metadata": {},
   "outputs": [],
   "source": [
    "def get_bids(page_url):\n",
    "    for elm in driver.find_elements(By.CSS_SELECTOR, '.collapsablePanel'):\n",
    "        collapsed_elm = elm.find_element(By.CSS_SELECTOR, '.collapsableContent')\n",
    "        if 'empty' in collapsed_elm.get_attribute('class'):\n",
    "            try:\n",
    "                elm.click()\n",
    "            except:\n",
    "                pass\n",
    "        try:\n",
    "            header_elm = elm.find_element(By.CSS_SELECTOR, '.titleText>.title')\n",
    "            cashout_elm = elm.find_element(By.CSS_SELECTOR, '.cashOutMarketIndicatorContainer')\n",
    "        except:\n",
    "            continue    \n",
    "        try:\n",
    "            labels_elms = elm.find_elements(By.CSS_SELECTOR, '.outcomeHeader, .outcomeItemHeader')\n",
    "            odds_elms = elm.find_elements(By.CSS_SELECTOR, '.oddsDisplay')\n",
    "        except:\n",
    "            continue\n",
    "        \n",
    "        for labels_elm, odds_elm in zip(labels_elms, odds_elms):\n",
    "            try:\n",
    "                group = header_elm.text.strip()\n",
    "                name = labels_elm.text.strip()\n",
    "                bet = Bet(\n",
    "                    id=f'{group}-{name}'.replace(' ', '-').lower(),\n",
    "                    websiteId='betway.com',\n",
    "                    gameId=page_url,\n",
    "                    group=group, \n",
    "                    name=name, \n",
    "                    bet=float(odds_elm.text.replace(',', '.'))\n",
    "                )\n",
    "            except Exception as e:\n",
    "                print('Error', e)"
   ]
  },
  {
   "cell_type": "code",
   "execution_count": null,
   "metadata": {},
   "outputs": [],
   "source": [
    "get_bids(url)"
   ]
  }
 ],
 "metadata": {
  "kernelspec": {
   "display_name": "Python 3.10.7 ('.env': venv)",
   "language": "python",
   "name": "python3"
  },
  "language_info": {
   "codemirror_mode": {
    "name": "ipython",
    "version": 3
   },
   "file_extension": ".py",
   "mimetype": "text/x-python",
   "name": "python",
   "nbconvert_exporter": "python",
   "pygments_lexer": "ipython3",
   "version": "3.10.7"
  },
  "orig_nbformat": 4,
  "vscode": {
   "interpreter": {
    "hash": "d93b7cf8377a7b4b70e5aacb35380c6fb24fe780e3e5e5dda0f77aaf50ba8a4e"
   }
  }
 },
 "nbformat": 4,
 "nbformat_minor": 2
}
