{
 "cells": [
  {
   "cell_type": "code",
   "execution_count": 2,
   "metadata": {},
   "outputs": [],
   "source": [
    "import redis\n",
    "\n",
    "r = redis.Redis(\n",
    "  host='redis-12622.c277.us-east-1-3.ec2.cloud.redislabs.com',\n",
    "  port=12622,\n",
    "  password='TxVYpEfg4DwZSjDxerOiWxNEhgIZouKa')"
   ]
  },
  {
   "cell_type": "code",
   "execution_count": 7,
   "metadata": {},
   "outputs": [],
   "source": [
    "p = r.pubsub()\n",
    "p.subscribe('betson')\n",
    "p.get_message()"
   ]
  }
 ],
 "metadata": {
  "kernelspec": {
   "display_name": "Python 3.10.7 ('.env': venv)",
   "language": "python",
   "name": "python3"
  },
  "language_info": {
   "codemirror_mode": {
    "name": "ipython",
    "version": 3
   },
   "file_extension": ".py",
   "mimetype": "text/x-python",
   "name": "python",
   "nbconvert_exporter": "python",
   "pygments_lexer": "ipython3",
   "version": "3.10.7"
  },
  "orig_nbformat": 4,
  "vscode": {
   "interpreter": {
    "hash": "05a590c28a1fdbef745f055d3bf2851561cb20bb564b6897ba1a686f373828e9"
   }
  }
 },
 "nbformat": 4,
 "nbformat_minor": 2
}
